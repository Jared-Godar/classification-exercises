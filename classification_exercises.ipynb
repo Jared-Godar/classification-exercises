{
 "cells": [
  {
   "cell_type": "markdown",
   "id": "84827ce1",
   "metadata": {},
   "source": [
    "<h2 id=\"exercises\">Exercises</h2>\n",
    "<p>The end product of these exercise is a jupyter notebook (<code>classification_exercises.ipynb</code>) and a <code>acquire.py</code> file. The notebook will contain all your work as you move through the exercises. The <code>acquire.py</code> file should contain the final functions that acquire the data into a pandas dataframe.</p>\n",
    "<ol>\n",
    "<li>\n",
    "<p>Make a new repo called <code>classification-exercises</code> on both GitHub and within your <code>codeup-data-science</code> directory. This will be where you do your work for this module. </p>\n",
    "</li>\n",
    "<li>\n",
    "<p>Inside of your local <code>classification-exercises</code> repo, create a file named <code>.gitignore</code> and list the following file names and paths: <code>env.py</code>, <code>.DS_Store</code>, <code>.ipynb_checkpoints/</code>, <code>__pycache__</code>, <code>titanic.csv</code>, <code>iris.csv</code>, and <code>telco.csv</code>. Add and commit your <code>.gitignore</code> file before moving forward.</p>\n",
    "</li>\n",
    "<li>\n",
    "<p>Now that you are 100% sure that your <code>.gitignore</code> file lists <code>env.py</code>, create or copy your <code>env.py</code> file inside of <code>classification-exercises</code>. Running <code>git status</code> should show that git is ignoring this file.</p>\n",
    "</li>\n",
    "<li>\n",
    "<p>In a jupyter notebook, <code>classification_exercises.ipynb</code>, use a python module (pydata or seaborn datasets) containing datasets as a source from the iris data. Create a pandas dataframe, <code>df_iris</code>, from this data.</p>\n",
    "<ul>\n",
    "<li>print the first 3 rows</li>\n",
    "<li>print the number of rows and columns (shape)</li>\n",
    "<li>print the column names</li>\n",
    "<li>print the data type of each column</li>\n",
    "<li>print the summary statistics for each of the numeric variables. Would you\n",
    "  recommend rescaling the data based on these statistics?</li>\n",
    "</ul>\n",
    "</li>\n",
    "<li>\n",
    "<p>Read the <code>Table1_CustDetails</code> table from the <code>Excel_Exercises.xlsx</code> file into a\n",
    "   dataframe named <code>df_excel</code>.</p>\n",
    "<ul>\n",
    "<li>assign the first 100 rows to a new dataframe, <code>df_excel_sample</code></li>\n",
    "<li>print the number of rows of your original dataframe</li>\n",
    "<li>print the first 5 column names</li>\n",
    "<li>print the column names that have a data type of <code>object</code></li>\n",
    "<li>compute the range for each of the numeric variables.</li>\n",
    "</ul>\n",
    "</li>\n",
    "<li>\n",
    "<p>Read the data from <a href=\"https://docs.google.com/spreadsheets/d/1Uhtml8KY19LILuZsrDtlsHHDC9wuDGUSe8LTEwvdI5g/edit?usp=sharing\">this google sheet</a> into a dataframe, <code>df_google</code></p>\n",
    "<ul>\n",
    "<li>print the first 3 rows</li>\n",
    "<li>print the number of rows and columns</li>\n",
    "<li>print the column names</li>\n",
    "<li>print the data type of each column</li>\n",
    "<li>print the summary statistics for each of the numeric variables</li>\n",
    "<li>print the unique values for each of your categorical variables</li>\n",
    "</ul>\n",
    "</li>\n",
    "</ol>\n",
    "<p>Make a new python module, <code>acquire.py</code> to hold the following data aquisition functions:</p>\n",
    "<ol>\n",
    "<li>\n",
    "<p>Make a function named <code>get_titanic_data</code> that returns the titanic data from the codeup data science database as a pandas data frame. Obtain your data from the <em>Codeup Data Science Database</em>. </p>\n",
    "</li>\n",
    "<li>\n",
    "<p>Make a function named <code>get_iris_data</code> that returns the data from the <code>iris_db</code> on the codeup data science database as a pandas data frame. The returned data frame should include the actual name of the species in addition to the <code>species_id</code>s. Obtain your data from the <em>Codeup Data Science Database</em>. </p>\n",
    "</li>\n",
    "<li>\n",
    "<p>Make a function named <code>get_telco_data</code> that returns the data from the <code>telco_churn</code> database in SQL. In your SQL, be sure to join all 4 tables together, so that the resulting dataframe contains all the contract, payment, and internet service options. Obtain your data from the <em>Codeup Data Science Database</em>. </p>\n",
    "</li>\n",
    "<li>\n",
    "<p>Once you've got your <code>get_titanic_data</code>, <code>get_iris_data</code>, and <code>get_telco_data</code> functions written, now it's time to add caching to them. To do this, edit the beginning of the function to check for the local filename of <code>telco.csv</code>, <code>titanic.csv</code>, or <code>iris.csv</code>. If they exist, use the .csv file. If the file doesn't exist, then produce the SQL and pandas necessary to create a dataframe, then write the dataframe to a .csv file with the appropriate name. </p>\n",
    "</li>\n",
    "</ol>\n",
    "<p><strong>Be sure to add env.py, titanic.csv, iris.csv, and telco.csv to your .gitignore file</strong></p>"
   ]
  },
  {
   "cell_type": "code",
   "execution_count": null,
   "id": "d91dcdb9",
   "metadata": {},
   "outputs": [],
   "source": [
    "import pandas as pd\n",
    "import seaborn as sns\n",
    "import env"
   ]
  },
  {
   "cell_type": "code",
   "execution_count": null,
   "id": "52d1bc6b",
   "metadata": {},
   "outputs": [],
   "source": [
    "# Import iris data\n",
    "\n",
    "from pydataset import data\n",
    "iris = data('iris')\n",
    "df_iris = pd.DataFrame(iris)\n"
   ]
  },
  {
   "cell_type": "code",
   "execution_count": null,
   "id": "51a249c6",
   "metadata": {},
   "outputs": [],
   "source": [
    "df_iris.head(3)"
   ]
  },
  {
   "cell_type": "code",
   "execution_count": null,
   "id": "371bcde4",
   "metadata": {},
   "outputs": [],
   "source": [
    "# Consider renaming column names"
   ]
  },
  {
   "cell_type": "code",
   "execution_count": null,
   "id": "4a4ba54d",
   "metadata": {},
   "outputs": [],
   "source": [
    "df_iris.shape"
   ]
  },
  {
   "cell_type": "code",
   "execution_count": null,
   "id": "0992079c",
   "metadata": {
    "scrolled": true
   },
   "outputs": [],
   "source": [
    "df_iris = sns.load_dataset('iris')\n",
    "df_iris.head()"
   ]
  },
  {
   "cell_type": "code",
   "execution_count": null,
   "id": "1994a82e",
   "metadata": {},
   "outputs": [],
   "source": [
    "#much better names from seaborn"
   ]
  },
  {
   "cell_type": "code",
   "execution_count": null,
   "id": "877af959",
   "metadata": {
    "scrolled": true
   },
   "outputs": [],
   "source": [
    "df_iris.columns"
   ]
  },
  {
   "cell_type": "code",
   "execution_count": null,
   "id": "3acb2e90",
   "metadata": {},
   "outputs": [],
   "source": [
    "iris_columns = df_iris.columns.tolist()\n",
    "iris_columns"
   ]
  },
  {
   "cell_type": "code",
   "execution_count": null,
   "id": "8e23d350",
   "metadata": {},
   "outputs": [],
   "source": [
    "df_iris.dtypes"
   ]
  },
  {
   "cell_type": "code",
   "execution_count": null,
   "id": "807cfdb2",
   "metadata": {},
   "outputs": [],
   "source": [
    "df_iris.info()"
   ]
  },
  {
   "cell_type": "code",
   "execution_count": null,
   "id": "f9076ce3",
   "metadata": {
    "scrolled": true
   },
   "outputs": [],
   "source": [
    "iris_stats = df_iris.describe().T\n",
    "iris_stats"
   ]
  },
  {
   "cell_type": "code",
   "execution_count": null,
   "id": "86bc7ba1",
   "metadata": {
    "scrolled": true
   },
   "outputs": [],
   "source": [
    "iris_stats['range'] = iris_stats['max']-iris_stats['min']\n",
    "iris_stats"
   ]
  },
  {
   "cell_type": "code",
   "execution_count": null,
   "id": "83b96983",
   "metadata": {},
   "outputs": [],
   "source": [
    "iris_stats[['mean', 'std', 'range']]"
   ]
  },
  {
   "cell_type": "code",
   "execution_count": null,
   "id": "f1a492a3",
   "metadata": {},
   "outputs": [],
   "source": [
    "# 5. Read the Table1_CustDetails table from the Excel_Exercises.xlsx file \n",
    "#into a dataframe named df_excel.\n",
    "\n",
    "df_excel = pd.read_csv('table1.csv')\n",
    "df_excel.head()"
   ]
  },
  {
   "cell_type": "code",
   "execution_count": null,
   "id": "ac796b77",
   "metadata": {},
   "outputs": [],
   "source": [
    "df_excel.shape"
   ]
  },
  {
   "cell_type": "code",
   "execution_count": null,
   "id": "b592a054",
   "metadata": {},
   "outputs": [],
   "source": [
    "#Create new df with first hundred rows\n",
    "\n",
    "df_excel_sample = df_excel.head(100)\n",
    "df_excel_sample"
   ]
  },
  {
   "cell_type": "code",
   "execution_count": null,
   "id": "32607b81",
   "metadata": {},
   "outputs": [],
   "source": [
    "df_excel_sample.shape"
   ]
  },
  {
   "cell_type": "code",
   "execution_count": null,
   "id": "cf2a657b",
   "metadata": {},
   "outputs": [],
   "source": [
    "df_excel.dtypes"
   ]
  },
  {
   "cell_type": "code",
   "execution_count": null,
   "id": "0ba82587",
   "metadata": {
    "scrolled": true
   },
   "outputs": [],
   "source": [
    "df_excel.columns[:5]"
   ]
  },
  {
   "cell_type": "code",
   "execution_count": null,
   "id": "689fef93",
   "metadata": {},
   "outputs": [],
   "source": [
    "df_excel.select_dtypes(include='object').head()"
   ]
  },
  {
   "cell_type": "code",
   "execution_count": null,
   "id": "757eb5dc",
   "metadata": {},
   "outputs": [],
   "source": [
    "df_excel.select_dtypes(include='object').columns.tolist()"
   ]
  },
  {
   "cell_type": "code",
   "execution_count": null,
   "id": "07160c70",
   "metadata": {},
   "outputs": [],
   "source": [
    "df_excel.describe().T"
   ]
  },
  {
   "cell_type": "code",
   "execution_count": null,
   "id": "e44a777f",
   "metadata": {},
   "outputs": [],
   "source": [
    "telco_stats = df_excel[['monthly_charges', 'total_charges']].describe().T\n",
    "telco_stats"
   ]
  },
  {
   "cell_type": "code",
   "execution_count": null,
   "id": "413b0bb9",
   "metadata": {},
   "outputs": [],
   "source": [
    "telco_stats['range'] = telco_stats['max']-telco_stats['min']\n",
    "telco_stats"
   ]
  },
  {
   "cell_type": "code",
   "execution_count": null,
   "id": "573f0bef",
   "metadata": {},
   "outputs": [],
   "source": [
    "#6 Google sheet on web - save local copy\n",
    "\n",
    "df_google = pd.read_csv('train.csv')\n",
    "df_google.head(3)"
   ]
  },
  {
   "cell_type": "code",
   "execution_count": null,
   "id": "b017e054",
   "metadata": {},
   "outputs": [],
   "source": [
    "df_google.shape\n"
   ]
  },
  {
   "cell_type": "code",
   "execution_count": null,
   "id": "d3471a0c",
   "metadata": {},
   "outputs": [],
   "source": [
    "df_google.columns[:5]\n"
   ]
  },
  {
   "cell_type": "code",
   "execution_count": null,
   "id": "35adaf69",
   "metadata": {},
   "outputs": [],
   "source": [
    "list(df_google.columns)"
   ]
  },
  {
   "cell_type": "code",
   "execution_count": null,
   "id": "4c52a6cf",
   "metadata": {},
   "outputs": [],
   "source": [
    "df_google.dtypes"
   ]
  },
  {
   "cell_type": "code",
   "execution_count": null,
   "id": "10254a16",
   "metadata": {},
   "outputs": [],
   "source": [
    "df_google.describe().T"
   ]
  },
  {
   "cell_type": "code",
   "execution_count": null,
   "id": "94104795",
   "metadata": {},
   "outputs": [],
   "source": [
    "df_google.Name.unique()"
   ]
  },
  {
   "cell_type": "code",
   "execution_count": null,
   "id": "568d9e3e",
   "metadata": {},
   "outputs": [],
   "source": [
    "df_google.Sex.unique()"
   ]
  },
  {
   "cell_type": "code",
   "execution_count": null,
   "id": "32949570",
   "metadata": {},
   "outputs": [],
   "source": [
    "df_google.Ticket.unique()"
   ]
  },
  {
   "cell_type": "code",
   "execution_count": null,
   "id": "70430b15",
   "metadata": {},
   "outputs": [],
   "source": [
    "df_google.Cabin.unique()"
   ]
  },
  {
   "cell_type": "code",
   "execution_count": null,
   "id": "a0eb28cc",
   "metadata": {},
   "outputs": [],
   "source": [
    "df_google.Embarked.unique()"
   ]
  },
  {
   "cell_type": "code",
   "execution_count": null,
   "id": "226bdd91",
   "metadata": {},
   "outputs": [],
   "source": [
    "# From Ravinder review\n",
    "\n",
    "for col in df_google.columns:\n",
    "    if df_google[col].dtypes =='object':\n",
    "        print(f'{col} has {df_google[col].nunique()} unique values')"
   ]
  },
  {
   "cell_type": "code",
   "execution_count": null,
   "id": "5a36825d",
   "metadata": {},
   "outputs": [],
   "source": [
    "df_google.Pclass.value_counts(dropna=False)"
   ]
  },
  {
   "cell_type": "code",
   "execution_count": null,
   "id": "89bb9a68",
   "metadata": {},
   "outputs": [],
   "source": [
    "df_google.Sex.value_counts(dropna=False)"
   ]
  },
  {
   "cell_type": "code",
   "execution_count": null,
   "id": "6356fca8",
   "metadata": {},
   "outputs": [],
   "source": [
    "df_google.Embarked.value_counts(dropna=False)"
   ]
  },
  {
   "cell_type": "markdown",
   "id": "74db8a3d",
   "metadata": {},
   "source": [
    "---\n"
   ]
  },
  {
   "cell_type": "markdown",
   "id": "364ee56e",
   "metadata": {},
   "source": [
    "<h2 id=\"exercises\">Exercises</h2>\n",
    "<p>The end product of this exercise should be the specified functions in a python script named <code>prepare.py</code>.\n",
    "Do these in your <code>classification_exercises.ipynb</code> first, then transfer to the prepare.py file. </p>\n",
    "<p>This work should all be saved in your local <code>classification-exercises</code> repo. Then add, commit, and push your changes.</p>\n"
   ]
  },
  {
   "cell_type": "code",
   "execution_count": null,
   "id": "e8ae4c9d",
   "metadata": {},
   "outputs": [],
   "source": [
    "import math\n",
    "import pandas as pd\n",
    "import numpy as np\n",
    "import matplotlib.pyplot as plt\n",
    "\n",
    "# import splitting and imputing functions\n",
    "from sklearn.model_selection import train_test_split\n",
    "from sklearn.impute import SimpleImputer\n",
    "\n",
    "# turn off pink boxes for demo\n",
    "import warnings\n",
    "warnings.filterwarnings(\"ignore\")\n",
    "\n",
    "# import our own acquire module\n",
    "import acquire"
   ]
  },
  {
   "cell_type": "markdown",
   "id": "f7e68056",
   "metadata": {},
   "source": [
    "<p>Using the Iris Data:  </p>"
   ]
  },
  {
   "cell_type": "markdown",
   "id": "8e45c60a",
   "metadata": {},
   "source": [
    "1. <p>Use the function defined in <code>acquire.py</code> to load the iris data.  </p>"
   ]
  },
  {
   "cell_type": "code",
   "execution_count": null,
   "id": "eafa2060",
   "metadata": {},
   "outputs": [],
   "source": [
    "iris_df = acquire.get_iris_data()"
   ]
  },
  {
   "cell_type": "code",
   "execution_count": null,
   "id": "dc77700a",
   "metadata": {},
   "outputs": [],
   "source": [
    "iris_df.shape"
   ]
  },
  {
   "cell_type": "code",
   "execution_count": null,
   "id": "179a644b",
   "metadata": {},
   "outputs": [],
   "source": [
    "iris_df.head()"
   ]
  },
  {
   "cell_type": "code",
   "execution_count": null,
   "id": "b880b5d6",
   "metadata": {},
   "outputs": [],
   "source": [
    "iris_df.describe().T"
   ]
  },
  {
   "cell_type": "code",
   "execution_count": null,
   "id": "fc2347c3",
   "metadata": {},
   "outputs": [],
   "source": [
    "iris_df.dtypes"
   ]
  },
  {
   "cell_type": "code",
   "execution_count": null,
   "id": "ac29bdb4",
   "metadata": {
    "scrolled": true
   },
   "outputs": [],
   "source": [
    "iris_df.info()"
   ]
  },
  {
   "cell_type": "code",
   "execution_count": null,
   "id": "33b7b625",
   "metadata": {},
   "outputs": [],
   "source": [
    "iris_num_cols = iris_df.columns[[iris_df[col].dtype == 'float64' for col in iris_df.columns]]"
   ]
  },
  {
   "cell_type": "code",
   "execution_count": null,
   "id": "e0e1eeb6",
   "metadata": {},
   "outputs": [],
   "source": [
    "iris_num_cols"
   ]
  },
  {
   "cell_type": "code",
   "execution_count": null,
   "id": "22a94e74",
   "metadata": {},
   "outputs": [],
   "source": [
    "for col in iris_num_cols:\n",
    "    plt.hist(iris_df[col])\n",
    "    plt.title(col)\n",
    "    plt.show();\n",
    "    plt.boxplot(iris_df[col])\n",
    "    plt.title(col)\n",
    "    plt.show();\n",
    "    "
   ]
  },
  {
   "cell_type": "code",
   "execution_count": null,
   "id": "d733ef2b",
   "metadata": {},
   "outputs": [],
   "source": [
    "# Drop duplicates - removed one record (not used in the exercise, will omit from function)\n",
    "print(iris_df.shape)\n",
    "iris_df = iris_df.drop_duplicates()\n",
    "print(iris_df.shape)"
   ]
  },
  {
   "cell_type": "markdown",
   "id": "27a10c02",
   "metadata": {},
   "source": [
    "2. <p>Drop the <code>species_id</code> and <code>measurement_id</code> columns.  </p>"
   ]
  },
  {
   "cell_type": "code",
   "execution_count": null,
   "id": "f2d3d92b",
   "metadata": {},
   "outputs": [],
   "source": [
    "iris_df.dtypes"
   ]
  },
  {
   "cell_type": "code",
   "execution_count": null,
   "id": "799f8b2f",
   "metadata": {},
   "outputs": [],
   "source": [
    "print(iris_df.shape)\n",
    "iris_df = iris_df.drop(columns='species_id')\n",
    "print(iris_df.shape)"
   ]
  },
  {
   "cell_type": "markdown",
   "id": "b2a5f9b0",
   "metadata": {},
   "source": [
    "3. <p>Rename the <code>species_name</code> column to just <code>species</code>.  </p>"
   ]
  },
  {
   "cell_type": "code",
   "execution_count": null,
   "id": "4dbb1036",
   "metadata": {},
   "outputs": [],
   "source": [
    "iris_df.rename(columns={'species_name':'species'}, inplace=True)\n",
    "iris_df.head()"
   ]
  },
  {
   "cell_type": "markdown",
   "id": "bff04bb0",
   "metadata": {},
   "source": [
    "4. <p>Create dummy variables of the species name and concatenate onto the iris dataframe.</p>"
   ]
  },
  {
   "cell_type": "code",
   "execution_count": null,
   "id": "b6f4fb31",
   "metadata": {
    "scrolled": true
   },
   "outputs": [],
   "source": [
    "iris_dummy_df = pd.get_dummies(iris_df[['species']], dummy_na = False, drop_first = [True])\n",
    "iris_dummy_df"
   ]
  },
  {
   "cell_type": "code",
   "execution_count": null,
   "id": "e9be6965",
   "metadata": {
    "scrolled": true
   },
   "outputs": [],
   "source": [
    "iris_df = pd.concat([iris_df, iris_dummy_df], axis = 1)\n",
    "iris_df.head()"
   ]
  },
  {
   "cell_type": "markdown",
   "id": "adc30d55",
   "metadata": {},
   "source": [
    "## Split data"
   ]
  },
  {
   "cell_type": "code",
   "execution_count": null,
   "id": "746deb48",
   "metadata": {},
   "outputs": [],
   "source": [
    "iris_train, iris_test = train_test_split(iris_df, test_size = 0.2, random_state = 123)"
   ]
  },
  {
   "cell_type": "code",
   "execution_count": null,
   "id": "73a08dc3",
   "metadata": {},
   "outputs": [],
   "source": [
    "iris_train, iris_validate = train_test_split(iris_train, test_size = .3, random_state = 123)"
   ]
  },
  {
   "cell_type": "code",
   "execution_count": null,
   "id": "98d3084f",
   "metadata": {},
   "outputs": [],
   "source": [
    "# Observe split\n",
    "print(f'Train: {iris_train.shape}')\n",
    "print(f'Test: {iris_test.shape}')\n",
    "print(f'Validate: {iris_validate.shape}')\n"
   ]
  },
  {
   "cell_type": "code",
   "execution_count": null,
   "id": "07430c8c",
   "metadata": {},
   "outputs": [],
   "source": []
  },
  {
   "cell_type": "markdown",
   "id": "d55efede",
   "metadata": {},
   "source": [
    "5. <p>Create a function named <code>prep_iris</code> that accepts the untransformed iris data, and returns the data with the transformations above applied.</p>\n"
   ]
  },
  {
   "cell_type": "code",
   "execution_count": null,
   "id": "7cc4843b",
   "metadata": {},
   "outputs": [],
   "source": [
    "def prep_iris(iris_df):\n",
    "    '''\n",
    "    This function will accept untransformed iris data and return the prepped data\n",
    "    '''\n",
    "    iris_df = iris_df.drop(columns='species_id')\n",
    "    iris_df.rename(columns={'species_name':'species'}, inplace=True)\n",
    "    iris_dummy_df = pd.get_dummies(iris_df[['species']], dummy_na = False, drop_first = [True])\n",
    "    iris_df = pd.concat([iris_df, iris_dummy_df], axis = 1)    \n",
    "    return iris_df\n",
    "    "
   ]
  },
  {
   "cell_type": "code",
   "execution_count": null,
   "id": "0bbe5666",
   "metadata": {},
   "outputs": [],
   "source": [
    "def split_iris(iris_df):\n",
    "    '''\n",
    "    Takes a prepared dataframe and splits into train, validate, and test dataframes\n",
    "    '''\n",
    "    iris_train, iris_test = train_test_split(iris_df, test_size = 0.2, random_state = 123)\n",
    "    iris_train, iris_validate = train_test_split(iris_train, test_size = .3, random_state = 123)\n",
    "    return iris_train, iris_validate, iris_test "
   ]
  },
  {
   "cell_type": "code",
   "execution_count": null,
   "id": "5065374d",
   "metadata": {},
   "outputs": [],
   "source": [
    "iris_df"
   ]
  },
  {
   "cell_type": "markdown",
   "id": "1a3085a3",
   "metadata": {},
   "source": [
    "---\n"
   ]
  },
  {
   "cell_type": "markdown",
   "id": "73358355",
   "metadata": {},
   "source": [
    "<p>Using the Titanic dataset</p>\n"
   ]
  },
  {
   "cell_type": "markdown",
   "id": "4cd8e371",
   "metadata": {},
   "source": [
    "1. <p>Use the function defined in <code>acquire.py</code> to load the Titanic data.  </p>"
   ]
  },
  {
   "cell_type": "code",
   "execution_count": null,
   "id": "cc2719f4",
   "metadata": {},
   "outputs": [],
   "source": [
    "titanic_df = acquire.get_titanic_data()\n",
    "titanic_df.head()"
   ]
  },
  {
   "cell_type": "markdown",
   "id": "74b7a6d4",
   "metadata": {},
   "source": [
    "2. <p>Drop any unnecessary, unhelpful, or duplicated columns.</p>"
   ]
  },
  {
   "cell_type": "code",
   "execution_count": null,
   "id": "1db98068",
   "metadata": {},
   "outputs": [],
   "source": [
    "print(titanic_df.shape)\n",
    "titanic_df = titanic_df.drop_duplicates()\n",
    "print(titanic_df.shape)"
   ]
  },
  {
   "cell_type": "code",
   "execution_count": null,
   "id": "b0ace1c8",
   "metadata": {},
   "outputs": [],
   "source": [
    "print(titanic_df.shape)\n",
    "cols_to_drop = ['deck', 'embarked', 'class', 'age']\n",
    "titanic_df = titanic_df.drop(columns=cols_to_drop)\n",
    "print(titanic_df.shape)"
   ]
  },
  {
   "cell_type": "markdown",
   "id": "9acbbd0a",
   "metadata": {},
   "source": [
    "3. <p>Encode the categorical columns. Create dummy variables of the categorical columns and concatenate them onto the dataframe.</p>"
   ]
  },
  {
   "cell_type": "code",
   "execution_count": null,
   "id": "9fa72828",
   "metadata": {},
   "outputs": [],
   "source": [
    "titanic_df.head()"
   ]
  },
  {
   "cell_type": "code",
   "execution_count": null,
   "id": "3441a0fd",
   "metadata": {},
   "outputs": [],
   "source": [
    "titanic_dummy_df = pd.get_dummies(titanic_df[['sex', 'embark_town']],/\n",
    "                                  dummy_na = False, drop_first = [True, True])\n",
    "titanic_dummy_df"
   ]
  },
  {
   "cell_type": "code",
   "execution_count": null,
   "id": "25828af0",
   "metadata": {
    "scrolled": true
   },
   "outputs": [],
   "source": [
    "titanic_df = pd.concat([titanic_df, titanic_dummy_df], axis = 1)\n",
    "titanic_df.head()"
   ]
  },
  {
   "cell_type": "markdown",
   "id": "ac37972a",
   "metadata": {},
   "source": [
    "## Split\n"
   ]
  },
  {
   "cell_type": "code",
   "execution_count": null,
   "id": "b1753570",
   "metadata": {},
   "outputs": [],
   "source": [
    "titanic_train, titanic_test = train_test_split(titanic_df, test_size = 0.2, stratify = titanic_df.survived, random_state = 123)\n"
   ]
  },
  {
   "cell_type": "code",
   "execution_count": null,
   "id": "b300dc77",
   "metadata": {},
   "outputs": [],
   "source": [
    "titanic_train, titanic_validate = train_test_split(titanic_train, test_size = .3, random_state = 123, stratify = titanic_train.survived)\n"
   ]
  },
  {
   "cell_type": "code",
   "execution_count": null,
   "id": "210a402b",
   "metadata": {},
   "outputs": [],
   "source": [
    "# Observe split\n",
    "print(f'Train: {titanic_train.shape}')\n",
    "print(f'Validate: {titanic_validate.shape}')\n",
    "print(f'Test: {titanic_test.shape}')\n"
   ]
  },
  {
   "cell_type": "markdown",
   "id": "5fd0a6b1",
   "metadata": {},
   "source": [
    "4. <p>Create a function named <code>prep_titanic</code> that accepts the raw titanic data, and returns the data with the transformations above applied.</p>"
   ]
  },
  {
   "cell_type": "code",
   "execution_count": null,
   "id": "9fa287f2",
   "metadata": {},
   "outputs": [],
   "source": [
    "def prep_titanic(titanic_df):\n",
    "    '''\n",
    "    This function will accept raw titanic data and prepare the titanic dataframe\n",
    "    '''\n",
    "    titanic_df = titanic_df.drop_duplicates()\n",
    "    cols_to_drop = ['deck', 'embarked', 'class', 'age']\n",
    "    titanic_df = titanic_df.drop(columns=cols_to_drop)\n",
    "    titanic_dummy_df = pd.get_dummies(titanic_df[['sex', 'embark_town']], dummy_na = False, drop_first = [True, True])\n",
    "    titanic_df = pd.concat([titanic_df, titanic_dummy_df], axis = 1)\n",
    "    return titanic_df"
   ]
  },
  {
   "cell_type": "code",
   "execution_count": null,
   "id": "7b9d740b",
   "metadata": {},
   "outputs": [],
   "source": [
    "def split_titanic(titanic_df):\n",
    "    '''\n",
    "    Takes in a dataframe and returns train, validate, and test\n",
    "    '''\n",
    "    titanic_train, titanic_test = train_test_split(titanic_df, test_size = 0.2, stratify = titanic_df.survived, random_state = 123)\n",
    "    titanic_train, titanic_validate = train_test_split(titanic_train, test_size = .3, random_state = 123, stratify = titanic_train.survived)\n",
    "    return titanic_train, titanic_validate, titanic_test"
   ]
  },
  {
   "cell_type": "markdown",
   "id": "cba3d754",
   "metadata": {},
   "source": [
    "---"
   ]
  },
  {
   "cell_type": "markdown",
   "id": "52a69d29",
   "metadata": {},
   "source": [
    "### Telco Prep"
   ]
  },
  {
   "cell_type": "markdown",
   "id": "f903fd8d",
   "metadata": {},
   "source": [
    "<p>Using the Telco dataset</p>\n"
   ]
  },
  {
   "cell_type": "markdown",
   "id": "10752e81",
   "metadata": {},
   "source": [
    "### Summarizing (with prep as needed)"
   ]
  },
  {
   "cell_type": "markdown",
   "id": "6a54b3c2",
   "metadata": {},
   "source": [
    "1. <p>Use the function defined in <code>acquire.py</code> to load the Telco data.  </p>"
   ]
  },
  {
   "cell_type": "code",
   "execution_count": null,
   "id": "fd9fb5cd",
   "metadata": {},
   "outputs": [],
   "source": [
    "telco_df = acquire.get_telco_data()\n",
    "telco_df.head()"
   ]
  },
  {
   "cell_type": "markdown",
   "id": "8e9a221e",
   "metadata": {},
   "source": [
    "2. <p>Drop any unnecessary, unhelpful, or duplicated columns. This could mean dropping foreign key columns but keeping the corresponding string values, for example.</p>"
   ]
  },
  {
   "cell_type": "markdown",
   "id": "43605447",
   "metadata": {},
   "source": [
    "    How are the id columns related to the non-id columns with the same names"
   ]
  },
  {
   "cell_type": "code",
   "execution_count": null,
   "id": "ce6ff0c6",
   "metadata": {},
   "outputs": [],
   "source": [
    "pd.crosstab(telco_df.internet_service_type, telco_df.internet_service_type_id)"
   ]
  },
  {
   "cell_type": "code",
   "execution_count": null,
   "id": "8539de86",
   "metadata": {},
   "outputs": [],
   "source": [
    "iris_num_cols = iris_df.columns[[iris_df[col].dtype == 'float64' for col in iris_df.columns]]"
   ]
  },
  {
   "cell_type": "code",
   "execution_count": null,
   "id": "71595f1f",
   "metadata": {},
   "outputs": [],
   "source": [
    "for col in iris_num_cols:\n",
    "    plt.hist(iris_df[col])\n",
    "    plt.title(col)\n",
    "    plt.show();\n",
    "    plt.boxplot(iris_df[col])\n",
    "    plt.title(col)\n",
    "    plt.show();\n",
    "    "
   ]
  },
  {
   "cell_type": "code",
   "execution_count": null,
   "id": "bc453cae",
   "metadata": {},
   "outputs": [],
   "source": [
    "telco_obj_cols = telco_df.columns[[telco_df[col].dtype == 'O' for col in telco_df.columns]]"
   ]
  },
  {
   "cell_type": "code",
   "execution_count": null,
   "id": "7e3f18b4",
   "metadata": {},
   "outputs": [],
   "source": [
    "for col in telco_obj_cols:\n",
    "    print(telco_df[col].value_counts())\n",
    "    print(telco_df[col].value_counts(normalize = True, dropna=False))\n",
    "    print('-----------------')"
   ]
  },
  {
   "cell_type": "markdown",
   "id": "41b6dfa7",
   "metadata": {},
   "source": [
    "### Make extra variables?\n",
    "- Encode dependencies of multiple combined columns"
   ]
  },
  {
   "cell_type": "code",
   "execution_count": null,
   "id": "cfb7d4e9",
   "metadata": {},
   "outputs": [],
   "source": [
    "telco_df.head()"
   ]
  },
  {
   "cell_type": "code",
   "execution_count": null,
   "id": "c32e1c25",
   "metadata": {},
   "outputs": [],
   "source": [
    "import math"
   ]
  },
  {
   "cell_type": "code",
   "execution_count": null,
   "id": "7875d855",
   "metadata": {},
   "outputs": [],
   "source": [
    "# encode number_relationships by using dependents and partner\n",
    "#telco_df['number_relationships'] = telco_df['']\n",
    "\n",
    "\n",
    "# yearly tenure\n",
    "telco_df['yearly_tenure'] = telco_df.tenure.apply(lambda x: math.floor(x/12))"
   ]
  },
  {
   "cell_type": "code",
   "execution_count": null,
   "id": "3577bc6b",
   "metadata": {},
   "outputs": [],
   "source": []
  },
  {
   "cell_type": "code",
   "execution_count": null,
   "id": "bc53ee6d",
   "metadata": {},
   "outputs": [],
   "source": [
    "telco_df.dtypes"
   ]
  },
  {
   "cell_type": "code",
   "execution_count": null,
   "id": "40df64c4",
   "metadata": {},
   "outputs": [],
   "source": [
    "print(telco_df.shape)\n",
    "cols_to_drop = ['payment_type_id', 'internet_service_type_id', 'contract_type_id', 'customer_id']\n",
    "telco_df = telco_df.drop(columns=cols_to_drop)\n",
    "print(telco_df.shape)"
   ]
  },
  {
   "cell_type": "code",
   "execution_count": null,
   "id": "682863c1",
   "metadata": {},
   "outputs": [],
   "source": [
    "telco_df.info(null_counts = True)"
   ]
  },
  {
   "cell_type": "code",
   "execution_count": null,
   "id": "b17d8b63",
   "metadata": {},
   "outputs": [],
   "source": [
    "# Total charges convert to float\n",
    "telco_df['total_charges'] = pd.to_numeric(telco_df['total_charges'], errors = 'coerce')\n",
    "telco_df.dtypes"
   ]
  },
  {
   "cell_type": "code",
   "execution_count": null,
   "id": "a675e3f0",
   "metadata": {},
   "outputs": [],
   "source": [
    "missing = telco_df.isnull().sum()\n",
    "missing[missing>0]"
   ]
  },
  {
   "cell_type": "code",
   "execution_count": null,
   "id": "3ddedd50",
   "metadata": {},
   "outputs": [],
   "source": [
    "telco_df[telco_df.total_charges == ' ']"
   ]
  },
  {
   "cell_type": "code",
   "execution_count": null,
   "id": "8732a6fc",
   "metadata": {},
   "outputs": [],
   "source": [
    "telco_df.total_charges.sort_values().head(20)"
   ]
  },
  {
   "cell_type": "code",
   "execution_count": null,
   "id": "61954291",
   "metadata": {},
   "outputs": [],
   "source": [
    "telco_df[telco_df.tenure == 0]"
   ]
  },
  {
   "cell_type": "code",
   "execution_count": null,
   "id": "5b0893ee",
   "metadata": {},
   "outputs": [],
   "source": [
    "# Fill NAs to 0 in total charges\n",
    "\n",
    "missing = telco_df.isnull().sum()\n",
    "print(missing[missing>0])\n",
    "telco_df['total_charges'] = telco_df['total_charges'].fillna(0)\n",
    "missing = telco_df.isnull().sum()\n",
    "print(missing[missing>0])"
   ]
  },
  {
   "cell_type": "code",
   "execution_count": null,
   "id": "41a1afe3",
   "metadata": {},
   "outputs": [],
   "source": [
    "#Delete 11 records with no total charges. Since they are brand new and haven't had a chance\n",
    "# to churn, they are not useful to train model\n",
    "\n",
    "telco_df = telco_df[telco_df['total_charges'] != 0]"
   ]
  },
  {
   "cell_type": "markdown",
   "id": "a9ab70a6",
   "metadata": {},
   "source": [
    "3. <p>Encode the categorical columns. Create dummy variables of the categorical columns and concatenate them onto the dataframe.</p>"
   ]
  },
  {
   "cell_type": "code",
   "execution_count": null,
   "id": "96bfe46b",
   "metadata": {
    "scrolled": true
   },
   "outputs": [],
   "source": [
    "telco_df.head()"
   ]
  },
  {
   "cell_type": "code",
   "execution_count": null,
   "id": "4e183cae",
   "metadata": {
    "scrolled": true
   },
   "outputs": [],
   "source": [
    "telco_df.describe().T"
   ]
  },
  {
   "cell_type": "code",
   "execution_count": null,
   "id": "1b8f4527",
   "metadata": {},
   "outputs": [],
   "source": [
    "telco_dummy_df = pd.get_dummies(telco_df[['gender', 'partner', 'dependents',\\\n",
    "                                          'phone_service', 'multiple_lines', \\\n",
    "                                          'online_security', 'online_backup', \\\n",
    "                                          'device_protection', 'tech_support', \\\n",
    "                                          'streaming_tv', 'streaming_movies', \\\n",
    "                                          'paperless_billing', 'churn', 'contract_type', \\\n",
    "                                          'internet_service_type', 'payment_type'  ]], \\\n",
    "                                dummy_na = False, drop_first = [True])\n",
    "telco_dummy_df"
   ]
  },
  {
   "cell_type": "code",
   "execution_count": null,
   "id": "1e628434",
   "metadata": {},
   "outputs": [],
   "source": [
    "telco_df = pd.concat([telco_df, telco_dummy_df], axis = 1)\n",
    "telco_df.head()"
   ]
  },
  {
   "cell_type": "markdown",
   "id": "ffd843cd",
   "metadata": {},
   "source": [
    "## Split data"
   ]
  },
  {
   "cell_type": "code",
   "execution_count": null,
   "id": "be885cbf",
   "metadata": {},
   "outputs": [],
   "source": [
    "telco_df.dtypes"
   ]
  },
  {
   "cell_type": "code",
   "execution_count": null,
   "id": "3be58d9a",
   "metadata": {},
   "outputs": [],
   "source": [
    "telco_df.head()"
   ]
  },
  {
   "cell_type": "code",
   "execution_count": null,
   "id": "27d2cc34",
   "metadata": {},
   "outputs": [],
   "source": [
    "telco_train, telco_test = train_test_split(telco_df, test_size = 0.2, stratify = telco_df.churn_Yes, random_state = 123)\n"
   ]
  },
  {
   "cell_type": "code",
   "execution_count": null,
   "id": "f4257a59",
   "metadata": {},
   "outputs": [],
   "source": [
    "telco_train, telco_validate = train_test_split(telco_train, test_size = .3, random_state = 123, stratify = telco_train.churn_Yes)\n"
   ]
  },
  {
   "cell_type": "code",
   "execution_count": null,
   "id": "64e34673",
   "metadata": {},
   "outputs": [],
   "source": [
    "# Observe split\n",
    "print(f'Train: {telco_train.shape}')\n",
    "print(f'Validate: {telco_validate.shape}')\n",
    "print(f'Test: {telco_test.shape}')\n"
   ]
  },
  {
   "cell_type": "code",
   "execution_count": null,
   "id": "416fc6fa",
   "metadata": {},
   "outputs": [],
   "source": []
  },
  {
   "cell_type": "markdown",
   "id": "303b61cc",
   "metadata": {},
   "source": [
    "4. <p>Create a function named <code>prep_telco</code> that accepts the raw telco data, and returns the data with the transformations above applied.</p>"
   ]
  },
  {
   "cell_type": "code",
   "execution_count": null,
   "id": "cd6c932f",
   "metadata": {},
   "outputs": [],
   "source": [
    "def prep_telco(telco_df):\n",
    "    cols_to_drop = ['payment_type_id', 'internet_service_type_id', 'contract_type_id', 'customer_id']\n",
    "    telco_df = telco_df.drop(columns=cols_to_drop)\n",
    "    telco_df['total_charges'] = pd.to_numeric(telco_df['total_charges'], errors = 'coerce')\n",
    "    telco_df['total_charges'] = telco_df['total_charges'].fillna(0)\n",
    "    telco_df = telco_df[telco_df['total_charges'] != 0]\n",
    "    telco_dummy_df = pd.get_dummies(telco_df[['gender', 'partner', 'dependents', 'phone_service', 'multiple_lines', 'online_security', 'online_backup', 'device_protection', 'tech_support', 'streaming_tv', 'streaming_movies', 'paperless_billing', 'churn', 'contract_type', 'internet_service_type', 'payment_type'  ]], dummy_na = False, drop_first = [True, True, True, True, True, True, True, True, True, True, True, True, True, True, True, True])\n",
    "    telco_df = pd.concat([telco_df, telco_dummy_df], axis = 1)\n",
    "    return telco_df"
   ]
  },
  {
   "cell_type": "code",
   "execution_count": null,
   "id": "54046a74",
   "metadata": {},
   "outputs": [],
   "source": [
    "prep_telco(telco_df)"
   ]
  },
  {
   "cell_type": "code",
   "execution_count": null,
   "id": "67896637",
   "metadata": {},
   "outputs": [],
   "source": [
    "telco_train, telco_test = train_test_split(telco_df, test_size = 0.2, stratify = telco_df['churn_Yes'], random_state = 123)\n"
   ]
  },
  {
   "cell_type": "code",
   "execution_count": null,
   "id": "28b3805d",
   "metadata": {},
   "outputs": [],
   "source": []
  },
  {
   "cell_type": "code",
   "execution_count": null,
   "id": "1720f68c",
   "metadata": {},
   "outputs": [],
   "source": []
  },
  {
   "cell_type": "code",
   "execution_count": null,
   "id": "671ae150",
   "metadata": {},
   "outputs": [],
   "source": []
  },
  {
   "cell_type": "code",
   "execution_count": null,
   "id": "45e08cf2",
   "metadata": {},
   "outputs": [],
   "source": [
    "def split_telco(telco_df):\n",
    "    '''\n",
    "    Takes in a dataframe and returns train, validate, and test\n",
    "    '''\n",
    "    telco_train, telco_test = train_test_split(telco_df, test_size = 0.2, stratify = telco_df.churn_Yes, random_state = 123)\n",
    "    telco_train, telco_validate = train_test_split(telco_train, test_size = .3, random_state = 123, stratify = telco_train.churn_Yes)\n",
    "    return telco_train, telco_validate, telco_test"
   ]
  },
  {
   "cell_type": "markdown",
   "id": "e299ed50",
   "metadata": {},
   "source": [
    "---"
   ]
  },
  {
   "cell_type": "markdown",
   "id": "45fd45ad",
   "metadata": {},
   "source": [
    "<h2 id=\"exercises\">Exercises</h2>\n",
    "<p>Continue in your <code>classification_exercises.ipynb</code> notebook. As always, add, commit, and push your changes.</p>\n",
    "\n",
    "## Section 1 - iris_db:\n",
    "Using iris data from our mySQL server and the methods used in the lesson above: "
   ]
  },
  {
   "cell_type": "code",
   "execution_count": 1,
   "id": "531fcd2e",
   "metadata": {},
   "outputs": [],
   "source": [
    "import warnings\n",
    "warnings.filterwarnings(\"ignore\")\n",
    "\n",
    "import pandas as pd\n",
    "import numpy as np\n",
    "import matplotlib.pyplot as plt\n",
    "import seaborn as sns\n",
    "from scipy import stats\n",
    "from sklearn.model_selection import train_test_split\n",
    "import os\n",
    "from env import host, user, password\n",
    "import acquire\n",
    "import prepare\n",
    "import split\n",
    "import wrangle"
   ]
  },
  {
   "cell_type": "markdown",
   "id": "ee784d83",
   "metadata": {},
   "source": [
    "1. <p>Acquire, prepare &amp; split your data. </p>"
   ]
  },
  {
   "cell_type": "code",
   "execution_count": 46,
   "id": "3ac61955",
   "metadata": {},
   "outputs": [],
   "source": [
    "iris_train, iris_validate, iris_test = wrangle.wrangle_iris()"
   ]
  },
  {
   "cell_type": "code",
   "execution_count": 5,
   "id": "a309a876",
   "metadata": {
    "scrolled": true
   },
   "outputs": [
    {
     "data": {
      "text/html": [
       "<div>\n",
       "<style scoped>\n",
       "    .dataframe tbody tr th:only-of-type {\n",
       "        vertical-align: middle;\n",
       "    }\n",
       "\n",
       "    .dataframe tbody tr th {\n",
       "        vertical-align: top;\n",
       "    }\n",
       "\n",
       "    .dataframe thead th {\n",
       "        text-align: right;\n",
       "    }\n",
       "</style>\n",
       "<table border=\"1\" class=\"dataframe\">\n",
       "  <thead>\n",
       "    <tr style=\"text-align: right;\">\n",
       "      <th></th>\n",
       "      <th>species</th>\n",
       "      <th>sepal_length</th>\n",
       "      <th>sepal_width</th>\n",
       "      <th>petal_length</th>\n",
       "      <th>petal_width</th>\n",
       "      <th>species_versicolor</th>\n",
       "      <th>species_virginica</th>\n",
       "    </tr>\n",
       "  </thead>\n",
       "  <tbody>\n",
       "    <tr>\n",
       "      <th>56</th>\n",
       "      <td>versicolor</td>\n",
       "      <td>6.3</td>\n",
       "      <td>3.3</td>\n",
       "      <td>4.7</td>\n",
       "      <td>1.6</td>\n",
       "      <td>1</td>\n",
       "      <td>0</td>\n",
       "    </tr>\n",
       "    <tr>\n",
       "      <th>40</th>\n",
       "      <td>setosa</td>\n",
       "      <td>5.0</td>\n",
       "      <td>3.5</td>\n",
       "      <td>1.3</td>\n",
       "      <td>0.3</td>\n",
       "      <td>0</td>\n",
       "      <td>0</td>\n",
       "    </tr>\n",
       "    <tr>\n",
       "      <th>70</th>\n",
       "      <td>versicolor</td>\n",
       "      <td>5.9</td>\n",
       "      <td>3.2</td>\n",
       "      <td>4.8</td>\n",
       "      <td>1.8</td>\n",
       "      <td>1</td>\n",
       "      <td>0</td>\n",
       "    </tr>\n",
       "    <tr>\n",
       "      <th>23</th>\n",
       "      <td>setosa</td>\n",
       "      <td>5.1</td>\n",
       "      <td>3.3</td>\n",
       "      <td>1.7</td>\n",
       "      <td>0.5</td>\n",
       "      <td>0</td>\n",
       "      <td>0</td>\n",
       "    </tr>\n",
       "    <tr>\n",
       "      <th>139</th>\n",
       "      <td>virginica</td>\n",
       "      <td>6.9</td>\n",
       "      <td>3.1</td>\n",
       "      <td>5.4</td>\n",
       "      <td>2.1</td>\n",
       "      <td>0</td>\n",
       "      <td>1</td>\n",
       "    </tr>\n",
       "  </tbody>\n",
       "</table>\n",
       "</div>"
      ],
      "text/plain": [
       "        species  sepal_length  sepal_width  petal_length  petal_width  \\\n",
       "56   versicolor           6.3          3.3           4.7          1.6   \n",
       "40       setosa           5.0          3.5           1.3          0.3   \n",
       "70   versicolor           5.9          3.2           4.8          1.8   \n",
       "23       setosa           5.1          3.3           1.7          0.5   \n",
       "139   virginica           6.9          3.1           5.4          2.1   \n",
       "\n",
       "     species_versicolor  species_virginica  \n",
       "56                    1                  0  \n",
       "40                    0                  0  \n",
       "70                    1                  0  \n",
       "23                    0                  0  \n",
       "139                   0                  1  "
      ]
     },
     "execution_count": 5,
     "metadata": {},
     "output_type": "execute_result"
    }
   ],
   "source": [
    "iris_train.head()"
   ]
  },
  {
   "cell_type": "code",
   "execution_count": 45,
   "id": "c4a257fd",
   "metadata": {},
   "outputs": [
    {
     "data": {
      "text/plain": [
       "versicolor    31\n",
       "virginica     27\n",
       "setosa        26\n",
       "Name: species, dtype: int64"
      ]
     },
     "execution_count": 45,
     "metadata": {},
     "output_type": "execute_result"
    }
   ],
   "source": [
    "iris_train.species.value_counts()"
   ]
  },
  {
   "cell_type": "code",
   "execution_count": 6,
   "id": "5ac4a36a",
   "metadata": {
    "scrolled": false
   },
   "outputs": [
    {
     "name": "stdout",
     "output_type": "stream",
     "text": [
      "<class 'pandas.core.frame.DataFrame'>\n",
      "Int64Index: 84 entries, 56 to 113\n",
      "Data columns (total 7 columns):\n",
      " #   Column              Non-Null Count  Dtype  \n",
      "---  ------              --------------  -----  \n",
      " 0   species             84 non-null     object \n",
      " 1   sepal_length        84 non-null     float64\n",
      " 2   sepal_width         84 non-null     float64\n",
      " 3   petal_length        84 non-null     float64\n",
      " 4   petal_width         84 non-null     float64\n",
      " 5   species_versicolor  84 non-null     uint8  \n",
      " 6   species_virginica   84 non-null     uint8  \n",
      "dtypes: float64(4), object(1), uint8(2)\n",
      "memory usage: 4.1+ KB\n"
     ]
    }
   ],
   "source": [
    "iris_train.info()"
   ]
  },
  {
   "cell_type": "markdown",
   "id": "9a1a3a49",
   "metadata": {},
   "source": [
    "### 2. Univariate Stats\n"
   ]
  },
  {
   "cell_type": "markdown",
   "id": "f759fe33",
   "metadata": {},
   "source": [
    "- <p>For each measurement type (quantitative variable): create a histogram, boxplot, &amp; compute descriptive statistics (using .describe()). </p>"
   ]
  },
  {
   "cell_type": "code",
   "execution_count": 7,
   "id": "6dc9ad76",
   "metadata": {},
   "outputs": [
    {
     "data": {
      "text/html": [
       "<div>\n",
       "<style scoped>\n",
       "    .dataframe tbody tr th:only-of-type {\n",
       "        vertical-align: middle;\n",
       "    }\n",
       "\n",
       "    .dataframe tbody tr th {\n",
       "        vertical-align: top;\n",
       "    }\n",
       "\n",
       "    .dataframe thead th {\n",
       "        text-align: right;\n",
       "    }\n",
       "</style>\n",
       "<table border=\"1\" class=\"dataframe\">\n",
       "  <thead>\n",
       "    <tr style=\"text-align: right;\">\n",
       "      <th></th>\n",
       "      <th>count</th>\n",
       "      <th>mean</th>\n",
       "      <th>std</th>\n",
       "      <th>min</th>\n",
       "      <th>25%</th>\n",
       "      <th>50%</th>\n",
       "      <th>75%</th>\n",
       "      <th>max</th>\n",
       "    </tr>\n",
       "  </thead>\n",
       "  <tbody>\n",
       "    <tr>\n",
       "      <th>sepal_length</th>\n",
       "      <td>84.0</td>\n",
       "      <td>5.841667</td>\n",
       "      <td>0.813324</td>\n",
       "      <td>4.5</td>\n",
       "      <td>5.100</td>\n",
       "      <td>5.80</td>\n",
       "      <td>6.4</td>\n",
       "      <td>7.9</td>\n",
       "    </tr>\n",
       "    <tr>\n",
       "      <th>sepal_width</th>\n",
       "      <td>84.0</td>\n",
       "      <td>3.028571</td>\n",
       "      <td>0.428101</td>\n",
       "      <td>2.0</td>\n",
       "      <td>2.800</td>\n",
       "      <td>3.00</td>\n",
       "      <td>3.3</td>\n",
       "      <td>4.0</td>\n",
       "    </tr>\n",
       "    <tr>\n",
       "      <th>petal_length</th>\n",
       "      <td>84.0</td>\n",
       "      <td>3.804762</td>\n",
       "      <td>1.718777</td>\n",
       "      <td>1.0</td>\n",
       "      <td>1.600</td>\n",
       "      <td>4.35</td>\n",
       "      <td>5.1</td>\n",
       "      <td>6.7</td>\n",
       "    </tr>\n",
       "    <tr>\n",
       "      <th>petal_width</th>\n",
       "      <td>84.0</td>\n",
       "      <td>1.211905</td>\n",
       "      <td>0.732450</td>\n",
       "      <td>0.1</td>\n",
       "      <td>0.375</td>\n",
       "      <td>1.30</td>\n",
       "      <td>1.8</td>\n",
       "      <td>2.5</td>\n",
       "    </tr>\n",
       "    <tr>\n",
       "      <th>species_versicolor</th>\n",
       "      <td>84.0</td>\n",
       "      <td>0.369048</td>\n",
       "      <td>0.485445</td>\n",
       "      <td>0.0</td>\n",
       "      <td>0.000</td>\n",
       "      <td>0.00</td>\n",
       "      <td>1.0</td>\n",
       "      <td>1.0</td>\n",
       "    </tr>\n",
       "    <tr>\n",
       "      <th>species_virginica</th>\n",
       "      <td>84.0</td>\n",
       "      <td>0.321429</td>\n",
       "      <td>0.469830</td>\n",
       "      <td>0.0</td>\n",
       "      <td>0.000</td>\n",
       "      <td>0.00</td>\n",
       "      <td>1.0</td>\n",
       "      <td>1.0</td>\n",
       "    </tr>\n",
       "  </tbody>\n",
       "</table>\n",
       "</div>"
      ],
      "text/plain": [
       "                    count      mean       std  min    25%   50%  75%  max\n",
       "sepal_length         84.0  5.841667  0.813324  4.5  5.100  5.80  6.4  7.9\n",
       "sepal_width          84.0  3.028571  0.428101  2.0  2.800  3.00  3.3  4.0\n",
       "petal_length         84.0  3.804762  1.718777  1.0  1.600  4.35  5.1  6.7\n",
       "petal_width          84.0  1.211905  0.732450  0.1  0.375  1.30  1.8  2.5\n",
       "species_versicolor   84.0  0.369048  0.485445  0.0  0.000  0.00  1.0  1.0\n",
       "species_virginica    84.0  0.321429  0.469830  0.0  0.000  0.00  1.0  1.0"
      ]
     },
     "execution_count": 7,
     "metadata": {},
     "output_type": "execute_result"
    }
   ],
   "source": [
    "iris_train.describe().T"
   ]
  },
  {
   "cell_type": "code",
   "execution_count": 8,
   "id": "996449e0",
   "metadata": {},
   "outputs": [
    {
     "data": {
      "text/plain": [
       "species                object\n",
       "sepal_length          float64\n",
       "sepal_width           float64\n",
       "petal_length          float64\n",
       "petal_width           float64\n",
       "species_versicolor      uint8\n",
       "species_virginica       uint8\n",
       "dtype: object"
      ]
     },
     "execution_count": 8,
     "metadata": {},
     "output_type": "execute_result"
    }
   ],
   "source": [
    "iris_train.dtypes"
   ]
  },
  {
   "cell_type": "code",
   "execution_count": 9,
   "id": "8131a767",
   "metadata": {},
   "outputs": [
    {
     "data": {
      "text/plain": [
       "Index(['sepal_length', 'sepal_width', 'petal_length', 'petal_width'], dtype='object')"
      ]
     },
     "execution_count": 9,
     "metadata": {},
     "output_type": "execute_result"
    }
   ],
   "source": [
    "iris_num_cols = iris_train.columns[[iris_train[col].dtype == 'float64' for col in iris_train.columns]]\n",
    "iris_num_cols"
   ]
  },
  {
   "cell_type": "code",
   "execution_count": 11,
   "id": "9bf50a53",
   "metadata": {},
   "outputs": [
    {
     "data": {
      "image/png": "[encoded data removed]",
      "text/plain": [
       "<Figure size 432x288 with 1 Axes>"
      ]
     },
     "metadata": {
      "needs_background": "light"
     },
     "output_type": "display_data"
    },
    {
     "data": {
      "image/png": "[encoded data removed]",
      "text/plain": [
       "<Figure size 432x288 with 1 Axes>"
      ]
     },
     "metadata": {
      "needs_background": "light"
     },
     "output_type": "display_data"
    },
    {
     "data": {
      "image/png": "[encoded data removed]",
      "text/plain": [
       "<Figure size 432x288 with 1 Axes>"
      ]
     },
     "metadata": {
      "needs_background": "light"
     },
     "output_type": "display_data"
    },
    {
     "data": {
      "image/png": "[encoded data removed]",
      "text/plain": [
       "<Figure size 432x288 with 1 Axes>"
      ]
     },
     "metadata": {
      "needs_background": "light"
     },
     "output_type": "display_data"
    },
    {
     "data": {
      "image/png": "[encoded data removed]",
      "text/plain": [
       "<Figure size 432x288 with 1 Axes>"
      ]
     },
     "metadata": {
      "needs_background": "light"
     },
     "output_type": "display_data"
    },
    {
     "data": {
      "image/png": "[encoded data removed]",
      "text/plain": [
       "<Figure size 432x288 with 1 Axes>"
      ]
     },
     "metadata": {
      "needs_background": "light"
     },
     "output_type": "display_data"
    },
    {
     "data": {
      "image/png": "[encoded data removed]",
      "text/plain": [
       "<Figure size 432x288 with 1 Axes>"
      ]
     },
     "metadata": {
      "needs_background": "light"
     },
     "output_type": "display_data"
    },
    {
     "data": {
      "image/png": "[encoded data removed]",
      "text/plain": [
       "<Figure size 432x288 with 1 Axes>"
      ]
     },
     "metadata": {
      "needs_background": "light"
     },
     "output_type": "display_data"
    }
   ],
   "source": [
    "for col in iris_num_cols:\n",
    "    plt.hist(iris_train[col])\n",
    "    plt.title(col)\n",
    "    plt.show()\n",
    "    plt.boxplot(iris_train[col])\n",
    "    plt.title(col)\n",
    "    plt.show()"
   ]
  },
  {
   "cell_type": "markdown",
   "id": "bb464b29",
   "metadata": {},
   "source": [
    "- For each species (categorical variable): create a frequency table and a bar plot of those frequencies."
   ]
  },
  {
   "cell_type": "code",
   "execution_count": 14,
   "id": "a2ecc71c",
   "metadata": {},
   "outputs": [
    {
     "data": {
      "text/plain": [
       "Index(['species'], dtype='object')"
      ]
     },
     "execution_count": 14,
     "metadata": {},
     "output_type": "execute_result"
    }
   ],
   "source": [
    "iris_obj_cols = iris_train.columns[[iris_train[col].dtype == 'O' for col in iris_train.columns]]\n",
    "iris_obj_cols"
   ]
  },
  {
   "cell_type": "code",
   "execution_count": 15,
   "id": "4659adf8",
   "metadata": {},
   "outputs": [
    {
     "name": "stdout",
     "output_type": "stream",
     "text": [
      "versicolor    31\n",
      "virginica     27\n",
      "setosa        26\n",
      "Name: species, dtype: int64\n",
      "versicolor    0.369048\n",
      "virginica     0.321429\n",
      "setosa        0.309524\n",
      "Name: species, dtype: float64\n",
      "--------------------------\n"
     ]
    }
   ],
   "source": [
    "for col in iris_obj_cols:\n",
    "    print(iris_train[col].value_counts())\n",
    "    print(iris_train[col].value_counts(normalize=True, dropna=False))\n",
    "    print('--------------------------')"
   ]
  },
  {
   "cell_type": "code",
   "execution_count": 17,
   "id": "ff547bd4",
   "metadata": {},
   "outputs": [
    {
     "data": {
      "image/png": "[encoded data removed]",
      "text/plain": [
       "<Figure size 576x432 with 1 Axes>"
      ]
     },
     "metadata": {
      "needs_background": "light"
     },
     "output_type": "display_data"
    }
   ],
   "source": [
    "iris_train['species'].value_counts().plot(kind='barh', figsize=(8, 6))\n",
    "plt.xlabel(\"Count of Species\", labelpad=14)\n",
    "plt.ylabel(\"Species Name\", labelpad=14)\n",
    "plt.title(\"Count by Species\", y=1.02);"
   ]
  },
  {
   "cell_type": "markdown",
   "id": "ffb75d45",
   "metadata": {},
   "source": [
    "- <p>Document takeaways &amp; any actions. </p>\n"
   ]
  },
  {
   "cell_type": "code",
   "execution_count": null,
   "id": "b0c5f838",
   "metadata": {},
   "outputs": [],
   "source": []
  },
  {
   "cell_type": "code",
   "execution_count": null,
   "id": "97160852",
   "metadata": {},
   "outputs": [],
   "source": []
  },
  {
   "cell_type": "code",
   "execution_count": null,
   "id": "5ea20396",
   "metadata": {},
   "outputs": [],
   "source": []
  },
  {
   "cell_type": "code",
   "execution_count": null,
   "id": "f6788ec9",
   "metadata": {},
   "outputs": [],
   "source": []
  },
  {
   "cell_type": "code",
   "execution_count": null,
   "id": "b5507a7d",
   "metadata": {},
   "outputs": [],
   "source": []
  },
  {
   "cell_type": "markdown",
   "id": "36ecbd39",
   "metadata": {},
   "source": [
    "### 3. Bivariate Stats\n"
   ]
  },
  {
   "cell_type": "markdown",
   "id": "77eef77b",
   "metadata": {},
   "source": [
    "- <p>Visualize each measurement type (y-axis) with the species variable (x-axis) using barplots, adding a horizontal line showing the overall mean of the metric (y-axis). </p>"
   ]
  },
  {
   "cell_type": "code",
   "execution_count": 18,
   "id": "d574d6c9",
   "metadata": {},
   "outputs": [
    {
     "data": {
      "text/plain": [
       "species                object\n",
       "sepal_length          float64\n",
       "sepal_width           float64\n",
       "petal_length          float64\n",
       "petal_width           float64\n",
       "species_versicolor      uint8\n",
       "species_virginica       uint8\n",
       "dtype: object"
      ]
     },
     "execution_count": 18,
     "metadata": {},
     "output_type": "execute_result"
    }
   ],
   "source": [
    "iris_train.dtypes"
   ]
  },
  {
   "cell_type": "code",
   "execution_count": 19,
   "id": "4e8fbac1",
   "metadata": {},
   "outputs": [
    {
     "data": {
      "image/png": "[encoded data removed]",
      "text/plain": [
       "<Figure size 432x288 with 1 Axes>"
      ]
     },
     "metadata": {
      "needs_background": "light"
     },
     "output_type": "display_data"
    }
   ],
   "source": [
    "plt.title(\"Measurements by Species\")\n",
    "sns.barplot(x=\"species\", y=\"sepal_length\", data=iris_train)\n",
    "population_sepal_length = iris_train.sepal_length.mean()\n",
    "plt.axhline(population_sepal_length, label=\"Species mean\")\n",
    "plt.legend()\n",
    "plt.show()"
   ]
  },
  {
   "cell_type": "code",
   "execution_count": 20,
   "id": "68a8e1b6",
   "metadata": {},
   "outputs": [
    {
     "data": {
      "image/png": "[encoded data removed]",
      "text/plain": [
       "<Figure size 432x288 with 1 Axes>"
      ]
     },
     "metadata": {
      "needs_background": "light"
     },
     "output_type": "display_data"
    },
    {
     "data": {
      "image/png": "[encoded data removed]",
      "text/plain": [
       "<Figure size 432x288 with 1 Axes>"
      ]
     },
     "metadata": {
      "needs_background": "light"
     },
     "output_type": "display_data"
    },
    {
     "data": {
      "image/png": "[encoded data removed]",
      "text/plain": [
       "<Figure size 432x288 with 1 Axes>"
      ]
     },
     "metadata": {
      "needs_background": "light"
     },
     "output_type": "display_data"
    },
    {
     "data": {
      "image/png": "[encoded data removed]",
      "text/plain": [
       "<Figure size 432x288 with 1 Axes>"
      ]
     },
     "metadata": {
      "needs_background": "light"
     },
     "output_type": "display_data"
    }
   ],
   "source": [
    "for col in iris_num_cols:\n",
    "    sns.barplot(x=\"species\", y=col, data=iris_train)\n",
    "    population_sepal_length = iris_train.sepal_length.mean()\n",
    "    plt.axhline(col, label=\"Species mean\")\n",
    "    plt.legend()\n",
    "    plt.show()"
   ]
  },
  {
   "cell_type": "markdown",
   "id": "f4f34af9",
   "metadata": {},
   "source": [
    "- <p>For each measurement type, compute the descriptive statistics for each species. </p>"
   ]
  },
  {
   "cell_type": "code",
   "execution_count": 21,
   "id": "9c2bd188",
   "metadata": {},
   "outputs": [
    {
     "data": {
      "text/html": [
       "<div>\n",
       "<style scoped>\n",
       "    .dataframe tbody tr th:only-of-type {\n",
       "        vertical-align: middle;\n",
       "    }\n",
       "\n",
       "    .dataframe tbody tr th {\n",
       "        vertical-align: top;\n",
       "    }\n",
       "\n",
       "    .dataframe thead th {\n",
       "        text-align: right;\n",
       "    }\n",
       "</style>\n",
       "<table border=\"1\" class=\"dataframe\">\n",
       "  <thead>\n",
       "    <tr style=\"text-align: right;\">\n",
       "      <th></th>\n",
       "      <th>count</th>\n",
       "      <th>mean</th>\n",
       "      <th>std</th>\n",
       "      <th>min</th>\n",
       "      <th>25%</th>\n",
       "      <th>50%</th>\n",
       "      <th>75%</th>\n",
       "      <th>max</th>\n",
       "    </tr>\n",
       "  </thead>\n",
       "  <tbody>\n",
       "    <tr>\n",
       "      <th>sepal_length</th>\n",
       "      <td>84.0</td>\n",
       "      <td>5.841667</td>\n",
       "      <td>0.813324</td>\n",
       "      <td>4.5</td>\n",
       "      <td>5.100</td>\n",
       "      <td>5.80</td>\n",
       "      <td>6.4</td>\n",
       "      <td>7.9</td>\n",
       "    </tr>\n",
       "    <tr>\n",
       "      <th>sepal_width</th>\n",
       "      <td>84.0</td>\n",
       "      <td>3.028571</td>\n",
       "      <td>0.428101</td>\n",
       "      <td>2.0</td>\n",
       "      <td>2.800</td>\n",
       "      <td>3.00</td>\n",
       "      <td>3.3</td>\n",
       "      <td>4.0</td>\n",
       "    </tr>\n",
       "    <tr>\n",
       "      <th>petal_length</th>\n",
       "      <td>84.0</td>\n",
       "      <td>3.804762</td>\n",
       "      <td>1.718777</td>\n",
       "      <td>1.0</td>\n",
       "      <td>1.600</td>\n",
       "      <td>4.35</td>\n",
       "      <td>5.1</td>\n",
       "      <td>6.7</td>\n",
       "    </tr>\n",
       "    <tr>\n",
       "      <th>petal_width</th>\n",
       "      <td>84.0</td>\n",
       "      <td>1.211905</td>\n",
       "      <td>0.732450</td>\n",
       "      <td>0.1</td>\n",
       "      <td>0.375</td>\n",
       "      <td>1.30</td>\n",
       "      <td>1.8</td>\n",
       "      <td>2.5</td>\n",
       "    </tr>\n",
       "    <tr>\n",
       "      <th>species_versicolor</th>\n",
       "      <td>84.0</td>\n",
       "      <td>0.369048</td>\n",
       "      <td>0.485445</td>\n",
       "      <td>0.0</td>\n",
       "      <td>0.000</td>\n",
       "      <td>0.00</td>\n",
       "      <td>1.0</td>\n",
       "      <td>1.0</td>\n",
       "    </tr>\n",
       "    <tr>\n",
       "      <th>species_virginica</th>\n",
       "      <td>84.0</td>\n",
       "      <td>0.321429</td>\n",
       "      <td>0.469830</td>\n",
       "      <td>0.0</td>\n",
       "      <td>0.000</td>\n",
       "      <td>0.00</td>\n",
       "      <td>1.0</td>\n",
       "      <td>1.0</td>\n",
       "    </tr>\n",
       "  </tbody>\n",
       "</table>\n",
       "</div>"
      ],
      "text/plain": [
       "                    count      mean       std  min    25%   50%  75%  max\n",
       "sepal_length         84.0  5.841667  0.813324  4.5  5.100  5.80  6.4  7.9\n",
       "sepal_width          84.0  3.028571  0.428101  2.0  2.800  3.00  3.3  4.0\n",
       "petal_length         84.0  3.804762  1.718777  1.0  1.600  4.35  5.1  6.7\n",
       "petal_width          84.0  1.211905  0.732450  0.1  0.375  1.30  1.8  2.5\n",
       "species_versicolor   84.0  0.369048  0.485445  0.0  0.000  0.00  1.0  1.0\n",
       "species_virginica    84.0  0.321429  0.469830  0.0  0.000  0.00  1.0  1.0"
      ]
     },
     "execution_count": 21,
     "metadata": {},
     "output_type": "execute_result"
    }
   ],
   "source": [
    "iris_train.describe().T"
   ]
  },
  {
   "cell_type": "code",
   "execution_count": 25,
   "id": "fdeb3069",
   "metadata": {},
   "outputs": [
    {
     "data": {
      "text/html": [
       "<div>\n",
       "<style scoped>\n",
       "    .dataframe tbody tr th:only-of-type {\n",
       "        vertical-align: middle;\n",
       "    }\n",
       "\n",
       "    .dataframe tbody tr th {\n",
       "        vertical-align: top;\n",
       "    }\n",
       "\n",
       "    .dataframe thead tr th {\n",
       "        text-align: left;\n",
       "    }\n",
       "\n",
       "    .dataframe thead tr:last-of-type th {\n",
       "        text-align: right;\n",
       "    }\n",
       "</style>\n",
       "<table border=\"1\" class=\"dataframe\">\n",
       "  <thead>\n",
       "    <tr>\n",
       "      <th></th>\n",
       "      <th colspan=\"8\" halign=\"left\">sepal_length</th>\n",
       "      <th colspan=\"2\" halign=\"left\">sepal_width</th>\n",
       "      <th>...</th>\n",
       "      <th colspan=\"2\" halign=\"left\">species_versicolor</th>\n",
       "      <th colspan=\"8\" halign=\"left\">species_virginica</th>\n",
       "    </tr>\n",
       "    <tr>\n",
       "      <th></th>\n",
       "      <th>count</th>\n",
       "      <th>mean</th>\n",
       "      <th>std</th>\n",
       "      <th>min</th>\n",
       "      <th>25%</th>\n",
       "      <th>50%</th>\n",
       "      <th>75%</th>\n",
       "      <th>max</th>\n",
       "      <th>count</th>\n",
       "      <th>mean</th>\n",
       "      <th>...</th>\n",
       "      <th>75%</th>\n",
       "      <th>max</th>\n",
       "      <th>count</th>\n",
       "      <th>mean</th>\n",
       "      <th>std</th>\n",
       "      <th>min</th>\n",
       "      <th>25%</th>\n",
       "      <th>50%</th>\n",
       "      <th>75%</th>\n",
       "      <th>max</th>\n",
       "    </tr>\n",
       "    <tr>\n",
       "      <th>species</th>\n",
       "      <th></th>\n",
       "      <th></th>\n",
       "      <th></th>\n",
       "      <th></th>\n",
       "      <th></th>\n",
       "      <th></th>\n",
       "      <th></th>\n",
       "      <th></th>\n",
       "      <th></th>\n",
       "      <th></th>\n",
       "      <th></th>\n",
       "      <th></th>\n",
       "      <th></th>\n",
       "      <th></th>\n",
       "      <th></th>\n",
       "      <th></th>\n",
       "      <th></th>\n",
       "      <th></th>\n",
       "      <th></th>\n",
       "      <th></th>\n",
       "      <th></th>\n",
       "    </tr>\n",
       "  </thead>\n",
       "  <tbody>\n",
       "    <tr>\n",
       "      <th>setosa</th>\n",
       "      <td>26.0</td>\n",
       "      <td>5.011538</td>\n",
       "      <td>0.326591</td>\n",
       "      <td>4.5</td>\n",
       "      <td>4.80</td>\n",
       "      <td>5.0</td>\n",
       "      <td>5.10</td>\n",
       "      <td>5.8</td>\n",
       "      <td>26.0</td>\n",
       "      <td>3.396154</td>\n",
       "      <td>...</td>\n",
       "      <td>0.0</td>\n",
       "      <td>0.0</td>\n",
       "      <td>26.0</td>\n",
       "      <td>0.0</td>\n",
       "      <td>0.0</td>\n",
       "      <td>0.0</td>\n",
       "      <td>0.0</td>\n",
       "      <td>0.0</td>\n",
       "      <td>0.0</td>\n",
       "      <td>0.0</td>\n",
       "    </tr>\n",
       "    <tr>\n",
       "      <th>versicolor</th>\n",
       "      <td>31.0</td>\n",
       "      <td>5.938710</td>\n",
       "      <td>0.531462</td>\n",
       "      <td>4.9</td>\n",
       "      <td>5.55</td>\n",
       "      <td>5.9</td>\n",
       "      <td>6.25</td>\n",
       "      <td>7.0</td>\n",
       "      <td>31.0</td>\n",
       "      <td>2.787097</td>\n",
       "      <td>...</td>\n",
       "      <td>1.0</td>\n",
       "      <td>1.0</td>\n",
       "      <td>31.0</td>\n",
       "      <td>0.0</td>\n",
       "      <td>0.0</td>\n",
       "      <td>0.0</td>\n",
       "      <td>0.0</td>\n",
       "      <td>0.0</td>\n",
       "      <td>0.0</td>\n",
       "      <td>0.0</td>\n",
       "    </tr>\n",
       "    <tr>\n",
       "      <th>virginica</th>\n",
       "      <td>27.0</td>\n",
       "      <td>6.529630</td>\n",
       "      <td>0.700996</td>\n",
       "      <td>4.9</td>\n",
       "      <td>6.05</td>\n",
       "      <td>6.4</td>\n",
       "      <td>7.00</td>\n",
       "      <td>7.9</td>\n",
       "      <td>27.0</td>\n",
       "      <td>2.951852</td>\n",
       "      <td>...</td>\n",
       "      <td>0.0</td>\n",
       "      <td>0.0</td>\n",
       "      <td>27.0</td>\n",
       "      <td>1.0</td>\n",
       "      <td>0.0</td>\n",
       "      <td>1.0</td>\n",
       "      <td>1.0</td>\n",
       "      <td>1.0</td>\n",
       "      <td>1.0</td>\n",
       "      <td>1.0</td>\n",
       "    </tr>\n",
       "  </tbody>\n",
       "</table>\n",
       "<p>3 rows × 48 columns</p>\n",
       "</div>"
      ],
      "text/plain": [
       "           sepal_length                                                 \\\n",
       "                  count      mean       std  min   25%  50%   75%  max   \n",
       "species                                                                  \n",
       "setosa             26.0  5.011538  0.326591  4.5  4.80  5.0  5.10  5.8   \n",
       "versicolor         31.0  5.938710  0.531462  4.9  5.55  5.9  6.25  7.0   \n",
       "virginica          27.0  6.529630  0.700996  4.9  6.05  6.4  7.00  7.9   \n",
       "\n",
       "           sepal_width            ... species_versicolor       \\\n",
       "                 count      mean  ...                75%  max   \n",
       "species                           ...                           \n",
       "setosa            26.0  3.396154  ...                0.0  0.0   \n",
       "versicolor        31.0  2.787097  ...                1.0  1.0   \n",
       "virginica         27.0  2.951852  ...                0.0  0.0   \n",
       "\n",
       "           species_virginica                                     \n",
       "                       count mean  std  min  25%  50%  75%  max  \n",
       "species                                                          \n",
       "setosa                  26.0  0.0  0.0  0.0  0.0  0.0  0.0  0.0  \n",
       "versicolor              31.0  0.0  0.0  0.0  0.0  0.0  0.0  0.0  \n",
       "virginica               27.0  1.0  0.0  1.0  1.0  1.0  1.0  1.0  \n",
       "\n",
       "[3 rows x 48 columns]"
      ]
     },
     "execution_count": 25,
     "metadata": {},
     "output_type": "execute_result"
    }
   ],
   "source": [
    "iris_train.groupby('species').describe()"
   ]
  },
  {
   "cell_type": "markdown",
   "id": "aae4d443",
   "metadata": {},
   "source": [
    "- For *virginica* & *versicolor*: Compare the mean petal_width using the Mann-Whitney test (scipy.stats.mannwhitneyu) to see if there is a significant difference between the two groups. Do the same for the other measurement types."
   ]
  },
  {
   "cell_type": "code",
   "execution_count": 28,
   "id": "420bb493",
   "metadata": {},
   "outputs": [
    {
     "data": {
      "text/html": [
       "<div>\n",
       "<style scoped>\n",
       "    .dataframe tbody tr th:only-of-type {\n",
       "        vertical-align: middle;\n",
       "    }\n",
       "\n",
       "    .dataframe tbody tr th {\n",
       "        vertical-align: top;\n",
       "    }\n",
       "\n",
       "    .dataframe thead th {\n",
       "        text-align: right;\n",
       "    }\n",
       "</style>\n",
       "<table border=\"1\" class=\"dataframe\">\n",
       "  <thead>\n",
       "    <tr style=\"text-align: right;\">\n",
       "      <th></th>\n",
       "      <th>species</th>\n",
       "      <th>sepal_length</th>\n",
       "      <th>sepal_width</th>\n",
       "      <th>petal_length</th>\n",
       "      <th>petal_width</th>\n",
       "      <th>species_versicolor</th>\n",
       "      <th>species_virginica</th>\n",
       "    </tr>\n",
       "  </thead>\n",
       "  <tbody>\n",
       "    <tr>\n",
       "      <th>139</th>\n",
       "      <td>virginica</td>\n",
       "      <td>6.9</td>\n",
       "      <td>3.1</td>\n",
       "      <td>5.4</td>\n",
       "      <td>2.1</td>\n",
       "      <td>0</td>\n",
       "      <td>1</td>\n",
       "    </tr>\n",
       "    <tr>\n",
       "      <th>149</th>\n",
       "      <td>virginica</td>\n",
       "      <td>5.9</td>\n",
       "      <td>3.0</td>\n",
       "      <td>5.1</td>\n",
       "      <td>1.8</td>\n",
       "      <td>0</td>\n",
       "      <td>1</td>\n",
       "    </tr>\n",
       "    <tr>\n",
       "      <th>129</th>\n",
       "      <td>virginica</td>\n",
       "      <td>7.2</td>\n",
       "      <td>3.0</td>\n",
       "      <td>5.8</td>\n",
       "      <td>1.6</td>\n",
       "      <td>0</td>\n",
       "      <td>1</td>\n",
       "    </tr>\n",
       "    <tr>\n",
       "      <th>143</th>\n",
       "      <td>virginica</td>\n",
       "      <td>6.8</td>\n",
       "      <td>3.2</td>\n",
       "      <td>5.9</td>\n",
       "      <td>2.3</td>\n",
       "      <td>0</td>\n",
       "      <td>1</td>\n",
       "    </tr>\n",
       "    <tr>\n",
       "      <th>110</th>\n",
       "      <td>virginica</td>\n",
       "      <td>6.5</td>\n",
       "      <td>3.2</td>\n",
       "      <td>5.1</td>\n",
       "      <td>2.0</td>\n",
       "      <td>0</td>\n",
       "      <td>1</td>\n",
       "    </tr>\n",
       "  </tbody>\n",
       "</table>\n",
       "</div>"
      ],
      "text/plain": [
       "       species  sepal_length  sepal_width  petal_length  petal_width  \\\n",
       "139  virginica           6.9          3.1           5.4          2.1   \n",
       "149  virginica           5.9          3.0           5.1          1.8   \n",
       "129  virginica           7.2          3.0           5.8          1.6   \n",
       "143  virginica           6.8          3.2           5.9          2.3   \n",
       "110  virginica           6.5          3.2           5.1          2.0   \n",
       "\n",
       "     species_versicolor  species_virginica  \n",
       "139                   0                  1  \n",
       "149                   0                  1  \n",
       "129                   0                  1  \n",
       "143                   0                  1  \n",
       "110                   0                  1  "
      ]
     },
     "execution_count": 28,
     "metadata": {},
     "output_type": "execute_result"
    }
   ],
   "source": [
    "virginica = iris_train[iris_train['species']=='virginica']\n",
    "virginica.head()"
   ]
  },
  {
   "cell_type": "code",
   "execution_count": 29,
   "id": "8037e30c",
   "metadata": {},
   "outputs": [
    {
     "data": {
      "text/html": [
       "<div>\n",
       "<style scoped>\n",
       "    .dataframe tbody tr th:only-of-type {\n",
       "        vertical-align: middle;\n",
       "    }\n",
       "\n",
       "    .dataframe tbody tr th {\n",
       "        vertical-align: top;\n",
       "    }\n",
       "\n",
       "    .dataframe thead th {\n",
       "        text-align: right;\n",
       "    }\n",
       "</style>\n",
       "<table border=\"1\" class=\"dataframe\">\n",
       "  <thead>\n",
       "    <tr style=\"text-align: right;\">\n",
       "      <th></th>\n",
       "      <th>species</th>\n",
       "      <th>sepal_length</th>\n",
       "      <th>sepal_width</th>\n",
       "      <th>petal_length</th>\n",
       "      <th>petal_width</th>\n",
       "      <th>species_versicolor</th>\n",
       "      <th>species_virginica</th>\n",
       "    </tr>\n",
       "  </thead>\n",
       "  <tbody>\n",
       "    <tr>\n",
       "      <th>56</th>\n",
       "      <td>versicolor</td>\n",
       "      <td>6.3</td>\n",
       "      <td>3.3</td>\n",
       "      <td>4.7</td>\n",
       "      <td>1.6</td>\n",
       "      <td>1</td>\n",
       "      <td>0</td>\n",
       "    </tr>\n",
       "    <tr>\n",
       "      <th>70</th>\n",
       "      <td>versicolor</td>\n",
       "      <td>5.9</td>\n",
       "      <td>3.2</td>\n",
       "      <td>4.8</td>\n",
       "      <td>1.8</td>\n",
       "      <td>1</td>\n",
       "      <td>0</td>\n",
       "    </tr>\n",
       "    <tr>\n",
       "      <th>68</th>\n",
       "      <td>versicolor</td>\n",
       "      <td>6.2</td>\n",
       "      <td>2.2</td>\n",
       "      <td>4.5</td>\n",
       "      <td>1.5</td>\n",
       "      <td>1</td>\n",
       "      <td>0</td>\n",
       "    </tr>\n",
       "    <tr>\n",
       "      <th>64</th>\n",
       "      <td>versicolor</td>\n",
       "      <td>5.6</td>\n",
       "      <td>2.9</td>\n",
       "      <td>3.6</td>\n",
       "      <td>1.3</td>\n",
       "      <td>1</td>\n",
       "      <td>0</td>\n",
       "    </tr>\n",
       "    <tr>\n",
       "      <th>98</th>\n",
       "      <td>versicolor</td>\n",
       "      <td>5.1</td>\n",
       "      <td>2.5</td>\n",
       "      <td>3.0</td>\n",
       "      <td>1.1</td>\n",
       "      <td>1</td>\n",
       "      <td>0</td>\n",
       "    </tr>\n",
       "  </tbody>\n",
       "</table>\n",
       "</div>"
      ],
      "text/plain": [
       "       species  sepal_length  sepal_width  petal_length  petal_width  \\\n",
       "56  versicolor           6.3          3.3           4.7          1.6   \n",
       "70  versicolor           5.9          3.2           4.8          1.8   \n",
       "68  versicolor           6.2          2.2           4.5          1.5   \n",
       "64  versicolor           5.6          2.9           3.6          1.3   \n",
       "98  versicolor           5.1          2.5           3.0          1.1   \n",
       "\n",
       "    species_versicolor  species_virginica  \n",
       "56                   1                  0  \n",
       "70                   1                  0  \n",
       "68                   1                  0  \n",
       "64                   1                  0  \n",
       "98                   1                  0  "
      ]
     },
     "execution_count": 29,
     "metadata": {},
     "output_type": "execute_result"
    }
   ],
   "source": [
    "versicolor = iris_train[iris_train['species']=='versicolor']\n",
    "versicolor.head()"
   ]
  },
  {
   "cell_type": "code",
   "execution_count": 32,
   "id": "ce44da93",
   "metadata": {},
   "outputs": [
    {
     "data": {
      "text/plain": [
       "(812.5, 3.688979419080088e-10)"
      ]
     },
     "execution_count": 32,
     "metadata": {},
     "output_type": "execute_result"
    }
   ],
   "source": [
    "from scipy import stats\n",
    "alpha = 0.05\n",
    "\n",
    "null_hypothesis = \"No difference in mean pedal width between virginica and versicolor\"\n",
    "alternative_hypothesis = \"Difference in mean pedal width between virginica and versicolor\"\n",
    "\n",
    "\n",
    "\n",
    "\n",
    "# Use Mann Whitney u-test when t-test assumptions do not hold.\n",
    "# The distributions are not normal and the variances are not equal, so we'll do mann-whitney\n",
    "t, p = stats.mannwhitneyu(virginica.petal_width, versicolor.petal_width, alternative=\"greater\")\n",
    "t, p"
   ]
  },
  {
   "cell_type": "code",
   "execution_count": 33,
   "id": "83b8d05e",
   "metadata": {},
   "outputs": [
    {
     "name": "stdout",
     "output_type": "stream",
     "text": [
      "We find evidence to reject the null hypothesis that No difference in mean pedal width between virginica and versicolor\n",
      "We find evidence evidence to move forward with the understaind that Difference in mean pedal width between virginica and versicolor\n"
     ]
    }
   ],
   "source": [
    "if p < alpha:\n",
    "    print(\"We find evidence to reject the null hypothesis that\", null_hypothesis)\n",
    "    print(\"We find evidence evidence to move forward with the understaind that\", alternative_hypothesis)\n",
    "else:\n",
    "    print(\"We fail to reject the null hypothesis\")\n",
    "    print(\"There is no evidence that\", null_hypothesis)"
   ]
  },
  {
   "cell_type": "code",
   "execution_count": 35,
   "id": "55a3dfbc",
   "metadata": {},
   "outputs": [
    {
     "data": {
      "text/plain": [
       "Index(['sepal_length', 'sepal_width', 'petal_length', 'petal_width'], dtype='object')"
      ]
     },
     "execution_count": 35,
     "metadata": {},
     "output_type": "execute_result"
    }
   ],
   "source": [
    "iris_num_cols"
   ]
  },
  {
   "cell_type": "code",
   "execution_count": 40,
   "id": "5c3ffecb",
   "metadata": {},
   "outputs": [
    {
     "name": "stdout",
     "output_type": "stream",
     "text": [
      "630.0 0.0004942698168315015\n",
      "We find evidence to reject the null hypothesis that No difference in sepal_length between virginica and versicolor\n",
      "We find evidence evidence to move forward with the understaind that Difference in sepal_length between virginica and versicolor\n",
      "---------------\n",
      "527.0 0.0453504274899544\n",
      "We find evidence to reject the null hypothesis that No difference in sepal_width between virginica and versicolor\n",
      "We find evidence evidence to move forward with the understaind that Difference in sepal_width between virginica and versicolor\n",
      "---------------\n",
      "817.5 2.425293616303908e-10\n",
      "We find evidence to reject the null hypothesis that No difference in petal_length between virginica and versicolor\n",
      "We find evidence evidence to move forward with the understaind that Difference in petal_length between virginica and versicolor\n",
      "---------------\n",
      "812.5 3.688979419080088e-10\n",
      "We find evidence to reject the null hypothesis that No difference in petal_width between virginica and versicolor\n",
      "We find evidence evidence to move forward with the understaind that Difference in petal_width between virginica and versicolor\n",
      "---------------\n"
     ]
    }
   ],
   "source": [
    "for col in iris_num_cols:\n",
    "    null_hypothesis = \"No difference in \"+col+\" between virginica and versicolor\"\n",
    "    alternative_hypothesis = \"Difference in \"+col+\" between virginica and versicolor\"\n",
    "    t, p = stats.mannwhitneyu(virginica[col], versicolor[col], alternative=\"greater\")\n",
    "    print(t,p)\n",
    "    if p < alpha:\n",
    "        print(\"We find evidence to reject the null hypothesis that\", null_hypothesis)\n",
    "        print(\"We find evidence evidence to move forward with the understaind that\", alternative_hypothesis)\n",
    "        print('---------------')\n",
    "    else:\n",
    "        print(\"We fail to reject the null hypothesis\")\n",
    "        print(\"There is no evidence that\", null_hypothesis)\n",
    "        print('---------------')"
   ]
  },
  {
   "cell_type": "markdown",
   "id": "eb956d7a",
   "metadata": {},
   "source": [
    "- <p>Document takeaways &amp; any actions. </p>"
   ]
  },
  {
   "cell_type": "code",
   "execution_count": null,
   "id": "03243128",
   "metadata": {},
   "outputs": [],
   "source": []
  },
  {
   "cell_type": "code",
   "execution_count": null,
   "id": "c0d7a82f",
   "metadata": {},
   "outputs": [],
   "source": []
  },
  {
   "cell_type": "code",
   "execution_count": null,
   "id": "6ca89fa5",
   "metadata": {},
   "outputs": [],
   "source": []
  },
  {
   "cell_type": "code",
   "execution_count": null,
   "id": "1ce0d7eb",
   "metadata": {},
   "outputs": [],
   "source": []
  },
  {
   "cell_type": "code",
   "execution_count": null,
   "id": "2fc94191",
   "metadata": {},
   "outputs": [],
   "source": []
  },
  {
   "cell_type": "code",
   "execution_count": null,
   "id": "39c89d27",
   "metadata": {},
   "outputs": [],
   "source": []
  },
  {
   "cell_type": "code",
   "execution_count": null,
   "id": "89a07c87",
   "metadata": {},
   "outputs": [],
   "source": []
  },
  {
   "cell_type": "code",
   "execution_count": null,
   "id": "d1800218",
   "metadata": {},
   "outputs": [],
   "source": []
  },
  {
   "cell_type": "markdown",
   "id": "52459bf4",
   "metadata": {},
   "source": [
    "### 4. Multivariate Stats\n"
   ]
  },
  {
   "cell_type": "markdown",
   "id": "2147984f",
   "metadata": {},
   "source": [
    "- <p>Visualize the interaction of each measurement type with the others using a pairplot (or scatter matrix or something similar) and add color to represent species. </p>"
   ]
  },
  {
   "cell_type": "code",
   "execution_count": 47,
   "id": "c645047d",
   "metadata": {
    "scrolled": true
   },
   "outputs": [
    {
     "data": {
      "text/plain": [
       "<seaborn.axisgrid.PairGrid at 0x7f77e09babe0>"
      ]
     },
     "execution_count": 47,
     "metadata": {},
     "output_type": "execute_result"
    },
    {
     "data": {
      "image/png": "[encoded data removed]",
      "text/plain": [
       "<Figure size 1164.75x1080 with 42 Axes>"
      ]
     },
     "metadata": {
      "needs_background": "light"
     },
     "output_type": "display_data"
    }
   ],
   "source": [
    "sns.pairplot(iris_train, hue='species')"
   ]
  },
  {
   "cell_type": "code",
   "execution_count": 58,
   "id": "fae3b10a",
   "metadata": {},
   "outputs": [
    {
     "data": {
      "image/png": "[encoded data removed]",
      "text/plain": [
       "<Figure size 804.75x720 with 20 Axes>"
      ]
     },
     "metadata": {
      "needs_background": "light"
     },
     "output_type": "display_data"
    }
   ],
   "source": []
  },
  {
   "cell_type": "code",
   "execution_count": 60,
   "id": "a76f593a",
   "metadata": {},
   "outputs": [
    {
     "data": {
      "text/html": [
       "<div>\n",
       "<style scoped>\n",
       "    .dataframe tbody tr th:only-of-type {\n",
       "        vertical-align: middle;\n",
       "    }\n",
       "\n",
       "    .dataframe tbody tr th {\n",
       "        vertical-align: top;\n",
       "    }\n",
       "\n",
       "    .dataframe thead th {\n",
       "        text-align: right;\n",
       "    }\n",
       "</style>\n",
       "<table border=\"1\" class=\"dataframe\">\n",
       "  <thead>\n",
       "    <tr style=\"text-align: right;\">\n",
       "      <th></th>\n",
       "      <th>sepal_length</th>\n",
       "      <th>sepal_width</th>\n",
       "      <th>petal_length</th>\n",
       "      <th>petal_width</th>\n",
       "      <th>species_versicolor</th>\n",
       "      <th>species_virginica</th>\n",
       "    </tr>\n",
       "  </thead>\n",
       "  <tbody>\n",
       "    <tr>\n",
       "      <th>sepal_length</th>\n",
       "      <td>1.000000</td>\n",
       "      <td>-0.037025</td>\n",
       "      <td>0.856463</td>\n",
       "      <td>0.773962</td>\n",
       "      <td>0.091800</td>\n",
       "      <td>0.585661</td>\n",
       "    </tr>\n",
       "    <tr>\n",
       "      <th>sepal_width</th>\n",
       "      <td>-0.037025</td>\n",
       "      <td>1.000000</td>\n",
       "      <td>-0.378101</td>\n",
       "      <td>-0.326546</td>\n",
       "      <td>-0.433979</td>\n",
       "      <td>-0.124081</td>\n",
       "    </tr>\n",
       "    <tr>\n",
       "      <th>petal_length</th>\n",
       "      <td>0.856463</td>\n",
       "      <td>-0.378101</td>\n",
       "      <td>1.000000</td>\n",
       "      <td>0.954781</td>\n",
       "      <td>0.191362</td>\n",
       "      <td>0.703786</td>\n",
       "    </tr>\n",
       "    <tr>\n",
       "      <th>petal_width</th>\n",
       "      <td>0.773962</td>\n",
       "      <td>-0.326546</td>\n",
       "      <td>0.954781</td>\n",
       "      <td>1.000000</td>\n",
       "      <td>0.116257</td>\n",
       "      <td>0.744982</td>\n",
       "    </tr>\n",
       "    <tr>\n",
       "      <th>species_versicolor</th>\n",
       "      <td>0.091800</td>\n",
       "      <td>-0.433979</td>\n",
       "      <td>0.191362</td>\n",
       "      <td>0.116257</td>\n",
       "      <td>1.000000</td>\n",
       "      <td>-0.526365</td>\n",
       "    </tr>\n",
       "    <tr>\n",
       "      <th>species_virginica</th>\n",
       "      <td>0.585661</td>\n",
       "      <td>-0.124081</td>\n",
       "      <td>0.703786</td>\n",
       "      <td>0.744982</td>\n",
       "      <td>-0.526365</td>\n",
       "      <td>1.000000</td>\n",
       "    </tr>\n",
       "  </tbody>\n",
       "</table>\n",
       "</div>"
      ],
      "text/plain": [
       "                    sepal_length  sepal_width  petal_length  petal_width  \\\n",
       "sepal_length            1.000000    -0.037025      0.856463     0.773962   \n",
       "sepal_width            -0.037025     1.000000     -0.378101    -0.326546   \n",
       "petal_length            0.856463    -0.378101      1.000000     0.954781   \n",
       "petal_width             0.773962    -0.326546      0.954781     1.000000   \n",
       "species_versicolor      0.091800    -0.433979      0.191362     0.116257   \n",
       "species_virginica       0.585661    -0.124081      0.703786     0.744982   \n",
       "\n",
       "                    species_versicolor  species_virginica  \n",
       "sepal_length                  0.091800           0.585661  \n",
       "sepal_width                  -0.433979          -0.124081  \n",
       "petal_length                  0.191362           0.703786  \n",
       "petal_width                   0.116257           0.744982  \n",
       "species_versicolor            1.000000          -0.526365  \n",
       "species_virginica            -0.526365           1.000000  "
      ]
     },
     "execution_count": 60,
     "metadata": {},
     "output_type": "execute_result"
    }
   ],
   "source": [
    "iris_train.corr()"
   ]
  },
  {
   "cell_type": "code",
   "execution_count": 62,
   "id": "f8a0bd2b",
   "metadata": {},
   "outputs": [
    {
     "data": {
      "image/png": "[encoded data removed]",
      "text/plain": [
       "<Figure size 432x288 with 2 Axes>"
      ]
     },
     "metadata": {
      "needs_background": "light"
     },
     "output_type": "display_data"
    }
   ],
   "source": [
    "sns.heatmap(iris_train.corr(), cmap='mako', center=0, annot=True)\n",
    "plt.show();"
   ]
  },
  {
   "cell_type": "code",
   "execution_count": null,
   "id": "9a98baf5",
   "metadata": {},
   "outputs": [],
   "source": [
    "sns.catplot(data=iris_train, x = 'species', y='sepal_length')"
   ]
  },
  {
   "cell_type": "markdown",
   "id": "fae05260",
   "metadata": {},
   "source": [
    "- <p>Visualize two numeric variables by means of the species. Hint: <code>sns.relplot</code> with <code>hue</code> or <code>col</code></p>"
   ]
  },
  {
   "cell_type": "code",
   "execution_count": 49,
   "id": "c02b8ebe",
   "metadata": {},
   "outputs": [
    {
     "data": {
      "image/png": "[encoded data removed]",
      "text/plain": [
       "<Figure size 1164.75x360 with 3 Axes>"
      ]
     },
     "metadata": {
      "needs_background": "light"
     },
     "output_type": "display_data"
    }
   ],
   "source": [
    "rel = sns.relplot(x='sepal_length', y='sepal_width', col = 'species', kind = 'scatter', data=iris_train, hue=\"species\")\n",
    "rel.fig.suptitle('Sepal Length by Width colored by species') # One way to title a relplot\n",
    "plt.tight_layout()"
   ]
  },
  {
   "cell_type": "markdown",
   "id": "4a7fbec5",
   "metadata": {},
   "source": [
    "- <p>Create a swarmplot using a melted dataframe of all your numeric variables. The x-axis should be the variable name, the y-axis the measure. Add another dimension using color to represent species. Document takeaways from this visualization.</p>"
   ]
  },
  {
   "cell_type": "code",
   "execution_count": 54,
   "id": "3d29e54c",
   "metadata": {},
   "outputs": [
    {
     "data": {
      "text/plain": [
       "MannwhitneyuResult(statistic=310.0, pvalue=0.0453504274899544)"
      ]
     },
     "execution_count": 54,
     "metadata": {},
     "output_type": "execute_result"
    }
   ],
   "source": []
  },
  {
   "cell_type": "markdown",
   "id": "7f1d4e70",
   "metadata": {},
   "source": [
    "- <p>Ask a specific question of the data, such as: is the sepal area signficantly different in virginica compared to setosa? Answer the question through both a plot and using a mann-whitney or t-test. If you use a t-test, be sure assumptions are met (independence, normality, equal variance). </p>"
   ]
  },
  {
   "cell_type": "code",
   "execution_count": 55,
   "id": "6ac25d34",
   "metadata": {},
   "outputs": [
    {
     "data": {
      "text/plain": [
       "MannwhitneyuResult(statistic=310.0, pvalue=0.0453504274899544)"
      ]
     },
     "execution_count": 55,
     "metadata": {},
     "output_type": "execute_result"
    }
   ],
   "source": [
    "stats.mannwhitneyu(virginica.sepal_width, versicolor.sepal_width)"
   ]
  },
  {
   "cell_type": "markdown",
   "id": "d7ea0d7c",
   "metadata": {},
   "source": [
    "- <p>Document takeaways and any actions. </p>\n"
   ]
  },
  {
   "cell_type": "code",
   "execution_count": null,
   "id": "06c6e9cb",
   "metadata": {},
   "outputs": [],
   "source": []
  },
  {
   "cell_type": "markdown",
   "id": "f047063a",
   "metadata": {},
   "source": [
    "---"
   ]
  },
  {
   "cell_type": "markdown",
   "id": "e24eddf2",
   "metadata": {},
   "source": [
    "<h2 id=\"exercises-part-ii\">Exercises Part II</h2>\n",
    "<p>Explore your <code>titanic</code> dataset more completely.</p>\n",
    "<ul>\n",
    "<li>Determine drivers of the target variable</li>"
   ]
  },
  {
   "cell_type": "code",
   "execution_count": null,
   "id": "260b6c61",
   "metadata": {},
   "outputs": [],
   "source": []
  },
  {
   "cell_type": "markdown",
   "id": "190f8a0c",
   "metadata": {},
   "source": [
    "<li>Determine if certain columns should be dropped</li>\n"
   ]
  },
  {
   "cell_type": "code",
   "execution_count": null,
   "id": "2e231f65",
   "metadata": {},
   "outputs": [],
   "source": []
  },
  {
   "cell_type": "markdown",
   "id": "a5872dc2",
   "metadata": {},
   "source": [
    "<li>Determine if it would be valuable to bin some numeric columns</li>\n"
   ]
  },
  {
   "cell_type": "code",
   "execution_count": null,
   "id": "9e552de6",
   "metadata": {},
   "outputs": [],
   "source": []
  },
  {
   "cell_type": "markdown",
   "id": "d0e7ec67",
   "metadata": {},
   "source": [
    "<li>Determine if it would be valuable to combine multiple columns into one.</li>\n"
   ]
  },
  {
   "cell_type": "code",
   "execution_count": null,
   "id": "453445a6",
   "metadata": {},
   "outputs": [],
   "source": []
  },
  {
   "cell_type": "markdown",
   "id": "3e5b8111",
   "metadata": {},
   "source": [
    "- <p>Does it make sense to combine any features?</p>\n"
   ]
  },
  {
   "cell_type": "code",
   "execution_count": null,
   "id": "46bb9580",
   "metadata": {},
   "outputs": [],
   "source": []
  },
  {
   "cell_type": "markdown",
   "id": "5503e742",
   "metadata": {},
   "source": [
    "- <p>Do you find any surprises?</p>\n"
   ]
  },
  {
   "cell_type": "code",
   "execution_count": null,
   "id": "5f2e6937",
   "metadata": {},
   "outputs": [],
   "source": []
  },
  {
   "cell_type": "markdown",
   "id": "8b6e74dc",
   "metadata": {},
   "source": [
    "- <p>Document any and all findings and takeaways in your notebook using markdown.</p>\n"
   ]
  },
  {
   "cell_type": "code",
   "execution_count": null,
   "id": "4be590ed",
   "metadata": {},
   "outputs": [],
   "source": []
  },
  {
   "cell_type": "markdown",
   "id": "88dc1366",
   "metadata": {},
   "source": [
    "---"
   ]
  },
  {
   "cell_type": "markdown",
   "id": "ba69d424",
   "metadata": {},
   "source": [
    "<h2 id=\"exercises-part-iii\">Exercises Part III</h2>\n",
    "<ul>\n",
    "<li>Explore your <code>telco</code> data to discover drivers of churn</li>\n"
   ]
  },
  {
   "cell_type": "code",
   "execution_count": 56,
   "id": "2c2ab68a",
   "metadata": {},
   "outputs": [],
   "source": [
    "telco_train, telco_validate, telco_test = wrangle.wrangle_telco()"
   ]
  },
  {
   "cell_type": "code",
   "execution_count": 57,
   "id": "109d2cb3",
   "metadata": {},
   "outputs": [
    {
     "data": {
      "text/html": [
       "<div>\n",
       "<style scoped>\n",
       "    .dataframe tbody tr th:only-of-type {\n",
       "        vertical-align: middle;\n",
       "    }\n",
       "\n",
       "    .dataframe tbody tr th {\n",
       "        vertical-align: top;\n",
       "    }\n",
       "\n",
       "    .dataframe thead th {\n",
       "        text-align: right;\n",
       "    }\n",
       "</style>\n",
       "<table border=\"1\" class=\"dataframe\">\n",
       "  <thead>\n",
       "    <tr style=\"text-align: right;\">\n",
       "      <th></th>\n",
       "      <th>gender</th>\n",
       "      <th>senior_citizen</th>\n",
       "      <th>partner</th>\n",
       "      <th>dependents</th>\n",
       "      <th>tenure</th>\n",
       "      <th>phone_service</th>\n",
       "      <th>multiple_lines</th>\n",
       "      <th>online_security</th>\n",
       "      <th>online_backup</th>\n",
       "      <th>device_protection</th>\n",
       "      <th>...</th>\n",
       "      <th>streaming_movies_Yes</th>\n",
       "      <th>paperless_billing_Yes</th>\n",
       "      <th>churn_Yes</th>\n",
       "      <th>contract_type_One year</th>\n",
       "      <th>contract_type_Two year</th>\n",
       "      <th>internet_service_type_Fiber optic</th>\n",
       "      <th>internet_service_type_None</th>\n",
       "      <th>payment_type_Credit card (automatic)</th>\n",
       "      <th>payment_type_Electronic check</th>\n",
       "      <th>payment_type_Mailed check</th>\n",
       "    </tr>\n",
       "  </thead>\n",
       "  <tbody>\n",
       "    <tr>\n",
       "      <th>6096</th>\n",
       "      <td>Female</td>\n",
       "      <td>0</td>\n",
       "      <td>Yes</td>\n",
       "      <td>No</td>\n",
       "      <td>70</td>\n",
       "      <td>Yes</td>\n",
       "      <td>No</td>\n",
       "      <td>No internet service</td>\n",
       "      <td>No internet service</td>\n",
       "      <td>No internet service</td>\n",
       "      <td>...</td>\n",
       "      <td>0</td>\n",
       "      <td>0</td>\n",
       "      <td>0</td>\n",
       "      <td>0</td>\n",
       "      <td>1</td>\n",
       "      <td>0</td>\n",
       "      <td>1</td>\n",
       "      <td>0</td>\n",
       "      <td>0</td>\n",
       "      <td>0</td>\n",
       "    </tr>\n",
       "    <tr>\n",
       "      <th>1603</th>\n",
       "      <td>Male</td>\n",
       "      <td>0</td>\n",
       "      <td>Yes</td>\n",
       "      <td>Yes</td>\n",
       "      <td>15</td>\n",
       "      <td>Yes</td>\n",
       "      <td>No</td>\n",
       "      <td>No</td>\n",
       "      <td>Yes</td>\n",
       "      <td>Yes</td>\n",
       "      <td>...</td>\n",
       "      <td>1</td>\n",
       "      <td>1</td>\n",
       "      <td>0</td>\n",
       "      <td>0</td>\n",
       "      <td>0</td>\n",
       "      <td>0</td>\n",
       "      <td>0</td>\n",
       "      <td>0</td>\n",
       "      <td>0</td>\n",
       "      <td>1</td>\n",
       "    </tr>\n",
       "    <tr>\n",
       "      <th>5350</th>\n",
       "      <td>Female</td>\n",
       "      <td>1</td>\n",
       "      <td>Yes</td>\n",
       "      <td>No</td>\n",
       "      <td>52</td>\n",
       "      <td>Yes</td>\n",
       "      <td>Yes</td>\n",
       "      <td>Yes</td>\n",
       "      <td>Yes</td>\n",
       "      <td>Yes</td>\n",
       "      <td>...</td>\n",
       "      <td>1</td>\n",
       "      <td>1</td>\n",
       "      <td>0</td>\n",
       "      <td>0</td>\n",
       "      <td>0</td>\n",
       "      <td>1</td>\n",
       "      <td>0</td>\n",
       "      <td>0</td>\n",
       "      <td>1</td>\n",
       "      <td>0</td>\n",
       "    </tr>\n",
       "    <tr>\n",
       "      <th>2068</th>\n",
       "      <td>Male</td>\n",
       "      <td>0</td>\n",
       "      <td>No</td>\n",
       "      <td>No</td>\n",
       "      <td>39</td>\n",
       "      <td>No</td>\n",
       "      <td>No phone service</td>\n",
       "      <td>No</td>\n",
       "      <td>No</td>\n",
       "      <td>No</td>\n",
       "      <td>...</td>\n",
       "      <td>1</td>\n",
       "      <td>1</td>\n",
       "      <td>0</td>\n",
       "      <td>0</td>\n",
       "      <td>0</td>\n",
       "      <td>0</td>\n",
       "      <td>0</td>\n",
       "      <td>0</td>\n",
       "      <td>1</td>\n",
       "      <td>0</td>\n",
       "    </tr>\n",
       "    <tr>\n",
       "      <th>6366</th>\n",
       "      <td>Female</td>\n",
       "      <td>0</td>\n",
       "      <td>Yes</td>\n",
       "      <td>No</td>\n",
       "      <td>32</td>\n",
       "      <td>Yes</td>\n",
       "      <td>No</td>\n",
       "      <td>No internet service</td>\n",
       "      <td>No internet service</td>\n",
       "      <td>No internet service</td>\n",
       "      <td>...</td>\n",
       "      <td>0</td>\n",
       "      <td>0</td>\n",
       "      <td>0</td>\n",
       "      <td>1</td>\n",
       "      <td>0</td>\n",
       "      <td>0</td>\n",
       "      <td>1</td>\n",
       "      <td>0</td>\n",
       "      <td>0</td>\n",
       "      <td>1</td>\n",
       "    </tr>\n",
       "  </tbody>\n",
       "</table>\n",
       "<p>5 rows × 47 columns</p>\n",
       "</div>"
      ],
      "text/plain": [
       "      gender  senior_citizen partner dependents  tenure phone_service  \\\n",
       "6096  Female               0     Yes         No      70           Yes   \n",
       "1603    Male               0     Yes        Yes      15           Yes   \n",
       "5350  Female               1     Yes         No      52           Yes   \n",
       "2068    Male               0      No         No      39            No   \n",
       "6366  Female               0     Yes         No      32           Yes   \n",
       "\n",
       "        multiple_lines      online_security        online_backup  \\\n",
       "6096                No  No internet service  No internet service   \n",
       "1603                No                   No                  Yes   \n",
       "5350               Yes                  Yes                  Yes   \n",
       "2068  No phone service                   No                   No   \n",
       "6366                No  No internet service  No internet service   \n",
       "\n",
       "        device_protection  ... streaming_movies_Yes paperless_billing_Yes  \\\n",
       "6096  No internet service  ...                    0                     0   \n",
       "1603                  Yes  ...                    1                     1   \n",
       "5350                  Yes  ...                    1                     1   \n",
       "2068                   No  ...                    1                     1   \n",
       "6366  No internet service  ...                    0                     0   \n",
       "\n",
       "     churn_Yes contract_type_One year  contract_type_Two year  \\\n",
       "6096         0                      0                       1   \n",
       "1603         0                      0                       0   \n",
       "5350         0                      0                       0   \n",
       "2068         0                      0                       0   \n",
       "6366         0                      1                       0   \n",
       "\n",
       "      internet_service_type_Fiber optic internet_service_type_None  \\\n",
       "6096                                  0                          1   \n",
       "1603                                  0                          0   \n",
       "5350                                  1                          0   \n",
       "2068                                  0                          0   \n",
       "6366                                  0                          1   \n",
       "\n",
       "     payment_type_Credit card (automatic) payment_type_Electronic check  \\\n",
       "6096                                    0                             0   \n",
       "1603                                    0                             0   \n",
       "5350                                    0                             1   \n",
       "2068                                    0                             1   \n",
       "6366                                    0                             0   \n",
       "\n",
       "     payment_type_Mailed check  \n",
       "6096                         0  \n",
       "1603                         1  \n",
       "5350                         0  \n",
       "2068                         0  \n",
       "6366                         1  \n",
       "\n",
       "[5 rows x 47 columns]"
      ]
     },
     "execution_count": 57,
     "metadata": {},
     "output_type": "execute_result"
    }
   ],
   "source": [
    "telco_train.head()"
   ]
  },
  {
   "cell_type": "markdown",
   "id": "99fb5750",
   "metadata": {},
   "source": [
    "<li>Determine if certain columns should be dropped</li>\n"
   ]
  },
  {
   "cell_type": "code",
   "execution_count": null,
   "id": "e5b7d482",
   "metadata": {},
   "outputs": [],
   "source": []
  },
  {
   "cell_type": "markdown",
   "id": "9e836b31",
   "metadata": {},
   "source": [
    "<li>Determine if it would be valuable to bin some numeric columns</li>\n"
   ]
  },
  {
   "cell_type": "code",
   "execution_count": null,
   "id": "244ce754",
   "metadata": {},
   "outputs": [],
   "source": []
  },
  {
   "cell_type": "markdown",
   "id": "4bc16682",
   "metadata": {},
   "source": [
    "<li>Determine if it would be valuable to combine multiple columns into one.</li>\n"
   ]
  },
  {
   "cell_type": "code",
   "execution_count": null,
   "id": "968068da",
   "metadata": {},
   "outputs": [],
   "source": []
  },
  {
   "cell_type": "markdown",
   "id": "630be84c",
   "metadata": {},
   "source": [
    "- <p>What are your drivers of churn?</p>\n"
   ]
  },
  {
   "cell_type": "code",
   "execution_count": null,
   "id": "7b9bcc0e",
   "metadata": {},
   "outputs": [],
   "source": []
  },
  {
   "cell_type": "markdown",
   "id": "b6cc43a2",
   "metadata": {},
   "source": [
    "- <p>Does it make sense to combine any features?</p>\n"
   ]
  },
  {
   "cell_type": "code",
   "execution_count": null,
   "id": "cac930e8",
   "metadata": {},
   "outputs": [],
   "source": []
  },
  {
   "cell_type": "markdown",
   "id": "b2f8a7a3",
   "metadata": {},
   "source": [
    "- <p>Do you find any surprises?</p>\n"
   ]
  },
  {
   "cell_type": "code",
   "execution_count": null,
   "id": "67c9426a",
   "metadata": {},
   "outputs": [],
   "source": []
  },
  {
   "cell_type": "markdown",
   "id": "9624f0ba",
   "metadata": {},
   "source": [
    "- <p>Document any and all findings and takeaways in your notebook using markdown.</p>"
   ]
  },
  {
   "cell_type": "code",
   "execution_count": null,
   "id": "81ca8660",
   "metadata": {},
   "outputs": [],
   "source": []
  },
  {
   "cell_type": "code",
   "execution_count": null,
   "id": "9074ac21",
   "metadata": {},
   "outputs": [],
   "source": []
  }
 ],
 "metadata": {
  "kernelspec": {
   "display_name": "Python 3",
   "language": "python",
   "name": "python3"
  },
  "language_info": {
   "codemirror_mode": {
    "name": "ipython",
    "version": 3
   },
   "file_extension": ".py",
   "mimetype": "text/x-python",
   "name": "python",
   "nbconvert_exporter": "python",
   "pygments_lexer": "ipython3",
   "version": "3.8.8"
  }
 },
 "nbformat": 4,
 "nbformat_minor": 5
}
