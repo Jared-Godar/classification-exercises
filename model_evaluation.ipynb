{
 "cells": [
  {
   "cell_type": "markdown",
   "id": "e56f650b",
   "metadata": {},
   "source": [
    "<h2 id=\"Model Evaluation Exercises\">Exercises</h2>\n",
    "<ol>\n",
    "<li>Create a new file named <code>model_evaluation.py</code> or "
   ]
  },
  {
   "cell_type": "code",
   "execution_count": 12,
   "id": "2bdd100d",
   "metadata": {},
   "outputs": [],
   "source": [
    "import pandas as pd\n",
    "import eval"
   ]
  },
  {
   "cell_type": "markdown",
   "id": "f5008bff",
   "metadata": {},
   "source": [
    "\n",
    "<p>Given the following confusion matrix, evaluate (by hand) the model's performance.</p>\n",
    "<pre><code>|               | pred dog   | pred cat   |\n",
    "|:------------  |-----------:|-----------:|\n",
    "| actual dog    |         46 |         7  |\n",
    "| actual cat    |         13 |         34 |\n",
    "</code></pre>\n"
   ]
  },
  {
   "cell_type": "markdown",
   "id": "1bb31bb3",
   "metadata": {},
   "source": [
    "<li>In the context of this problem, what is a false positive?</li>\n"
   ]
  },
  {
   "cell_type": "markdown",
   "id": "e8d78ba8",
   "metadata": {},
   "source": [
    "Predicting dog when actually cat"
   ]
  },
  {
   "cell_type": "markdown",
   "id": "6f435ca2",
   "metadata": {},
   "source": [
    "<li>In the context of this problem, what is a false negative?</li>\n"
   ]
  },
  {
   "cell_type": "markdown",
   "id": "31b7ef0d",
   "metadata": {},
   "source": [
    "Predicting cat when actually dog."
   ]
  },
  {
   "cell_type": "markdown",
   "id": "8ca2acd1",
   "metadata": {},
   "source": [
    "<li>How would you describe this model?</li>\n"
   ]
  },
  {
   "cell_type": "markdown",
   "id": "56f06236",
   "metadata": {},
   "source": [
    "80 % Accuracy with high recall (87%) and negative predictive value (83%), and decent precision (78%) and specificity (72%).\n",
    "\n",
    "\n"
   ]
  },
  {
   "cell_type": "markdown",
   "id": "4affbad9",
   "metadata": {},
   "source": [
    "3. <p>You are working as a datascientist working for Codeup Cody Creator (C3 for short), a rubber-duck manufacturing plant. </p>\n",
    "<p>Unfortunately, some of the rubber ducks that are produced will have defects. Your team has built several models that try to predict those defects, and the data from their predictions <a href=\"https://ds.codeup.com/data/c3.csv\">can be found here</a>.</p>\n",
    "<p>Use the predictions dataset and pandas to help answer the following questions:</p>\n",
    "<ul>\n"
   ]
  },
  {
   "cell_type": "code",
   "execution_count": 3,
   "id": "5d0d2f37",
   "metadata": {},
   "outputs": [
    {
     "data": {
      "text/html": [
       "<div>\n",
       "<style scoped>\n",
       "    .dataframe tbody tr th:only-of-type {\n",
       "        vertical-align: middle;\n",
       "    }\n",
       "\n",
       "    .dataframe tbody tr th {\n",
       "        vertical-align: top;\n",
       "    }\n",
       "\n",
       "    .dataframe thead th {\n",
       "        text-align: right;\n",
       "    }\n",
       "</style>\n",
       "<table border=\"1\" class=\"dataframe\">\n",
       "  <thead>\n",
       "    <tr style=\"text-align: right;\">\n",
       "      <th></th>\n",
       "      <th>actual</th>\n",
       "      <th>model1</th>\n",
       "      <th>model2</th>\n",
       "      <th>model3</th>\n",
       "    </tr>\n",
       "  </thead>\n",
       "  <tbody>\n",
       "    <tr>\n",
       "      <th>0</th>\n",
       "      <td>No Defect</td>\n",
       "      <td>No Defect</td>\n",
       "      <td>Defect</td>\n",
       "      <td>No Defect</td>\n",
       "    </tr>\n",
       "    <tr>\n",
       "      <th>1</th>\n",
       "      <td>No Defect</td>\n",
       "      <td>No Defect</td>\n",
       "      <td>Defect</td>\n",
       "      <td>Defect</td>\n",
       "    </tr>\n",
       "    <tr>\n",
       "      <th>2</th>\n",
       "      <td>No Defect</td>\n",
       "      <td>No Defect</td>\n",
       "      <td>Defect</td>\n",
       "      <td>No Defect</td>\n",
       "    </tr>\n",
       "    <tr>\n",
       "      <th>3</th>\n",
       "      <td>No Defect</td>\n",
       "      <td>Defect</td>\n",
       "      <td>Defect</td>\n",
       "      <td>Defect</td>\n",
       "    </tr>\n",
       "    <tr>\n",
       "      <th>4</th>\n",
       "      <td>No Defect</td>\n",
       "      <td>No Defect</td>\n",
       "      <td>Defect</td>\n",
       "      <td>No Defect</td>\n",
       "    </tr>\n",
       "    <tr>\n",
       "      <th>...</th>\n",
       "      <td>...</td>\n",
       "      <td>...</td>\n",
       "      <td>...</td>\n",
       "      <td>...</td>\n",
       "    </tr>\n",
       "    <tr>\n",
       "      <th>195</th>\n",
       "      <td>No Defect</td>\n",
       "      <td>No Defect</td>\n",
       "      <td>Defect</td>\n",
       "      <td>Defect</td>\n",
       "    </tr>\n",
       "    <tr>\n",
       "      <th>196</th>\n",
       "      <td>Defect</td>\n",
       "      <td>Defect</td>\n",
       "      <td>No Defect</td>\n",
       "      <td>No Defect</td>\n",
       "    </tr>\n",
       "    <tr>\n",
       "      <th>197</th>\n",
       "      <td>No Defect</td>\n",
       "      <td>No Defect</td>\n",
       "      <td>No Defect</td>\n",
       "      <td>No Defect</td>\n",
       "    </tr>\n",
       "    <tr>\n",
       "      <th>198</th>\n",
       "      <td>No Defect</td>\n",
       "      <td>No Defect</td>\n",
       "      <td>Defect</td>\n",
       "      <td>Defect</td>\n",
       "    </tr>\n",
       "    <tr>\n",
       "      <th>199</th>\n",
       "      <td>No Defect</td>\n",
       "      <td>No Defect</td>\n",
       "      <td>No Defect</td>\n",
       "      <td>Defect</td>\n",
       "    </tr>\n",
       "  </tbody>\n",
       "</table>\n",
       "<p>200 rows × 4 columns</p>\n",
       "</div>"
      ],
      "text/plain": [
       "        actual     model1     model2     model3\n",
       "0    No Defect  No Defect     Defect  No Defect\n",
       "1    No Defect  No Defect     Defect     Defect\n",
       "2    No Defect  No Defect     Defect  No Defect\n",
       "3    No Defect     Defect     Defect     Defect\n",
       "4    No Defect  No Defect     Defect  No Defect\n",
       "..         ...        ...        ...        ...\n",
       "195  No Defect  No Defect     Defect     Defect\n",
       "196     Defect     Defect  No Defect  No Defect\n",
       "197  No Defect  No Defect  No Defect  No Defect\n",
       "198  No Defect  No Defect     Defect     Defect\n",
       "199  No Defect  No Defect  No Defect     Defect\n",
       "\n",
       "[200 rows x 4 columns]"
      ]
     },
     "execution_count": 3,
     "metadata": {},
     "output_type": "execute_result"
    }
   ],
   "source": [
    "c3 = pd.read_csv('c3.csv')\n",
    "c3"
   ]
  },
  {
   "cell_type": "code",
   "execution_count": 4,
   "id": "5349b7df",
   "metadata": {},
   "outputs": [
    {
     "data": {
      "text/html": [
       "<div>\n",
       "<style scoped>\n",
       "    .dataframe tbody tr th:only-of-type {\n",
       "        vertical-align: middle;\n",
       "    }\n",
       "\n",
       "    .dataframe tbody tr th {\n",
       "        vertical-align: top;\n",
       "    }\n",
       "\n",
       "    .dataframe thead th {\n",
       "        text-align: right;\n",
       "    }\n",
       "</style>\n",
       "<table border=\"1\" class=\"dataframe\">\n",
       "  <thead>\n",
       "    <tr style=\"text-align: right;\">\n",
       "      <th></th>\n",
       "      <th>actual</th>\n",
       "      <th>model1</th>\n",
       "      <th>model2</th>\n",
       "      <th>model3</th>\n",
       "    </tr>\n",
       "  </thead>\n",
       "  <tbody>\n",
       "    <tr>\n",
       "      <th>0</th>\n",
       "      <td>0</td>\n",
       "      <td>0</td>\n",
       "      <td>1</td>\n",
       "      <td>0</td>\n",
       "    </tr>\n",
       "    <tr>\n",
       "      <th>1</th>\n",
       "      <td>0</td>\n",
       "      <td>0</td>\n",
       "      <td>1</td>\n",
       "      <td>1</td>\n",
       "    </tr>\n",
       "    <tr>\n",
       "      <th>2</th>\n",
       "      <td>0</td>\n",
       "      <td>0</td>\n",
       "      <td>1</td>\n",
       "      <td>0</td>\n",
       "    </tr>\n",
       "    <tr>\n",
       "      <th>3</th>\n",
       "      <td>0</td>\n",
       "      <td>1</td>\n",
       "      <td>1</td>\n",
       "      <td>1</td>\n",
       "    </tr>\n",
       "    <tr>\n",
       "      <th>4</th>\n",
       "      <td>0</td>\n",
       "      <td>0</td>\n",
       "      <td>1</td>\n",
       "      <td>0</td>\n",
       "    </tr>\n",
       "  </tbody>\n",
       "</table>\n",
       "</div>"
      ],
      "text/plain": [
       "   actual  model1  model2  model3\n",
       "0       0       0       1       0\n",
       "1       0       0       1       1\n",
       "2       0       0       1       0\n",
       "3       0       1       1       1\n",
       "4       0       0       1       0"
      ]
     },
     "execution_count": 4,
     "metadata": {},
     "output_type": "execute_result"
    }
   ],
   "source": [
    "c3.replace({'Defect': 1, 'No Defect': 0}, inplace = True)\n",
    "c3.head()"
   ]
  },
  {
   "cell_type": "code",
   "execution_count": 10,
   "id": "d4155185",
   "metadata": {},
   "outputs": [],
   "source": []
  },
  {
   "cell_type": "code",
   "execution_count": 6,
   "id": "0dfc7da1",
   "metadata": {},
   "outputs": [
    {
     "name": "stdout",
     "output_type": "stream",
     "text": [
      "Model 1 True Positive: 8\n",
      "Model 1 True Negative:  + 182\n",
      "Model 1 False Positive:  + 2\n",
      "Model 1 True Negative: + 8\n"
     ]
    }
   ],
   "source": [
    "m1_tp = c3['model1'][(c3['actual'] == 1) & (c3['model1'] == 1 )].count()\n",
    "m1_tn =c3['model1'][(c3['actual'] == 0) & (c3['model1'] == 0)].count()\n",
    "m1_fp = c3['model1'][(c3['actual'] == 0) & (c3['model1'] == 1)].count()\n",
    "m1_fn = c3['model1'][(c3['actual'] == 1) & (c3['model1'] == 0)].count()\n",
    "\n",
    "print(f'Model 1 True Positive: {m1_tp}')\n",
    "print(f'Model 1 True Negative:  + {m1_tn}')\n",
    "print(f'Model 1 False Positive:  + {m1_fp}')\n",
    "print(f'Model 1 True Negative: + {m1_fn}')"
   ]
  },
  {
   "cell_type": "code",
   "execution_count": 16,
   "id": "9f1d221f",
   "metadata": {},
   "outputs": [
    {
     "name": "stdout",
     "output_type": "stream",
     "text": [
      "Model 1 Precision: 0.8\n",
      "Model 1 Accuracy:  + 0.95\n",
      "Model 1 NPV:  + 0.9578947368421052\n",
      "Model 1 Specificity: + 0.9891304347826086\n",
      "Model 1 Recall: + 0.5\n"
     ]
    }
   ],
   "source": [
    "m1_precision =eval.precision(m1_tp, m1_fp)\n",
    "m1_accuracy = eval.accuracy(m1_tp, m1_tn, m1_fp, m1_fn)\n",
    "m1_npv = eval.npv(m1_tn, m1_fn)\n",
    "m1_specifivity = eval.specificity(m1_tn, m1_fp)\n",
    "m1_recall = eval.recall(m1_tp, m1_fn)\n",
    "\n",
    "print(f'Model 1 Precision: {m1_precision}')\n",
    "print(f'Model 1 Accuracy:  + {m1_accuracy}')\n",
    "print(f'Model 1 NPV:  + {m1_npv}')\n",
    "print(f'Model 1 Specificity: + {m1_specifivity}')\n",
    "print(f'Model 1 Recall: + {m1_recall}')"
   ]
  },
  {
   "cell_type": "code",
   "execution_count": 7,
   "id": "0abc700b",
   "metadata": {},
   "outputs": [
    {
     "name": "stdout",
     "output_type": "stream",
     "text": [
      "Model 2 True Positive: 9\n",
      "Model 2 True Negative:  + 103\n",
      "Model 2 False Positive:  + 81\n",
      "Model 2 True Negative: + 7\n"
     ]
    }
   ],
   "source": [
    "m2_tp = c3['model2'][(c3['actual'] == 1) & (c3['model2'] == 1 )].count()\n",
    "m2_tn =c3['model2'][(c3['actual'] == 0) & (c3['model2'] == 0)].count()\n",
    "m2_fp = c3['model2'][(c3['actual'] == 0) & (c3['model2'] == 1)].count()\n",
    "m2_fn = c3['model2'][(c3['actual'] == 1) & (c3['model2'] == 0)].count()\n",
    "\n",
    "print(f'Model 2 True Positive: {m2_tp}')\n",
    "print(f'Model 2 True Negative:  + {m2_tn}')\n",
    "print(f'Model 2 False Positive:  + {m2_fp}')\n",
    "print(f'Model 2 True Negative: + {m2_fn}')"
   ]
  },
  {
   "cell_type": "code",
   "execution_count": 17,
   "id": "ce0dd24a",
   "metadata": {},
   "outputs": [
    {
     "name": "stdout",
     "output_type": "stream",
     "text": [
      "Model 2 Precision: 0.1\n",
      "Model 2 Accuracy:  + 0.56\n",
      "Model 2 NPV:  + 0.9363636363636364\n",
      "Model 2 Specificity: + 0.5597826086956522\n",
      "Model 2 Recall: + 0.5625\n"
     ]
    }
   ],
   "source": [
    "m2_precision =eval.precision(m2_tp, m2_fp)\n",
    "m2_accuracy = eval.accuracy(m2_tp, m2_tn, m2_fp, m2_fn)\n",
    "m2_npv = eval.npv(m2_tn, m2_fn)\n",
    "m2_specifivity = eval.specificity(m2_tn, m2_fp)\n",
    "m2_recall = eval.recall(m2_tp, m2_fn)\n",
    "\n",
    "print(f'Model 2 Precision: {m2_precision}')\n",
    "print(f'Model 2 Accuracy:  + {m2_accuracy}')\n",
    "print(f'Model 2 NPV:  + {m2_npv}')\n",
    "print(f'Model 2 Specificity: + {m2_specifivity}')\n",
    "print(f'Model 2 Recall: + {m2_recall}')"
   ]
  },
  {
   "cell_type": "code",
   "execution_count": 8,
   "id": "d0fa7790",
   "metadata": {},
   "outputs": [
    {
     "name": "stdout",
     "output_type": "stream",
     "text": [
      "Model 3 True Positive: 13\n",
      "Model 3 True Negative:  + 98\n",
      "Model 3 False Positive:  + 86\n",
      "Model 3 True Negative: + 3\n"
     ]
    }
   ],
   "source": [
    "m3_tp = c3['model3'][(c3['actual'] == 1) & (c3['model3'] == 1 )].count()\n",
    "m3_tn = c3['model3'][(c3['actual'] == 0) & (c3['model3'] == 0)].count()\n",
    "m3_fp = c3['model3'][(c3['actual'] == 0) & (c3['model3'] == 1)].count()\n",
    "m3_fn = c3['model3'][(c3['actual'] == 1) & (c3['model3'] == 0)].count()\n",
    "\n",
    "print(f'Model 3 True Positive: {m3_tp}')\n",
    "print(f'Model 3 True Negative:  + {m3_tn}')\n",
    "print(f'Model 3 False Positive:  + {m3_fp}')\n",
    "print(f'Model 3 True Negative: + {m3_fn}')"
   ]
  },
  {
   "cell_type": "code",
   "execution_count": 18,
   "id": "b4696aec",
   "metadata": {},
   "outputs": [
    {
     "name": "stdout",
     "output_type": "stream",
     "text": [
      "Model 3 Precision: 0.13131313131313133\n",
      "Model 3 Accuracy:  + 0.555\n",
      "Model 3 NPV:  + 0.9702970297029703\n",
      "Model 3 Specificity: + 0.532608695652174\n",
      "Model 3 Recall: + 0.8125\n"
     ]
    }
   ],
   "source": [
    "m3_precision =eval.precision(m3_tp, m3_fp)\n",
    "m3_accuracy = eval.accuracy(m3_tp, m3_tn, m3_fp, m3_fn)\n",
    "m3_npv = eval.npv(m3_tn, m3_fn)\n",
    "m3_specifivity = eval.specificity(m3_tn, m3_fp)\n",
    "m3_recall = eval.recall(m3_tp, m3_fn)\n",
    "\n",
    "print(f'Model 3 Precision: {m3_precision}')\n",
    "print(f'Model 3 Accuracy:  + {m3_accuracy}')\n",
    "print(f'Model 3 NPV:  + {m3_npv}')\n",
    "print(f'Model 3 Specificity: + {m3_specifivity}')\n",
    "print(f'Model 3 Recall: + {m3_recall}')"
   ]
  },
  {
   "cell_type": "code",
   "execution_count": null,
   "metadata": {},
   "outputs": [],
   "source": []
  },
  {
   "cell_type": "markdown",
   "id": "9e3c7884",
   "metadata": {},
   "source": []
  },
  {
   "cell_type": "markdown",
   "id": "52aa5011",
   "metadata": {},
   "source": [
    "<li>An internal team wants to investigate the cause of the manufacturing defects. They tell you that they want to identify as many of the ducks that have a defect as possible. Which evaluation metric would be appropriate here? Which model would be the best fit for this use case?</li>\n"
   ]
  },
  {
   "cell_type": "code",
   "execution_count": null,
   "id": "232fb879",
   "metadata": {},
   "outputs": [],
   "source": []
  },
  {
   "cell_type": "markdown",
   "id": "9060221d",
   "metadata": {},
   "source": [
    "<li>Recently several stories in the local news have come out highlighting customers who received a rubber duck with a defect, and portraying C3 in a bad light. The PR team has decided to launch a program that gives customers with a defective duck a vacation to Hawaii. They need you to predict which ducks will have defects, but tell you the really don't want to accidentally give out a vacation package when the duck really doesn't have a defect. Which evaluation metric would be appropriate here? Which model would be the best fit for this use case?</li>\n"
   ]
  },
  {
   "cell_type": "code",
   "execution_count": null,
   "id": "9ebf1e83",
   "metadata": {},
   "outputs": [],
   "source": []
  },
  {
   "cell_type": "markdown",
   "id": "8ba74833",
   "metadata": {},
   "source": [
    "4. <p>You are working as a data scientist for Gives You Paws &#8482;, a subscription based service that shows you cute pictures of dogs or cats (or both for an additional fee).</p>\n",
    "<p>At Gives You Paws, anyone can upload pictures of their cats or dogs. The photos are then put through a two step process. First an automated algorithm tags pictures as either a cat or a dog (Phase I). Next, the photos that have been initially identified are put through another round of review, possibly with some human oversight, before being presented to the users (Phase II).</p>\n",
    "<p>Several models have already been developed with the data, and <a href=\"https://ds.codeup.com/data/gives_you_paws.csv\">you can find their results here</a>.</p>\n",
    "<p>Given this dataset, use pandas to create a baseline model (i.e. a model that just predicts the most common class) and answer the following questions:</p>\n"
   ]
  },
  {
   "cell_type": "code",
   "execution_count": null,
   "id": "d7722f26",
   "metadata": {},
   "outputs": [],
   "source": []
  },
  {
   "cell_type": "markdown",
   "id": "25467013",
   "metadata": {},
   "source": [
    "<li>In terms of accuracy, how do the various models compare to the baseline model? Are any of the models better than the baseline?</li>\n"
   ]
  },
  {
   "cell_type": "code",
   "execution_count": null,
   "id": "c100cc00",
   "metadata": {},
   "outputs": [],
   "source": []
  },
  {
   "cell_type": "markdown",
   "id": "4f285d68",
   "metadata": {},
   "source": [
    "<li>Suppose you are working on a team that solely deals with dog pictures. Which of these models would you recomend for Phase I? For Phase II?</li>\n"
   ]
  },
  {
   "cell_type": "code",
   "execution_count": null,
   "id": "1a7f9105",
   "metadata": {},
   "outputs": [],
   "source": []
  },
  {
   "cell_type": "markdown",
   "id": "b723a243",
   "metadata": {},
   "source": [
    "<li>Suppose you are working on a team that solely deals with cat pictures. Which of these models would you recomend for Phase I? For Phase II?</li>\n"
   ]
  },
  {
   "cell_type": "code",
   "execution_count": null,
   "id": "31b51d91",
   "metadata": {},
   "outputs": [],
   "source": []
  },
  {
   "cell_type": "markdown",
   "id": "635eb908",
   "metadata": {},
   "source": [
    "5. <p>Follow the links below to read the documentation about each function, then apply those functions to the data from the previous problem.</p>\n"
   ]
  },
  {
   "cell_type": "markdown",
   "id": "545bad8f",
   "metadata": {},
   "source": [
    "<li><a href=\"https://scikit-learn.org/stable/modules/generated/sklearn.metrics.accuracy_score.html\"><code>sklearn.metrics.accuracy_score</code></a></li>\n"
   ]
  },
  {
   "cell_type": "code",
   "execution_count": null,
   "id": "969ecc43",
   "metadata": {},
   "outputs": [],
   "source": []
  },
  {
   "cell_type": "markdown",
   "id": "79250efc",
   "metadata": {},
   "source": [
    "<li><a href=\"https://scikit-learn.org/stable/modules/generated/sklearn.metrics.precision_score.html\"><code>sklearn.metrics.precision_score</code></a></li>\n"
   ]
  },
  {
   "cell_type": "code",
   "execution_count": null,
   "id": "5890d410",
   "metadata": {},
   "outputs": [],
   "source": []
  },
  {
   "cell_type": "markdown",
   "id": "746b9329",
   "metadata": {},
   "source": [
    "<li><a href=\"https://scikit-learn.org/stable/modules/generated/sklearn.metrics.recall_score.html\"><code>sklearn.metrics.recall_score</code></a></li>\n"
   ]
  },
  {
   "cell_type": "code",
   "execution_count": null,
   "id": "2a14ca10",
   "metadata": {},
   "outputs": [],
   "source": []
  },
  {
   "cell_type": "markdown",
   "id": "b2a1dc5c",
   "metadata": {},
   "source": [
    "<li><a href=\"https://scikit-learn.org/stable/modules/generated/sklearn.metrics.classification_report.html\"><code>sklearn.metrics.classification_report</code></a></li>"
   ]
  },
  {
   "cell_type": "code",
   "execution_count": null,
   "id": "2c2b358e",
   "metadata": {},
   "outputs": [],
   "source": []
  }
 ],
 "metadata": {
  "kernelspec": {
   "display_name": "Python 3",
   "language": "python",
   "name": "python3"
  },
  "language_info": {
   "codemirror_mode": {
    "name": "ipython",
    "version": 3
   },
   "file_extension": ".py",
   "mimetype": "text/x-python",
   "name": "python",
   "nbconvert_exporter": "python",
   "pygments_lexer": "ipython3",
   "version": "3.8.8"
  }
 },
 "nbformat": 4,
 "nbformat_minor": 5
}
