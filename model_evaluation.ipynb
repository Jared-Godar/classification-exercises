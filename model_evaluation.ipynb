{
 "cells": [
  {
   "cell_type": "markdown",
   "id": "e56f650b",
   "metadata": {},
   "source": [
    "<h2 id=\"Model Evaluation Exercises\">Exercises</h2>\n",
    "<ol>\n",
    "<li>Create a new file named <code>model_evaluation.py</code> or "
   ]
  },
  {
   "cell_type": "code",
   "execution_count": null,
   "id": "2bdd100d",
   "metadata": {},
   "outputs": [],
   "source": []
  },
  {
   "cell_type": "markdown",
   "id": "f5008bff",
   "metadata": {},
   "source": [
    "\n",
    "<p>Given the following confusion matrix, evaluate (by hand) the model's performance.</p>\n",
    "<pre><code>|               | pred dog   | pred cat   |\n",
    "|:------------  |-----------:|-----------:|\n",
    "| actual dog    |         46 |         7  |\n",
    "| actual cat    |         13 |         34 |\n",
    "</code></pre>\n"
   ]
  },
  {
   "cell_type": "markdown",
   "id": "1bb31bb3",
   "metadata": {},
   "source": [
    "<li>In the context of this problem, what is a false positive?</li>\n"
   ]
  },
  {
   "cell_type": "code",
   "execution_count": null,
   "id": "e8d78ba8",
   "metadata": {},
   "outputs": [],
   "source": []
  },
  {
   "cell_type": "markdown",
   "id": "6f435ca2",
   "metadata": {},
   "source": [
    "<li>In the context of this problem, what is a false negative?</li>\n"
   ]
  },
  {
   "cell_type": "code",
   "execution_count": null,
   "id": "31b7ef0d",
   "metadata": {},
   "outputs": [],
   "source": []
  },
  {
   "cell_type": "markdown",
   "id": "8ca2acd1",
   "metadata": {},
   "source": [
    "<li>How would you describe this model?</li>\n"
   ]
  },
  {
   "cell_type": "code",
   "execution_count": null,
   "id": "56f06236",
   "metadata": {},
   "outputs": [],
   "source": []
  },
  {
   "cell_type": "markdown",
   "id": "4affbad9",
   "metadata": {},
   "source": [
    "3. <p>You are working as a datascientist working for Codeup Cody Creator (C3 for short), a rubber-duck manufacturing plant. </p>\n",
    "<p>Unfortunately, some of the rubber ducks that are produced will have defects. Your team has built several models that try to predict those defects, and the data from their predictions <a href=\"https://ds.codeup.com/data/c3.csv\">can be found here</a>.</p>\n",
    "<p>Use the predictions dataset and pandas to help answer the following questions:</p>\n",
    "<ul>\n"
   ]
  },
  {
   "cell_type": "code",
   "execution_count": null,
   "id": "5d0d2f37",
   "metadata": {},
   "outputs": [],
   "source": []
  },
  {
   "cell_type": "markdown",
   "id": "9e3c7884",
   "metadata": {},
   "source": [
    "<li>An internal team wants to investigate the cause of the manufacturing defects. They tell you that they want to identify as many of the ducks that have a defect as possible. Which evaluation metric would be appropriate here? Which model would be the best fit for this use case?</li>\n"
   ]
  },
  {
   "cell_type": "code",
   "execution_count": null,
   "id": "232fb879",
   "metadata": {},
   "outputs": [],
   "source": []
  },
  {
   "cell_type": "markdown",
   "id": "9060221d",
   "metadata": {},
   "source": [
    "<li>Recently several stories in the local news have come out highlighting customers who received a rubber duck with a defect, and portraying C3 in a bad light. The PR team has decided to launch a program that gives customers with a defective duck a vacation to Hawaii. They need you to predict which ducks will have defects, but tell you the really don't want to accidentally give out a vacation package when the duck really doesn't have a defect. Which evaluation metric would be appropriate here? Which model would be the best fit for this use case?</li>\n"
   ]
  },
  {
   "cell_type": "code",
   "execution_count": null,
   "id": "9ebf1e83",
   "metadata": {},
   "outputs": [],
   "source": []
  },
  {
   "cell_type": "markdown",
   "id": "8ba74833",
   "metadata": {},
   "source": [
    "4. <p>You are working as a data scientist for Gives You Paws &#8482;, a subscription based service that shows you cute pictures of dogs or cats (or both for an additional fee).</p>\n",
    "<p>At Gives You Paws, anyone can upload pictures of their cats or dogs. The photos are then put through a two step process. First an automated algorithm tags pictures as either a cat or a dog (Phase I). Next, the photos that have been initially identified are put through another round of review, possibly with some human oversight, before being presented to the users (Phase II).</p>\n",
    "<p>Several models have already been developed with the data, and <a href=\"https://ds.codeup.com/data/gives_you_paws.csv\">you can find their results here</a>.</p>\n",
    "<p>Given this dataset, use pandas to create a baseline model (i.e. a model that just predicts the most common class) and answer the following questions:</p>\n"
   ]
  },
  {
   "cell_type": "code",
   "execution_count": null,
   "id": "d7722f26",
   "metadata": {},
   "outputs": [],
   "source": []
  },
  {
   "cell_type": "markdown",
   "id": "25467013",
   "metadata": {},
   "source": [
    "<li>In terms of accuracy, how do the various models compare to the baseline model? Are any of the models better than the baseline?</li>\n"
   ]
  },
  {
   "cell_type": "code",
   "execution_count": null,
   "id": "c100cc00",
   "metadata": {},
   "outputs": [],
   "source": []
  },
  {
   "cell_type": "markdown",
   "id": "4f285d68",
   "metadata": {},
   "source": [
    "<li>Suppose you are working on a team that solely deals with dog pictures. Which of these models would you recomend for Phase I? For Phase II?</li>\n"
   ]
  },
  {
   "cell_type": "code",
   "execution_count": null,
   "id": "1a7f9105",
   "metadata": {},
   "outputs": [],
   "source": []
  },
  {
   "cell_type": "markdown",
   "id": "b723a243",
   "metadata": {},
   "source": [
    "<li>Suppose you are working on a team that solely deals with cat pictures. Which of these models would you recomend for Phase I? For Phase II?</li>\n"
   ]
  },
  {
   "cell_type": "code",
   "execution_count": null,
   "id": "31b51d91",
   "metadata": {},
   "outputs": [],
   "source": []
  },
  {
   "cell_type": "markdown",
   "id": "635eb908",
   "metadata": {},
   "source": [
    "5. <p>Follow the links below to read the documentation about each function, then apply those functions to the data from the previous problem.</p>\n"
   ]
  },
  {
   "cell_type": "markdown",
   "id": "545bad8f",
   "metadata": {},
   "source": [
    "<li><a href=\"https://scikit-learn.org/stable/modules/generated/sklearn.metrics.accuracy_score.html\"><code>sklearn.metrics.accuracy_score</code></a></li>\n"
   ]
  },
  {
   "cell_type": "code",
   "execution_count": null,
   "id": "969ecc43",
   "metadata": {},
   "outputs": [],
   "source": []
  },
  {
   "cell_type": "markdown",
   "id": "79250efc",
   "metadata": {},
   "source": [
    "<li><a href=\"https://scikit-learn.org/stable/modules/generated/sklearn.metrics.precision_score.html\"><code>sklearn.metrics.precision_score</code></a></li>\n"
   ]
  },
  {
   "cell_type": "code",
   "execution_count": null,
   "id": "5890d410",
   "metadata": {},
   "outputs": [],
   "source": []
  },
  {
   "cell_type": "markdown",
   "id": "746b9329",
   "metadata": {},
   "source": [
    "<li><a href=\"https://scikit-learn.org/stable/modules/generated/sklearn.metrics.recall_score.html\"><code>sklearn.metrics.recall_score</code></a></li>\n"
   ]
  },
  {
   "cell_type": "code",
   "execution_count": null,
   "id": "2a14ca10",
   "metadata": {},
   "outputs": [],
   "source": []
  },
  {
   "cell_type": "markdown",
   "id": "b2a1dc5c",
   "metadata": {},
   "source": [
    "<li><a href=\"https://scikit-learn.org/stable/modules/generated/sklearn.metrics.classification_report.html\"><code>sklearn.metrics.classification_report</code></a></li>"
   ]
  },
  {
   "cell_type": "code",
   "execution_count": null,
   "id": "2c2b358e",
   "metadata": {},
   "outputs": [],
   "source": []
  }
 ],
 "metadata": {
  "kernelspec": {
   "display_name": "Python 3",
   "language": "python",
   "name": "python3"
  },
  "language_info": {
   "codemirror_mode": {
    "name": "ipython",
    "version": 3
   },
   "file_extension": ".py",
   "mimetype": "text/x-python",
   "name": "python",
   "nbconvert_exporter": "python",
   "pygments_lexer": "ipython3",
   "version": "3.8.8"
  }
 },
 "nbformat": 4,
 "nbformat_minor": 5
}
