{
 "cells": [
  {
   "cell_type": "code",
   "execution_count": null,
   "id": "67cad72f",
   "metadata": {},
   "outputs": [],
   "source": []
  },
  {
   "cell_type": "code",
   "execution_count": null,
   "id": "d0dc2c1d",
   "metadata": {},
   "outputs": [],
   "source": []
  },
  {
   "cell_type": "code",
   "execution_count": null,
   "id": "66319643",
   "metadata": {},
   "outputs": [],
   "source": []
  },
  {
   "cell_type": "code",
   "execution_count": null,
   "id": "d6101905",
   "metadata": {},
   "outputs": [],
   "source": []
  },
  {
   "cell_type": "code",
   "execution_count": null,
   "id": "2d6711e4",
   "metadata": {},
   "outputs": [],
   "source": [
    "sns.relplot(“flipper_length_mm”, “bill_depth_mm”, data=train)"
   ]
  },
  {
   "cell_type": "code",
   "execution_count": null,
   "id": "48bf345e",
   "metadata": {},
   "outputs": [],
   "source": [
    "For column in df.columns:\n",
    "   t rain[columns].hist()"
   ]
  },
  {
   "cell_type": "code",
   "execution_count": null,
   "id": "9dd32978",
   "metadata": {},
   "outputs": [],
   "source": []
  },
  {
   "cell_type": "code",
   "execution_count": null,
   "id": "c0e31909",
   "metadata": {},
   "outputs": [],
   "source": []
  }
 ],
 "metadata": {
  "kernelspec": {
   "display_name": "Python 3",
   "language": "python",
   "name": "python3"
  },
  "language_info": {
   "codemirror_mode": {
    "name": "ipython",
    "version": 3
   },
   "file_extension": ".py",
   "mimetype": "text/x-python",
   "name": "python",
   "nbconvert_exporter": "python",
   "pygments_lexer": "ipython3",
   "version": "3.8.8"
  }
 },
 "nbformat": 4,
 "nbformat_minor": 5
}
