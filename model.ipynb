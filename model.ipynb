{
 "cells": [
  {
   "cell_type": "markdown",
   "id": "828f0dba",
   "metadata": {},
   "source": [
    "<h2 id=\"exercises\">Decision Tree Exercises</h2>\n",
    "\n",
    "Using the titanic data, in your classification-exercises repository, create a notebook, `model.ipynb` where you will do the following:\n"
   ]
  },
  {
   "cell_type": "code",
   "execution_count": null,
   "id": "9c0781d0",
   "metadata": {},
   "outputs": [],
   "source": [
    "import warnings\n",
    "warnings.filterwarnings(\"ignore\")\n",
    "\n",
    "import numpy as np\n",
    "import pandas as pd \n",
    "\n",
    "from pydataset import data\n",
    "\n",
    "from sklearn.model_selection import train_test_split\n",
    "from sklearn.tree import DecisionTreeClassifier\n",
    "from sklearn.tree import export_graphviz\n",
    "from sklearn.metrics import classification_report\n",
    "from sklearn.metrics import confusion_matrix\n",
    "\n",
    "import matplotlib.pyplot as plt\n",
    "import seaborn as sns\n",
    "\n",
    "import wrangle\n",
    "import eval\n",
    "\n",
    "import graphviz\n",
    "from graphviz import Graph"
   ]
  },
  {
   "cell_type": "code",
   "execution_count": null,
   "id": "dfaf35b6",
   "metadata": {},
   "outputs": [],
   "source": [
    "titanic_train, titanic_validate, titanic_test = wrangle.wrangle_titanic()"
   ]
  },
  {
   "cell_type": "code",
   "execution_count": null,
   "id": "c64ce5c2",
   "metadata": {},
   "outputs": [],
   "source": [
    "print(f'Tain: {titanic_train.shape}')\n",
    "print(f'Validate: {titanic_validate.shape}')\n",
    "print(f'Test: {titanic_test.shape}')"
   ]
  },
  {
   "cell_type": "code",
   "execution_count": null,
   "id": "4420b19a",
   "metadata": {},
   "outputs": [],
   "source": [
    "titanic_train.head()"
   ]
  },
  {
   "cell_type": "code",
   "execution_count": null,
   "id": "a8a6465f",
   "metadata": {},
   "outputs": [],
   "source": [
    "# create X & y version of train, where y is a series with just the target variable and X are all the features. \n",
    "\n",
    "X_train = titanic_train.drop(columns=['survived', 'sex', 'embark_town'])\n",
    "y_train = titanic_train.survived\n",
    "\n",
    "X_validate = titanic_validate.drop(columns=['survived', 'sex', 'embark_town'])\n",
    "y_validate = titanic_validate.survived\n",
    "\n",
    "X_test = titanic_test.drop(columns=['survived', 'sex', 'embark_town'])\n",
    "y_test = titanic_test.survived"
   ]
  },
  {
   "cell_type": "code",
   "execution_count": null,
   "id": "3d8fb8e3",
   "metadata": {},
   "outputs": [],
   "source": [
    "X_train.shape"
   ]
  },
  {
   "cell_type": "markdown",
   "id": "2a1cc898",
   "metadata": {},
   "source": [
    "1. <p>What is your baseline prediction? What is your baseline accuracy? <em>remember: your baseline prediction for a classification problem is predicting the most prevelant class in the training dataset (the mode). When you make those predictions, what is your accuracy? This is your baseline accuracy.</em></p>"
   ]
  },
  {
   "cell_type": "code",
   "execution_count": null,
   "id": "ca0e291b",
   "metadata": {},
   "outputs": [],
   "source": [
    "# Most people died, so a baseline prediation of everyone dying is a valid starting point\n",
    "\n",
    "baseline = y_train.mode()\n",
    "\n",
    "match_baseline = y_train == 0\n",
    "\n",
    "baseline_accuracy = match_baseline.mean()\n",
    "\n",
    "print(f'Baseline accuracy : {baseline_accuracy}')"
   ]
  },
  {
   "cell_type": "markdown",
   "id": "b2bf11ac",
   "metadata": {},
   "source": [
    "2. <p>Fit the decision tree classifier to your training sample and transform (i.e.  make predictions on the training sample)</p>\n",
    "\n"
   ]
  },
  {
   "cell_type": "code",
   "execution_count": null,
   "id": "8a25faf8",
   "metadata": {},
   "outputs": [],
   "source": [
    "# Adam review\n",
    "\n",
    "tree1 = DecisionTreeClassifier(max_depth=1, random_state=123)\n",
    "\n",
    "tree1 = tree1.fit(X_train, y_train)\n",
    "\n",
    "y_predictions = tree1.predict(X_train)"
   ]
  },
  {
   "cell_type": "code",
   "execution_count": null,
   "id": "2af37b4e",
   "metadata": {},
   "outputs": [],
   "source": [
    "pd.DataFrame(confusion_matrix(y_train, y_predictions))"
   ]
  },
  {
   "cell_type": "code",
   "execution_count": null,
   "id": "92a27ffe",
   "metadata": {},
   "outputs": [],
   "source": [
    "report = classification_report(y_train, y_predictions, output_dict=True)\n",
    "print('Depth 1 tree')\n",
    "pd.DataFrame(report)"
   ]
  },
  {
   "cell_type": "code",
   "execution_count": null,
   "id": "0c296e10",
   "metadata": {},
   "outputs": [],
   "source": [
    "# Create the Decision Tree object with desired hyper-parameters.\n",
    "clf = DecisionTreeClassifier(max_depth=3, random_state=123)"
   ]
  },
  {
   "cell_type": "code",
   "execution_count": null,
   "id": "23139612",
   "metadata": {},
   "outputs": [],
   "source": [
    "# Fit the model (i.e. apply the algorithm to your unique set of data so that the algorithm can identify a pattern)\n",
    "# model.fit(X, y)\n",
    "\n",
    "clf = clf.fit(X_train, y_train)"
   ]
  },
  {
   "cell_type": "code",
   "execution_count": null,
   "id": "3d92a705",
   "metadata": {},
   "outputs": [],
   "source": [
    "dot_data = export_graphviz(clf, feature_names= X_train.columns, rounded=True, filled=True, out_file=None)\n",
    "graph = graphviz.Source(dot_data) \n",
    "\n",
    "graph.render('titanic_decision_tree', view=True)"
   ]
  },
  {
   "cell_type": "code",
   "execution_count": null,
   "id": "128f93ae",
   "metadata": {},
   "outputs": [],
   "source": [
    "from IPython.display import Image\n",
    "Image('titanic_decision_1.png')"
   ]
  },
  {
   "cell_type": "markdown",
   "id": "042aaba7",
   "metadata": {},
   "source": [
    "3. <p>Evaluate your in-sample results using the model score, confusion matrix, and classification report.</p>\n"
   ]
  },
  {
   "cell_type": "code",
   "execution_count": null,
   "id": "25086b4e",
   "metadata": {},
   "outputs": [],
   "source": [
    "# make prediction on train obeservations\n",
    "\n",
    "y_pred = clf.predict(X_train)\n",
    "y_pred[0:5]"
   ]
  },
  {
   "cell_type": "code",
   "execution_count": null,
   "id": "59d7718d",
   "metadata": {},
   "outputs": [],
   "source": [
    "# Estimate probabilities of survival\n",
    "\n",
    "y_pred_proba = clf.predict_proba(X_train)\n",
    "y_pred_proba[0:5]"
   ]
  },
  {
   "cell_type": "code",
   "execution_count": null,
   "id": "934a77c3",
   "metadata": {},
   "outputs": [],
   "source": [
    "print('Accuracy of Decision Tree classifier on training set: {:.2f}'\n",
    "      .format(clf.score(X_train, y_train)))"
   ]
  },
  {
   "cell_type": "code",
   "execution_count": null,
   "id": "67c95aa0",
   "metadata": {},
   "outputs": [],
   "source": [
    "# confusion matrix\n",
    "\n",
    "confusion_matrix(y_train, y_pred)"
   ]
  },
  {
   "cell_type": "code",
   "execution_count": null,
   "id": "22431935",
   "metadata": {},
   "outputs": [],
   "source": [
    "y_train.value_counts()"
   ]
  },
  {
   "cell_type": "code",
   "execution_count": null,
   "id": "59b31908",
   "metadata": {},
   "outputs": [],
   "source": [
    "labels = sorted(y_train.unique())\n",
    "print('Actual on the left, predicted on the top')\n",
    "pd.DataFrame(confusion_matrix(y_train, y_pred), index=labels, columns=labels)"
   ]
  },
  {
   "cell_type": "code",
   "execution_count": null,
   "id": "e81a77a0",
   "metadata": {},
   "outputs": [],
   "source": [
    "print(classification_report(y_train, y_pred))"
   ]
  },
  {
   "cell_type": "markdown",
   "id": "21741a8e",
   "metadata": {},
   "source": [
    "4. <p>Compute:  Accuracy, true positive rate, false positive rate, true negative rate, false negative rate, precision, recall, f1-score, and support.</p>\n"
   ]
  },
  {
   "cell_type": "code",
   "execution_count": null,
   "id": "af413075",
   "metadata": {},
   "outputs": [],
   "source": [
    "TP = 265\n",
    "FP = 58\n",
    "FN = 42\n",
    "TN = 133\n",
    "ALL = TP + FP + FN + TN\n"
   ]
  },
  {
   "cell_type": "code",
   "execution_count": null,
   "id": "dd474aa0",
   "metadata": {},
   "outputs": [],
   "source": [
    "m1_precision, m1_accuracy, m1_npv, m1_specificity, m1_recall, m1_f1 = eval.mod_eval(TP, TN, FP, FN)\n",
    "\n",
    "print(f'Model 1 Precision: {m1_precision}')\n",
    "print(f'Model 1 Accuracy:  + {m1_accuracy}')\n",
    "print(f'Model 1 NPV:  + {m1_npv}')\n",
    "print(f'Model 1 Specificity: + {m1_specificity}')\n",
    "print(f'Model 1 Recall: + {m1_recall}')\n",
    "print(f'Model 1 F1: + {m1_f1}')"
   ]
  },
  {
   "cell_type": "markdown",
   "id": "5b2f1236",
   "metadata": {},
   "source": [
    "---"
   ]
  },
  {
   "cell_type": "markdown",
   "id": "93cae7bd",
   "metadata": {},
   "source": [
    "5. <p>Run through steps 2-4 using a different <code>max_depth</code> value.</p>\n"
   ]
  },
  {
   "cell_type": "code",
   "execution_count": null,
   "id": "f0b4a4b5",
   "metadata": {},
   "outputs": [],
   "source": [
    "clf = DecisionTreeClassifier(max_depth=5, random_state=123)\n",
    "\n",
    "clf = clf.fit(X_train, y_train)\n",
    "\n",
    "dot_data = export_graphviz(clf, feature_names= X_train.columns, rounded=True, filled=True, out_file=None)\n",
    "graph = graphviz.Source(dot_data) \n",
    "\n",
    "graph.render('titanic_decision_tree_depth5', view=True)"
   ]
  },
  {
   "cell_type": "code",
   "execution_count": null,
   "id": "46fbc6ce",
   "metadata": {},
   "outputs": [],
   "source": [
    "from IPython.display import Image\n",
    "Image('titanic_tree_5.png')"
   ]
  },
  {
   "cell_type": "code",
   "execution_count": null,
   "id": "2ecb3ee3",
   "metadata": {},
   "outputs": [],
   "source": [
    "# make prediction on train obeservations\n",
    "\n",
    "y_pred = clf.predict(X_train)\n",
    "y_pred[0:5]"
   ]
  },
  {
   "cell_type": "code",
   "execution_count": null,
   "id": "b36c6bfa",
   "metadata": {},
   "outputs": [],
   "source": [
    "y_pred_proba = clf.predict_proba(X_train)\n",
    "y_pred_proba[0:5]"
   ]
  },
  {
   "cell_type": "code",
   "execution_count": null,
   "id": "627571a9",
   "metadata": {},
   "outputs": [],
   "source": [
    "print('Accuracy of Decision Tree classifier on training set: {:.2f}'\n",
    "      .format(clf.score(X_train, y_train)))"
   ]
  },
  {
   "cell_type": "code",
   "execution_count": null,
   "id": "28dd8b32",
   "metadata": {},
   "outputs": [],
   "source": [
    "# confusion matrix\n",
    "\n",
    "confusion_matrix(y_train, y_pred)"
   ]
  },
  {
   "cell_type": "code",
   "execution_count": null,
   "id": "f50ba8dd",
   "metadata": {},
   "outputs": [],
   "source": [
    "y_train.value_counts()"
   ]
  },
  {
   "cell_type": "code",
   "execution_count": null,
   "id": "c33082fa",
   "metadata": {},
   "outputs": [],
   "source": [
    "labels = sorted(y_train.unique())\n",
    "print('Actual on the left, predicted on the top')\n",
    "pd.DataFrame(confusion_matrix(y_train, y_pred), index=labels, columns=labels)"
   ]
  },
  {
   "cell_type": "code",
   "execution_count": null,
   "id": "543bbc10",
   "metadata": {},
   "outputs": [],
   "source": [
    "print(classification_report(y_train, y_pred))"
   ]
  },
  {
   "cell_type": "code",
   "execution_count": null,
   "id": "6ab82c56",
   "metadata": {},
   "outputs": [],
   "source": [
    "# And since accuracy isn't everything\n",
    "\n",
    "# Produce y_predictions that come from the X_validate\n",
    "y_pred = clf.predict(X_validate)\n",
    "\n",
    "# Compare actual y values (from validate) to predicted y_values from the model run on X_validate\n",
    "print(classification_report(y_validate, y_pred))"
   ]
  },
  {
   "cell_type": "code",
   "execution_count": null,
   "id": "1c41fae0",
   "metadata": {},
   "outputs": [],
   "source": [
    "# ADAM Max depth loop\n",
    "\n",
    "for i in range(2, 21):\n",
    "    # Make the model\n",
    "    tree = DecisionTreeClassifier(max_depth=i, random_state=123)\n",
    "\n",
    "    # Fit the model (on train and only train)\n",
    "    tree = tree.fit(X_train, y_train)\n",
    "\n",
    "    # Use the model\n",
    "    # We'll evaluate the model's performance on train, first\n",
    "    y_predictions = tree.predict(X_train)\n",
    "\n",
    "    # Produce the classification report on the actual y values and this model's predicted y values\n",
    "    report = classification_report(y_train, y_predictions, output_dict=True)\n",
    "    print(f\"Tree with max depth of {i}\")\n",
    "    print(pd.DataFrame(report))\n",
    "    print('-----------------')"
   ]
  },
  {
   "cell_type": "markdown",
   "id": "962a751c",
   "metadata": {},
   "source": [
    "6. <p>Which model performs better on your in-sample data?</p>\n"
   ]
  },
  {
   "cell_type": "markdown",
   "id": "03f96c96",
   "metadata": {},
   "source": [
    "No improvement after depth of 15, but this model likely overfit"
   ]
  },
  {
   "cell_type": "markdown",
   "id": "f017686d",
   "metadata": {},
   "source": [
    "7. <p>Which model performs best on your out-of-sample data, the <code>validate</code> set?</p>\n"
   ]
  },
  {
   "cell_type": "code",
   "execution_count": null,
   "id": "ab575cfc",
   "metadata": {},
   "outputs": [],
   "source": [
    "# Adam loop in sample and out of sample\n",
    "\n",
    "metrics = []\n",
    "\n",
    "for i in range(2, 25):\n",
    "    # Make the model\n",
    "    tree = DecisionTreeClassifier(max_depth=i, random_state=123)\n",
    "\n",
    "    # Fit the model (on train and only train)\n",
    "    tree = tree.fit(X_train, y_train)\n",
    "\n",
    "    # Use the model\n",
    "    # We'll evaluate the model's performance on train, first\n",
    "    in_sample_accuracy = tree.score(X_train, y_train)\n",
    "    \n",
    "    out_of_sample_accuracy = tree.score(X_validate, y_validate)\n",
    "\n",
    "    output = {\n",
    "        \"max_depth\": i,\n",
    "        \"train_accuracy\": in_sample_accuracy,\n",
    "        \"validate_accuracy\": out_of_sample_accuracy\n",
    "    }\n",
    "    \n",
    "    metrics.append(output)\n",
    "    \n",
    "df = pd.DataFrame(metrics)\n",
    "df[\"difference\"] = df.train_accuracy - df.validate_accuracy\n",
    "df"
   ]
  },
  {
   "cell_type": "code",
   "execution_count": null,
   "id": "4e43f809",
   "metadata": {},
   "outputs": [],
   "source": [
    "# The greater the difference between valitate and train accuracy, the more overfit the model is\n",
    "\n",
    "# We wish to balance and simultaneously optimize maximum validate_accuracy with minimum difference\n",
    "\n",
    "df[df.difference <= 0.10].sort_values(by=['validate_accuracy', 'difference'], ascending = [False,True])\n"
   ]
  },
  {
   "cell_type": "markdown",
   "id": "8dee1689",
   "metadata": {},
   "source": [
    "A depth of three seems to give us the highest validation accuracy with the least overfitting"
   ]
  },
  {
   "cell_type": "markdown",
   "id": "bb7e6575",
   "metadata": {},
   "source": [
    "---"
   ]
  },
  {
   "cell_type": "markdown",
   "id": "3a01810a",
   "metadata": {},
   "source": [
    "1. Work through these same exercises using the Telco dataset.\n"
   ]
  },
  {
   "cell_type": "code",
   "execution_count": null,
   "id": "5750bc2e",
   "metadata": {},
   "outputs": [],
   "source": []
  },
  {
   "cell_type": "markdown",
   "id": "264b3d99",
   "metadata": {},
   "source": [
    "\n",
    "2. Experiment with this model on other datasets with a higher number of output classes.\n"
   ]
  },
  {
   "cell_type": "code",
   "execution_count": null,
   "id": "1e6e8df5",
   "metadata": {},
   "outputs": [],
   "source": []
  },
  {
   "cell_type": "markdown",
   "id": "2df22870",
   "metadata": {},
   "source": [
    "---"
   ]
  },
  {
   "cell_type": "markdown",
   "id": "18927c92",
   "metadata": {},
   "source": [
    "## Random Forest Exercises\n",
    "\n",
    "Continue working in your `model` file with titanic data to do the following: \n"
   ]
  },
  {
   "cell_type": "code",
   "execution_count": null,
   "id": "30c05afd",
   "metadata": {},
   "outputs": [],
   "source": [
    "import warnings\n",
    "warnings.filterwarnings(\"ignore\")\n",
    "\n",
    "import numpy as np\n",
    "\n",
    "from sklearn.model_selection import train_test_split\n",
    "from sklearn.ensemble import RandomForestClassifier\n",
    "from sklearn.metrics import classification_report\n",
    "from sklearn.metrics import confusion_matrix\n",
    "\n",
    "\n",
    "import matplotlib.pyplot as plt\n",
    "%matplotlib inline\n",
    "import seaborn as sns\n",
    "\n",
    "\n",
    "from pydataset import data\n",
    "\n",
    "import eval"
   ]
  },
  {
   "cell_type": "code",
   "execution_count": null,
   "id": "c65335ef",
   "metadata": {},
   "outputs": [],
   "source": [
    "titanic_train, titanic_validate, titanic_test = wrangle.wrangle_titanic()"
   ]
  },
  {
   "cell_type": "code",
   "execution_count": null,
   "id": "0ac148e3",
   "metadata": {},
   "outputs": [],
   "source": [
    "print(f'Tain: {titanic_train.shape}')\n",
    "print(f'Validate: {titanic_validate.shape}')\n",
    "print(f'Test: {titanic_test.shape}')"
   ]
  },
  {
   "cell_type": "code",
   "execution_count": null,
   "id": "10c6b5a7",
   "metadata": {},
   "outputs": [],
   "source": [
    "titanic_train.head()"
   ]
  },
  {
   "cell_type": "code",
   "execution_count": null,
   "id": "718a49ce",
   "metadata": {},
   "outputs": [],
   "source": [
    "# create X & y version of train, where y is a series with just the target variable and X are all the features. \n",
    "\n",
    "X_train = titanic_train.drop(columns=['survived', 'sex', 'embark_town'])\n",
    "y_train = titanic_train.survived\n",
    "\n",
    "X_validate = titanic_validate.drop(columns=['survived', 'sex', 'embark_town'])\n",
    "y_validate = titanic_validate.survived\n",
    "\n",
    "X_test = titanic_test.drop(columns=['survived', 'sex', 'embark_town'])\n",
    "y_test = titanic_test.survived"
   ]
  },
  {
   "cell_type": "code",
   "execution_count": null,
   "id": "012a52e0",
   "metadata": {},
   "outputs": [],
   "source": [
    "X_train.shape"
   ]
  },
  {
   "cell_type": "code",
   "execution_count": null,
   "id": "d6756480",
   "metadata": {},
   "outputs": [],
   "source": [
    "X_train.head()"
   ]
  },
  {
   "cell_type": "markdown",
   "id": "fa9f1927",
   "metadata": {},
   "source": [
    "1. Fit the Random Forest classifier to your training sample and transform (i.e. make predictions on the training sample) setting the random_state accordingly and setting min_samples_leaf = 1 and max_depth = 10.\n"
   ]
  },
  {
   "cell_type": "code",
   "execution_count": null,
   "id": "666c7369",
   "metadata": {},
   "outputs": [],
   "source": [
    "# baseline"
   ]
  },
  {
   "cell_type": "code",
   "execution_count": null,
   "id": "3b412e19",
   "metadata": {},
   "outputs": [],
   "source": [
    "rf = RandomForestClassifier(min_samples_leaf = 1, max_depth=10, \n",
    "                            random_state=123)"
   ]
  },
  {
   "cell_type": "code",
   "execution_count": null,
   "id": "9ee7c95e",
   "metadata": {},
   "outputs": [],
   "source": [
    "rf"
   ]
  },
  {
   "cell_type": "code",
   "execution_count": null,
   "id": "e8947ae9",
   "metadata": {},
   "outputs": [],
   "source": [
    "rf.fit(X_train, y_train)"
   ]
  },
  {
   "cell_type": "code",
   "execution_count": null,
   "id": "9841097a",
   "metadata": {},
   "outputs": [],
   "source": [
    "print(rf.feature_importances_)"
   ]
  },
  {
   "cell_type": "code",
   "execution_count": null,
   "id": "73942027",
   "metadata": {},
   "outputs": [],
   "source": [
    "y_pred = rf.predict(X_train)\n",
    "y_pred"
   ]
  },
  {
   "cell_type": "code",
   "execution_count": null,
   "id": "b3988580",
   "metadata": {},
   "outputs": [],
   "source": [
    "y_pred_proba = rf.predict_proba(X_train)"
   ]
  },
  {
   "cell_type": "markdown",
   "id": "70c48b28",
   "metadata": {},
   "source": [
    "2. Evaluate your results using the model score, confusion matrix, and classification report.\n"
   ]
  },
  {
   "cell_type": "code",
   "execution_count": null,
   "id": "426ad83c",
   "metadata": {},
   "outputs": [],
   "source": [
    "print('Accuracy of random forest classifier on training set: {:.2f}'\n",
    "     .format(rf.score(X_train, y_train)))"
   ]
  },
  {
   "cell_type": "code",
   "execution_count": null,
   "id": "26655024",
   "metadata": {},
   "outputs": [],
   "source": [
    "print(confusion_matrix(y_train, y_pred))"
   ]
  },
  {
   "cell_type": "code",
   "execution_count": null,
   "id": "95908ce4",
   "metadata": {},
   "outputs": [],
   "source": [
    "print(classification_report(y_train, y_pred))"
   ]
  },
  {
   "cell_type": "markdown",
   "id": "657cde7a",
   "metadata": {},
   "source": [
    "\n",
    "3. Print and clearly label the following:  Accuracy, true positive rate, false positive rate, true negative rate, false negative rate, precision, recall, f1-score, and support.\n"
   ]
  },
  {
   "cell_type": "code",
   "execution_count": null,
   "id": "0f1884ab",
   "metadata": {},
   "outputs": [],
   "source": [
    "confusion_matrix(y_train, y_pred)"
   ]
  },
  {
   "cell_type": "code",
   "execution_count": null,
   "id": "9c2ae7b2",
   "metadata": {},
   "outputs": [],
   "source": [
    "tp = confusion_matrix(y_train, y_pred)[0][0]\n",
    "tn = confusion_matrix(y_train, y_pred)[1][1]\n",
    "fp = confusion_matrix(y_train, y_pred)[0][1]\n",
    "fn = confusion_matrix(y_train, y_pred)[1][0]\n"
   ]
  },
  {
   "cell_type": "code",
   "execution_count": null,
   "id": "41221e05",
   "metadata": {},
   "outputs": [],
   "source": [
    "# Can run if you restart kernel and reload new eval.py file\n",
    "\n",
    "# tpr, fpr, tnr, fnr = eval.rates(tp, tn, fp, fn)"
   ]
  },
  {
   "cell_type": "code",
   "execution_count": null,
   "id": "2d845516",
   "metadata": {},
   "outputs": [],
   "source": [
    "m1_precision, m1_accuracy, m1_npv, m1_specificity, m1_recall, m1_f1 = eval.mod_eval(tp, tn, fp, fn)\n",
    "\n",
    "tpr = tp/(tp+fn)\n",
    "fpr = fp/(tn+fp)\n",
    "tnr = tn/(tn+fp)\n",
    "fnr = fn/(tp+fn)\n",
    "\n",
    "print(f'Model 1 Accuracy:  + {m1_accuracy}')\n",
    "print(f'Model 1 True positive rate:  + {tpr}')\n",
    "print(f'Model 1 False positive rate:  + {fpr}')\n",
    "print(f'Model 1 False negative rate:  + {fnr}')\n",
    "print(f'Model 1 Precision: {m1_precision}')\n",
    "print(f'Model 1 Recall: + {m1_recall}')\n",
    "print(f'Model 1 NPV:  + {m1_npv}')\n",
    "print(f'Model 1 Specificity: + {m1_specificity}')\n",
    "print(f'Model 1 F1: + {m1_f1}')"
   ]
  },
  {
   "cell_type": "markdown",
   "id": "4fde353f",
   "metadata": {},
   "source": [
    "4. Run through steps increasing your min_samples_leaf and decreasing your max_depth. \n"
   ]
  },
  {
   "cell_type": "code",
   "execution_count": null,
   "id": "092f02a1",
   "metadata": {},
   "outputs": [],
   "source": [
    "\n",
    "metrics = []\n",
    "\n",
    "for i in range(1, 11):\n",
    "    # Make the model\n",
    "    rf = RandomForestClassifier(min_samples_leaf = i, max_depth=(11-i), random_state=123)\n",
    "\n",
    "    # Fit the model (on train and only train)\n",
    "    rf.fit(X_train, y_train)\n",
    "\n",
    "    # Use the model\n",
    "    # We'll evaluate the model's performance on train, first\n",
    "    in_sample_accuracy = rf.score(X_train, y_train)\n",
    "    \n",
    "    out_of_sample_accuracy = rf.score(X_validate, y_validate)\n",
    "\n",
    "    output = {\n",
    "        \"min_samples_leaf\": i,\n",
    "        \"max_depth\": (11-i),\n",
    "        \"train_accuracy\": in_sample_accuracy,\n",
    "        \"validate_accuracy\": out_of_sample_accuracy\n",
    "    }\n",
    "    \n",
    "    metrics.append(output)\n",
    "    \n",
    "df = pd.DataFrame(metrics)\n",
    "df[\"difference\"] = df.train_accuracy - df.validate_accuracy\n",
    "df"
   ]
  },
  {
   "cell_type": "markdown",
   "id": "73337d82",
   "metadata": {},
   "source": [
    "\n",
    "5.  What are the differences in the evaluation metrics?  Which performs better on your in-sample data?  Why?"
   ]
  },
  {
   "cell_type": "code",
   "execution_count": null,
   "id": "5c93800f",
   "metadata": {},
   "outputs": [],
   "source": [
    "# The greater the difference between valitate and train accuracy, the more overfit the model is\n",
    "\n",
    "# We wish to balance and simultaneously optimize maximum validate_accuracy with minimum difference\n",
    "\n",
    "df[df.difference <= 0.10].sort_values(by=['validate_accuracy', 'difference'], ascending = [False,True])\n"
   ]
  },
  {
   "cell_type": "code",
   "execution_count": null,
   "id": "5fd6717e",
   "metadata": {},
   "outputs": [],
   "source": [
    "df.set_index('max_depth')"
   ]
  },
  {
   "cell_type": "markdown",
   "id": "e061a060",
   "metadata": {},
   "source": [
    "\n",
    "After making a few models, which one has the best performance (or closest metrics) on both train and validate?"
   ]
  },
  {
   "cell_type": "markdown",
   "id": "ab44d37d",
   "metadata": {},
   "source": [
    "Min sample leaf 8 max depth 3"
   ]
  },
  {
   "cell_type": "markdown",
   "id": "3dfac80c",
   "metadata": {},
   "source": [
    "---"
   ]
  },
  {
   "cell_type": "markdown",
   "id": "84c03c5a",
   "metadata": {},
   "source": [
    "<h2 id=\"exercises\">KNN Exercises</h2>\n",
    "<p>Continue working in your <code>model</code> file with the titanic dataset. </p>\n",
    "<ol>\n",
    "<li>\n",
    "<p>Fit a K-Nearest Neighbors classifier to your training sample and transform (i.e. make predictions on the training sample)</p>"
   ]
  },
  {
   "cell_type": "markdown",
   "id": "3e8cea50",
   "metadata": {},
   "source": [
    "### Data Prep"
   ]
  },
  {
   "cell_type": "code",
   "execution_count": null,
   "id": "9c62dcab",
   "metadata": {},
   "outputs": [],
   "source": [
    "# ignore warnings\n",
    "import warnings\n",
    "warnings.filterwarnings(\"ignore\")\n",
    "\n",
    "import pandas as pd\n",
    "import numpy as np\n",
    "\n",
    "%matplotlib inline\n",
    "import matplotlib.pyplot as plt\n",
    "import seaborn as sns\n",
    "\n",
    "from sklearn.model_selection import train_test_split\n",
    "from sklearn.neighbors import KNeighborsClassifier\n",
    "from sklearn.metrics import classification_report\n",
    "from sklearn.metrics import confusion_matrix\n",
    "\n",
    "from pydataset import data\n",
    "\n",
    "\n",
    "import wrangle\n",
    "import eval\n",
    "\n",
    "import graphviz\n",
    "from graphviz import Graph"
   ]
  },
  {
   "cell_type": "code",
   "execution_count": null,
   "id": "46c1074d",
   "metadata": {},
   "outputs": [],
   "source": [
    "titanic_train, titanic_validate, titanic_test = wrangle.wrangle_titanic()"
   ]
  },
  {
   "cell_type": "code",
   "execution_count": null,
   "id": "7e9c1c23",
   "metadata": {},
   "outputs": [],
   "source": [
    "print(f'Tain: {titanic_train.shape}')\n",
    "print(f'Validate: {titanic_validate.shape}')\n",
    "print(f'Test: {titanic_test.shape}')"
   ]
  },
  {
   "cell_type": "code",
   "execution_count": null,
   "id": "6d8b57fb",
   "metadata": {},
   "outputs": [],
   "source": [
    "titanic_train.head()"
   ]
  },
  {
   "cell_type": "code",
   "execution_count": null,
   "id": "c725d529",
   "metadata": {},
   "outputs": [],
   "source": [
    "# create X & y version of train, where y is a series with just the target variable and X are all the features. \n",
    "\n",
    "X_train = titanic_train.drop(columns=['survived', 'sex', 'embark_town'])\n",
    "y_train = titanic_train.survived\n",
    "\n",
    "X_validate = titanic_validate.drop(columns=['survived', 'sex', 'embark_town'])\n",
    "y_validate = titanic_validate.survived\n",
    "\n",
    "X_test = titanic_test.drop(columns=['survived', 'sex', 'embark_town'])\n",
    "y_test = titanic_test.survived"
   ]
  },
  {
   "cell_type": "code",
   "execution_count": null,
   "id": "3ddbb1c2",
   "metadata": {},
   "outputs": [],
   "source": [
    "X_train.head()"
   ]
  },
  {
   "cell_type": "markdown",
   "id": "9f987560",
   "metadata": {},
   "source": [
    "### Model"
   ]
  },
  {
   "cell_type": "code",
   "execution_count": null,
   "id": "2e247529",
   "metadata": {},
   "outputs": [],
   "source": [
    "# Create KNN object\n",
    "\n",
    "knn = KNeighborsClassifier(n_neighbors=5, weights='uniform')"
   ]
  },
  {
   "cell_type": "code",
   "execution_count": null,
   "id": "dd7886ee",
   "metadata": {},
   "outputs": [],
   "source": [
    "# Fit the model\n",
    "\n",
    "knn.fit(X_train, y_train)"
   ]
  },
  {
   "cell_type": "code",
   "execution_count": null,
   "id": "539a0760",
   "metadata": {},
   "outputs": [],
   "source": [
    "# Make predictions\n",
    "\n",
    "y_pred = knn.predict(X_train)"
   ]
  },
  {
   "cell_type": "code",
   "execution_count": null,
   "id": "b7c6cf93",
   "metadata": {},
   "outputs": [],
   "source": [
    "# Look at sanmple of predictions\n",
    "\n",
    "y_pred[0:5]"
   ]
  },
  {
   "cell_type": "code",
   "execution_count": null,
   "id": "fc585c15",
   "metadata": {},
   "outputs": [],
   "source": [
    "# Estimate probability \n",
    "\n",
    "y_pred_proba = knn.predict_proba(X_train)"
   ]
  },
  {
   "cell_type": "markdown",
   "id": "dfcc78d8",
   "metadata": {},
   "source": [
    "2. <p>Evaluate your results using the model score, confusion matrix, and classification report.</p>"
   ]
  },
  {
   "cell_type": "code",
   "execution_count": null,
   "id": "05c8848d",
   "metadata": {},
   "outputs": [],
   "source": [
    "# Compute accuracy\n",
    "\n",
    "print('Accuracy of KNN classifier on training set: {:.2f}'\n",
    "     .format(knn.score(X_train, y_train)))"
   ]
  },
  {
   "cell_type": "code",
   "execution_count": null,
   "id": "ed8a2be6",
   "metadata": {},
   "outputs": [],
   "source": [
    "# Confusion Matrix\n",
    "\n",
    "print(confusion_matrix(y_train, y_pred))\n"
   ]
  },
  {
   "cell_type": "code",
   "execution_count": null,
   "id": "32991a4e",
   "metadata": {},
   "outputs": [],
   "source": [
    "# Classification report\n",
    "\n",
    "print(classification_report(y_train, y_pred))"
   ]
  },
  {
   "cell_type": "markdown",
   "id": "8d6af25b",
   "metadata": {},
   "source": [
    "3. <p>Print and clearly label the following:  Accuracy, true positive rate, false positive rate, true negative rate, false negative rate, precision, recall, f1-score, and support.</p>"
   ]
  },
  {
   "cell_type": "code",
   "execution_count": null,
   "id": "6b6e6b52",
   "metadata": {},
   "outputs": [],
   "source": [
    "print(confusion_matrix(y_train, y_pred))"
   ]
  },
  {
   "cell_type": "code",
   "execution_count": null,
   "id": "86f4b0ea",
   "metadata": {},
   "outputs": [],
   "source": [
    "tp = confusion_matrix(y_train, y_pred)[0][0]\n",
    "tn = confusion_matrix(y_train, y_pred)[1][1]\n",
    "fp = confusion_matrix(y_train, y_pred)[0][1]\n",
    "fn = confusion_matrix(y_train, y_pred)[1][0]"
   ]
  },
  {
   "cell_type": "code",
   "execution_count": null,
   "id": "f1367558",
   "metadata": {},
   "outputs": [],
   "source": [
    "tpr, fpr, tnr, fnr = eval.eval_rates(tp, tn, fp, fn)"
   ]
  },
  {
   "cell_type": "code",
   "execution_count": null,
   "id": "ecb97767",
   "metadata": {},
   "outputs": [],
   "source": [
    "m1_precision, m1_accuracy, m1_npv, m1_specificity, m1_recall, m1_f1 = eval.mod_eval(tp, tn, fp, fn)"
   ]
  },
  {
   "cell_type": "code",
   "execution_count": null,
   "id": "77dfaa1f",
   "metadata": {},
   "outputs": [],
   "source": [
    "print(f'Model 1 Accuracy:  + {m1_accuracy}')\n",
    "print(f'Model 1 True positive rate:  + {tpr}')\n",
    "print(f'Model 1 False positive rate:  + {fpr}')\n",
    "print(f'Model 1 False negative rate:  + {fnr}')\n",
    "print(f'Model 1 Precision: {m1_precision}')\n",
    "print(f'Model 1 Recall: + {m1_recall}')\n",
    "print(f'Model 1 NPV:  + {m1_npv}')\n",
    "print(f'Model 1 Specificity: + {m1_specificity}')\n",
    "print(f'Model 1 F1: + {m1_f1}')"
   ]
  },
  {
   "cell_type": "markdown",
   "id": "3e19e605",
   "metadata": {},
   "source": [
    "4. <p>Run through steps 2-4 setting k to 10</p>"
   ]
  },
  {
   "cell_type": "code",
   "execution_count": null,
   "id": "8a651886",
   "metadata": {},
   "outputs": [],
   "source": [
    "knn10 = KNeighborsClassifier(n_neighbors=10, weights='uniform')\n",
    "knn10.fit(X_train, y_train)\n",
    "y_pred10 = knn10.predict(X_train)\n",
    "y_pred_proba10 = knn10.predict_proba(X_train)\n"
   ]
  },
  {
   "cell_type": "code",
   "execution_count": null,
   "id": "42e8846a",
   "metadata": {},
   "outputs": [],
   "source": [
    "print('Accuracy of KNN classifier 10 with neighbors on training set: {:.2f}'\n",
    "     .format(knn10.score(X_train, y_train)))"
   ]
  },
  {
   "cell_type": "code",
   "execution_count": null,
   "id": "021b1d5d",
   "metadata": {},
   "outputs": [],
   "source": [
    "print(confusion_matrix(y_train, y_pred10))\n"
   ]
  },
  {
   "cell_type": "code",
   "execution_count": null,
   "id": "cc569a01",
   "metadata": {},
   "outputs": [],
   "source": [
    "print(classification_report(y_train, y_pred10))"
   ]
  },
  {
   "cell_type": "code",
   "execution_count": null,
   "id": "e5ce7955",
   "metadata": {},
   "outputs": [],
   "source": [
    "print(confusion_matrix(y_train, y_pred10))"
   ]
  },
  {
   "cell_type": "code",
   "execution_count": null,
   "id": "6d948aa6",
   "metadata": {},
   "outputs": [],
   "source": [
    "tp10 = confusion_matrix(y_train, y_pred10)[0][0]\n",
    "tn10 = confusion_matrix(y_train, y_pred10)[1][1]\n",
    "fp10 = confusion_matrix(y_train, y_pred10)[0][1]\n",
    "fn10 = confusion_matrix(y_train, y_pred10)[1][0]"
   ]
  },
  {
   "cell_type": "code",
   "execution_count": null,
   "id": "14df1bcd",
   "metadata": {},
   "outputs": [],
   "source": [
    "tpr10, fpr10, tnr10, fnr10 = eval.eval_rates(tp10, tn10, fp10, fn10)"
   ]
  },
  {
   "cell_type": "code",
   "execution_count": null,
   "id": "844909b5",
   "metadata": {},
   "outputs": [],
   "source": [
    "m10_precision, m10_accuracy, m10_npv, m10_specificity, m10_recall, m10_f1 = eval.mod_eval(tp10, tn10, fp10, fn10)"
   ]
  },
  {
   "cell_type": "code",
   "execution_count": null,
   "id": "9bc57fbc",
   "metadata": {},
   "outputs": [],
   "source": [
    "print(f'Model 10 Accuracy:  + {m10_accuracy}')\n",
    "print(f'Model 10 True positive rate:  + {tpr10}')\n",
    "print(f'Model 10 False positive rate:  + {fpr10}')\n",
    "print(f'Model 10 False negative rate:  + {fnr10}')\n",
    "print(f'Model 10 Precision: {m10_precision}')\n",
    "print(f'Model 10 Recall: + {m10_recall}')\n",
    "print(f'Model 10 NPV:  + {m10_npv}')\n",
    "print(f'Model 10 Specificity: + {m10_specificity}')\n",
    "print(f'Model 10 F1: + {m10_f1}')"
   ]
  },
  {
   "cell_type": "markdown",
   "id": "aba08a2d",
   "metadata": {},
   "source": [
    "5. <p>Run through setps 2-4 setting k to 20</p>"
   ]
  },
  {
   "cell_type": "code",
   "execution_count": null,
   "id": "febb2ea6",
   "metadata": {},
   "outputs": [],
   "source": [
    "knn20 = KNeighborsClassifier(n_neighbors=20, weights='uniform')\n",
    "knn20.fit(X_train, y_train)\n",
    "y_pred20 = knn20.predict(X_train)\n",
    "y_pred_proba20 = knn20.predict_proba(X_train)\n"
   ]
  },
  {
   "cell_type": "code",
   "execution_count": null,
   "id": "2ffc1ce9",
   "metadata": {},
   "outputs": [],
   "source": [
    "print('Accuracy of KNN classifier 20 with neighbors on training set: {:.2f}'\n",
    "     .format(knn20.score(X_train, y_train)))"
   ]
  },
  {
   "cell_type": "code",
   "execution_count": null,
   "id": "4c9d4329",
   "metadata": {},
   "outputs": [],
   "source": [
    "print(confusion_matrix(y_train, y_pred20))\n"
   ]
  },
  {
   "cell_type": "code",
   "execution_count": null,
   "id": "f94cb671",
   "metadata": {},
   "outputs": [],
   "source": [
    "print(classification_report(y_train, y_pred20))"
   ]
  },
  {
   "cell_type": "code",
   "execution_count": null,
   "id": "62cd0320",
   "metadata": {},
   "outputs": [],
   "source": [
    "print(confusion_matrix(y_train, y_pred20))\n"
   ]
  },
  {
   "cell_type": "code",
   "execution_count": null,
   "id": "bb4ccc26",
   "metadata": {},
   "outputs": [],
   "source": [
    "tp20 = confusion_matrix(y_train, y_pred20)[0][0]\n",
    "tn20 = confusion_matrix(y_train, y_pred20)[1][1]\n",
    "fp20 = confusion_matrix(y_train, y_pred20)[0][1]\n",
    "fn20 = confusion_matrix(y_train, y_pred20)[1][0]"
   ]
  },
  {
   "cell_type": "code",
   "execution_count": null,
   "id": "6da1f522",
   "metadata": {},
   "outputs": [],
   "source": [
    "tpr20, fpr20, tnr20, fnr20 = eval.eval_rates(tp20, tn20, fp20, fn20)"
   ]
  },
  {
   "cell_type": "code",
   "execution_count": null,
   "id": "4a9cf18d",
   "metadata": {},
   "outputs": [],
   "source": [
    "m20_precision, m20_accuracy, m20_npv, m20_specificity, m20_recall, m20_f1 = eval.mod_eval(tp20, tn20, fp20, fn20)"
   ]
  },
  {
   "cell_type": "code",
   "execution_count": null,
   "id": "a49c9b3f",
   "metadata": {},
   "outputs": [],
   "source": [
    "print(f'Model 20 Accuracy:  + {m20_accuracy}')\n",
    "print(f'Model 20 True positive rate:  + {tpr20}')\n",
    "print(f'Model 20 False positive rate:  + {fpr20}')\n",
    "print(f'Model 20 False negative rate:  + {fnr20}')\n",
    "print(f'Model 20 Precision: {m20_precision}')\n",
    "print(f'Model 20 Recall: + {m20_recall}')\n",
    "print(f'Model 20 NPV:  + {m20_npv}')\n",
    "print(f'Model 20 Specificity: + {m20_specificity}')\n",
    "print(f'Model 20 F1: + {m20_f1}')"
   ]
  },
  {
   "cell_type": "markdown",
   "id": "f52a0d26",
   "metadata": {},
   "source": [
    "6. <p>What are the differences in the evaluation metrics?  Which performs better on your in-sample data? Why?</p>"
   ]
  },
  {
   "cell_type": "code",
   "execution_count": null,
   "id": "ea3d9d18",
   "metadata": {},
   "outputs": [],
   "source": [
    "compare_knn = pd.DataFrame(columns=['neighbors', 'accuracy', 'tpr', 'fpr', 'fnr', 'precision', 'recall', 'npv', 'specificity', 'f1'], data = [[5, m1_accuracy, tpr, fpr, fnr, m1_precision, m1_recall, m1_npv, m1_specificity, m1_f1], [10, m10_accuracy, tpr10, fpr10, fnr10, m10_precision, m10_recall, m10_npv, m10_specificity, m10_f1], [20, m20_accuracy, tpr20, fpr20, fnr20, m20_precision, m20_recall, m20_npv, m20_specificity, m20_f1]])"
   ]
  },
  {
   "cell_type": "code",
   "execution_count": null,
   "id": "8e513234",
   "metadata": {},
   "outputs": [],
   "source": [
    "compare_knn"
   ]
  },
  {
   "cell_type": "markdown",
   "id": "114a3c18",
   "metadata": {},
   "source": [
    "5 neighbors best"
   ]
  },
  {
   "cell_type": "markdown",
   "id": "0c040362",
   "metadata": {},
   "source": [
    "7. <p>Which model performs best on our out-of-sample data from <code>validate</code>?</p>"
   ]
  },
  {
   "cell_type": "code",
   "execution_count": null,
   "id": "ad25c66b",
   "metadata": {},
   "outputs": [],
   "source": [
    "print('Accuracy of KNN 5 classifier on test set: {:.2f}'\n",
    "     .format(knn.score(X_validate, y_validate)))"
   ]
  },
  {
   "cell_type": "code",
   "execution_count": null,
   "id": "6e7f29ce",
   "metadata": {},
   "outputs": [],
   "source": [
    "print('Accuracy of KNN 10 classifier on test set: {:.2f}'\n",
    "     .format(knn10.score(X_validate, y_validate)))"
   ]
  },
  {
   "cell_type": "code",
   "execution_count": null,
   "id": "b19453a6",
   "metadata": {},
   "outputs": [],
   "source": [
    "print('Accuracy of KNN 20 classifier on test set: {:.2f}'\n",
    "     .format(knn20.score(X_validate, y_validate)))"
   ]
  },
  {
   "cell_type": "markdown",
   "id": "b9d60938",
   "metadata": {},
   "source": [
    "---"
   ]
  },
  {
   "cell_type": "markdown",
   "id": "24569bc2",
   "metadata": {},
   "source": [
    "<h2 id=\"exercises\">Logistic Regression Exercises</h2>\n",
    "<p>In these exercises, we'll continue working with the titanic dataset and\n",
    "building logistic regression models. Throughout this exercise, be sure you\n",
    "are training, evaluation, and comparing models on the train and validate\n",
    "datasets. The test dataset should only be used for your final model.</p>\n",
    "<p>For all of the models you create, choose a threshold that optimizes for\n",
    "accuracy.</p>\n",
    "<p>Do your work for these exercises in either a notebook or a python script\n",
    "named <code>model</code> within your <code>classification-exercises</code> repository. Add, commit, and push your work.</p>\n"
   ]
  },
  {
   "cell_type": "markdown",
   "id": "141ec189",
   "metadata": {},
   "source": [
    "1. <p>Create a model that includes age in addition to fare and pclass."
   ]
  },
  {
   "cell_type": "code",
   "execution_count": 1,
   "id": "2ab02722",
   "metadata": {},
   "outputs": [],
   "source": [
    "import numpy as np\n",
    "import pandas as pd\n",
    "from sklearn.model_selection import train_test_split\n",
    "import matplotlib.pyplot as plt\n",
    "import seaborn as sns\n",
    "\n",
    "from sklearn.ensemble import RandomForestClassifier\n",
    "from sklearn.tree import export_graphviz\n",
    "from sklearn.metrics import classification_report\n",
    "from sklearn.metrics import confusion_matrix\n",
    "\n",
    "import graphviz\n",
    "from graphviz import Graph\n",
    "\n",
    "import warnings\n",
    "warnings.filterwarnings(\"ignore\")\n",
    "\n",
    "import acquire\n",
    "import prepare"
   ]
  },
  {
   "cell_type": "markdown",
   "id": "acfbda9e",
   "metadata": {},
   "source": [
    "Trying aquisition and preparation steps from some of Adam's earlier lesson reviews - doing some interpolation of data for problematic columns instead of just dropping"
   ]
  },
  {
   "cell_type": "code",
   "execution_count": 2,
   "id": "82982ccb",
   "metadata": {},
   "outputs": [
    {
     "data": {
      "text/html": [
       "<div>\n",
       "<style scoped>\n",
       "    .dataframe tbody tr th:only-of-type {\n",
       "        vertical-align: middle;\n",
       "    }\n",
       "\n",
       "    .dataframe tbody tr th {\n",
       "        vertical-align: top;\n",
       "    }\n",
       "\n",
       "    .dataframe thead th {\n",
       "        text-align: right;\n",
       "    }\n",
       "</style>\n",
       "<table border=\"1\" class=\"dataframe\">\n",
       "  <thead>\n",
       "    <tr style=\"text-align: right;\">\n",
       "      <th></th>\n",
       "      <th>passenger_id</th>\n",
       "      <th>survived</th>\n",
       "      <th>pclass</th>\n",
       "      <th>sex</th>\n",
       "      <th>age</th>\n",
       "      <th>sibsp</th>\n",
       "      <th>parch</th>\n",
       "      <th>fare</th>\n",
       "      <th>embarked</th>\n",
       "      <th>class</th>\n",
       "      <th>deck</th>\n",
       "      <th>embark_town</th>\n",
       "      <th>alone</th>\n",
       "    </tr>\n",
       "  </thead>\n",
       "  <tbody>\n",
       "    <tr>\n",
       "      <th>0</th>\n",
       "      <td>0</td>\n",
       "      <td>0</td>\n",
       "      <td>3</td>\n",
       "      <td>male</td>\n",
       "      <td>22.0</td>\n",
       "      <td>1</td>\n",
       "      <td>0</td>\n",
       "      <td>7.2500</td>\n",
       "      <td>S</td>\n",
       "      <td>Third</td>\n",
       "      <td>NaN</td>\n",
       "      <td>Southampton</td>\n",
       "      <td>0</td>\n",
       "    </tr>\n",
       "    <tr>\n",
       "      <th>1</th>\n",
       "      <td>1</td>\n",
       "      <td>1</td>\n",
       "      <td>1</td>\n",
       "      <td>female</td>\n",
       "      <td>38.0</td>\n",
       "      <td>1</td>\n",
       "      <td>0</td>\n",
       "      <td>71.2833</td>\n",
       "      <td>C</td>\n",
       "      <td>First</td>\n",
       "      <td>C</td>\n",
       "      <td>Cherbourg</td>\n",
       "      <td>0</td>\n",
       "    </tr>\n",
       "  </tbody>\n",
       "</table>\n",
       "</div>"
      ],
      "text/plain": [
       "   passenger_id  survived  pclass     sex   age  sibsp  parch     fare  \\\n",
       "0             0         0       3    male  22.0      1      0   7.2500   \n",
       "1             1         1       1  female  38.0      1      0  71.2833   \n",
       "\n",
       "  embarked  class deck  embark_town  alone  \n",
       "0        S  Third  NaN  Southampton      0  \n",
       "1        C  First    C    Cherbourg      0  "
      ]
     },
     "execution_count": 2,
     "metadata": {},
     "output_type": "execute_result"
    }
   ],
   "source": [
    "# Acquire Step\n",
    "df = acquire.get_titanic_data()\n",
    "df.head(2)"
   ]
  },
  {
   "cell_type": "code",
   "execution_count": 3,
   "id": "c6710b1f",
   "metadata": {},
   "outputs": [],
   "source": [
    "# Reduce obvious noise\n",
    "df = df.set_index(\"passenger_id\")\n",
    "df = df.drop(columns=[\"class\", \"embarked\"])"
   ]
  },
  {
   "cell_type": "code",
   "execution_count": 5,
   "id": "33d3ab7e",
   "metadata": {},
   "outputs": [
    {
     "data": {
      "text/plain": [
       "survived         0\n",
       "pclass           0\n",
       "sex              0\n",
       "age            177\n",
       "sibsp            0\n",
       "parch            0\n",
       "fare             0\n",
       "deck           688\n",
       "embark_town      2\n",
       "alone            0\n",
       "dtype: int64"
      ]
     },
     "execution_count": 5,
     "metadata": {},
     "output_type": "execute_result"
    }
   ],
   "source": [
    "# What about nulls?\n",
    "df.isna().sum()"
   ]
  },
  {
   "cell_type": "code",
   "execution_count": 6,
   "id": "2f920541",
   "metadata": {},
   "outputs": [],
   "source": [
    "# Drop deck because there are far too many nulls\n",
    "df = df.drop(columns=[\"deck\"])"
   ]
  },
  {
   "cell_type": "code",
   "execution_count": 7,
   "id": "2ae19b70",
   "metadata": {},
   "outputs": [],
   "source": [
    "# Let's fill embark_town with the most common observation\n",
    "df.embark_town = df.embark_town.fillna(value=df.embark_town.mode())"
   ]
  },
  {
   "cell_type": "code",
   "execution_count": 8,
   "id": "fbba9943",
   "metadata": {},
   "outputs": [
    {
     "data": {
      "text/plain": [
       "1    133\n",
       "0     44\n",
       "Name: alone, dtype: int64"
      ]
     },
     "execution_count": 8,
     "metadata": {},
     "output_type": "execute_result"
    }
   ],
   "source": [
    "# Let's investigate the observations with missing age\n",
    "# My first thought was empty age values might indicate children\n",
    "# Looks like most of these individuals were traveling alone\n",
    "no_age_info = df[df.age.isna()]\n",
    "no_age_info.alone.value_counts()"
   ]
  },
  {
   "cell_type": "code",
   "execution_count": 9,
   "id": "e66cd90e",
   "metadata": {},
   "outputs": [
    {
     "data": {
      "text/plain": [
       "(<AxesSubplot:>, <AxesSubplot:>)"
      ]
     },
     "execution_count": 9,
     "metadata": {},
     "output_type": "execute_result"
    },
    {
     "data": {
      "image/png": "[encoded data removed]",
      "text/plain": [
       "<Figure size 432x288 with 1 Axes>"
      ]
     },
     "metadata": {
      "needs_background": "light"
     },
     "output_type": "display_data"
    }
   ],
   "source": [
    "df.fare.hist(), no_age_info.fare.hist()"
   ]
  },
  {
   "cell_type": "code",
   "execution_count": 10,
   "metadata": {},
   "outputs": [
    {
     "name": "stdout",
     "output_type": "stream",
     "text": [
      "survived\n",
      "Population:\n",
      "0    0.616162\n",
      "1    0.383838\n",
      "Name: survived, dtype: float64\n",
      "No age\n",
      "0    0.706215\n",
      "1    0.293785\n",
      "Name: survived, dtype: float64\n",
      "\n",
      "\n",
      "pclass\n",
      "Population:\n",
      "3    0.551066\n",
      "1    0.242424\n",
      "2    0.206510\n",
      "Name: pclass, dtype: float64\n",
      "No age\n",
      "3    0.768362\n",
      "1    0.169492\n",
      "2    0.062147\n",
      "Name: pclass, dtype: float64\n",
      "\n",
      "\n",
      "sex\n",
      "Population:\n",
      "male      0.647587\n",
      "female    0.352413\n",
      "Name: sex, dtype: float64\n",
      "No age\n",
      "male      0.700565\n",
      "female    0.299435\n",
      "Name: sex, dtype: float64\n",
      "\n",
      "\n",
      "sibsp\n",
      "Population:\n",
      "0    0.682379\n",
      "1    0.234568\n",
      "2    0.031425\n",
      "4    0.020202\n",
      "3    0.017957\n",
      "8    0.007856\n",
      "5    0.005612\n",
      "Name: sibsp, dtype: float64\n",
      "No age\n",
      "0    0.774011\n",
      "1    0.146893\n",
      "8    0.039548\n",
      "3    0.022599\n",
      "2    0.016949\n",
      "Name: sibsp, dtype: float64\n",
      "\n",
      "\n",
      "parch\n",
      "Population:\n",
      "0    0.760943\n",
      "1    0.132435\n",
      "2    0.089787\n",
      "3    0.005612\n",
      "5    0.005612\n",
      "4    0.004489\n",
      "6    0.001122\n",
      "Name: parch, dtype: float64\n",
      "No age\n",
      "0    0.887006\n",
      "2    0.067797\n",
      "1    0.045198\n",
      "Name: parch, dtype: float64\n",
      "\n",
      "\n",
      "embark_town\n",
      "Population:\n",
      "Southampton    0.724409\n",
      "Cherbourg      0.188976\n",
      "Queenstown     0.086614\n",
      "Name: embark_town, dtype: float64\n",
      "No age\n",
      "Southampton    0.508475\n",
      "Queenstown     0.276836\n",
      "Cherbourg      0.214689\n",
      "Name: embark_town, dtype: float64\n",
      "\n",
      "\n",
      "alone\n",
      "Population:\n",
      "1    0.602694\n",
      "0    0.397306\n",
      "Name: alone, dtype: float64\n",
      "No age\n",
      "1    0.751412\n",
      "0    0.248588\n",
      "Name: alone, dtype: float64\n",
      "\n",
      "\n"
     ]
    }
   ],
   "source": [
    "# Let's see how similar this group is to the population\n",
    "for column in df.drop(columns=[\"age\", \"fare\"]).columns:\n",
    "    print(column)\n",
    "    print(\"Population:\")\n",
    "    print(df[column].value_counts(normalize=True))\n",
    "    print(\"No age\")\n",
    "    print(no_age_info[column].value_counts(normalize=True))\n",
    "    print()\n",
    "    print()"
   ]
  },
  {
   "cell_type": "code",
   "execution_count": 11,
   "id": "ed44b35f",
   "metadata": {},
   "outputs": [
    {
     "data": {
      "text/html": [
       "<div>\n",
       "<style scoped>\n",
       "    .dataframe tbody tr th:only-of-type {\n",
       "        vertical-align: middle;\n",
       "    }\n",
       "\n",
       "    .dataframe tbody tr th {\n",
       "        vertical-align: top;\n",
       "    }\n",
       "\n",
       "    .dataframe thead th {\n",
       "        text-align: right;\n",
       "    }\n",
       "</style>\n",
       "<table border=\"1\" class=\"dataframe\">\n",
       "  <thead>\n",
       "    <tr style=\"text-align: right;\">\n",
       "      <th></th>\n",
       "      <th>survived</th>\n",
       "      <th>pclass</th>\n",
       "      <th>sex</th>\n",
       "      <th>age</th>\n",
       "      <th>sibsp</th>\n",
       "      <th>parch</th>\n",
       "      <th>fare</th>\n",
       "      <th>embark_town</th>\n",
       "      <th>alone</th>\n",
       "    </tr>\n",
       "    <tr>\n",
       "      <th>passenger_id</th>\n",
       "      <th></th>\n",
       "      <th></th>\n",
       "      <th></th>\n",
       "      <th></th>\n",
       "      <th></th>\n",
       "      <th></th>\n",
       "      <th></th>\n",
       "      <th></th>\n",
       "      <th></th>\n",
       "    </tr>\n",
       "  </thead>\n",
       "  <tbody>\n",
       "    <tr>\n",
       "      <th>0</th>\n",
       "      <td>0</td>\n",
       "      <td>3</td>\n",
       "      <td>male</td>\n",
       "      <td>22.0</td>\n",
       "      <td>1</td>\n",
       "      <td>0</td>\n",
       "      <td>7.2500</td>\n",
       "      <td>Southampton</td>\n",
       "      <td>0</td>\n",
       "    </tr>\n",
       "    <tr>\n",
       "      <th>1</th>\n",
       "      <td>1</td>\n",
       "      <td>1</td>\n",
       "      <td>female</td>\n",
       "      <td>38.0</td>\n",
       "      <td>1</td>\n",
       "      <td>0</td>\n",
       "      <td>71.2833</td>\n",
       "      <td>Cherbourg</td>\n",
       "      <td>0</td>\n",
       "    </tr>\n",
       "    <tr>\n",
       "      <th>2</th>\n",
       "      <td>1</td>\n",
       "      <td>3</td>\n",
       "      <td>female</td>\n",
       "      <td>26.0</td>\n",
       "      <td>0</td>\n",
       "      <td>0</td>\n",
       "      <td>7.9250</td>\n",
       "      <td>Southampton</td>\n",
       "      <td>1</td>\n",
       "    </tr>\n",
       "    <tr>\n",
       "      <th>3</th>\n",
       "      <td>1</td>\n",
       "      <td>1</td>\n",
       "      <td>female</td>\n",
       "      <td>35.0</td>\n",
       "      <td>1</td>\n",
       "      <td>0</td>\n",
       "      <td>53.1000</td>\n",
       "      <td>Southampton</td>\n",
       "      <td>0</td>\n",
       "    </tr>\n",
       "    <tr>\n",
       "      <th>4</th>\n",
       "      <td>0</td>\n",
       "      <td>3</td>\n",
       "      <td>male</td>\n",
       "      <td>35.0</td>\n",
       "      <td>0</td>\n",
       "      <td>0</td>\n",
       "      <td>8.0500</td>\n",
       "      <td>Southampton</td>\n",
       "      <td>1</td>\n",
       "    </tr>\n",
       "  </tbody>\n",
       "</table>\n",
       "</div>"
      ],
      "text/plain": [
       "              survived  pclass     sex   age  sibsp  parch     fare  \\\n",
       "passenger_id                                                          \n",
       "0                    0       3    male  22.0      1      0   7.2500   \n",
       "1                    1       1  female  38.0      1      0  71.2833   \n",
       "2                    1       3  female  26.0      0      0   7.9250   \n",
       "3                    1       1  female  35.0      1      0  53.1000   \n",
       "4                    0       3    male  35.0      0      0   8.0500   \n",
       "\n",
       "              embark_town  alone  \n",
       "passenger_id                      \n",
       "0             Southampton      0  \n",
       "1               Cherbourg      0  \n",
       "2             Southampton      1  \n",
       "3             Southampton      0  \n",
       "4             Southampton      1  "
      ]
     },
     "execution_count": 11,
     "metadata": {},
     "output_type": "execute_result"
    }
   ],
   "source": [
    "df.head()"
   ]
  },
  {
   "cell_type": "code",
   "execution_count": 12,
   "metadata": {},
   "outputs": [],
   "source": [
    "# Looking at the distribution of values, it appears that no age subgroup is very close to the population\n",
    "# If we needed to be more certain, we could perform hypothesis testing\n",
    "# It looks like there's nothing wildly different about the no age group compared to the population\n",
    "# So we'll impute using the median age\n",
    "df.age = df.age.fillna(value=df.age.median())"
   ]
  },
  {
   "cell_type": "code",
   "execution_count": 13,
   "id": "beb4f4b7",
   "metadata": {},
   "outputs": [
    {
     "data": {
      "text/html": [
       "<div>\n",
       "<style scoped>\n",
       "    .dataframe tbody tr th:only-of-type {\n",
       "        vertical-align: middle;\n",
       "    }\n",
       "\n",
       "    .dataframe tbody tr th {\n",
       "        vertical-align: top;\n",
       "    }\n",
       "\n",
       "    .dataframe thead th {\n",
       "        text-align: right;\n",
       "    }\n",
       "</style>\n",
       "<table border=\"1\" class=\"dataframe\">\n",
       "  <thead>\n",
       "    <tr style=\"text-align: right;\">\n",
       "      <th></th>\n",
       "      <th>survived</th>\n",
       "      <th>pclass</th>\n",
       "      <th>age</th>\n",
       "      <th>sibsp</th>\n",
       "      <th>parch</th>\n",
       "      <th>fare</th>\n",
       "      <th>alone</th>\n",
       "      <th>sex_male</th>\n",
       "      <th>embark_town_Queenstown</th>\n",
       "      <th>embark_town_Southampton</th>\n",
       "    </tr>\n",
       "    <tr>\n",
       "      <th>passenger_id</th>\n",
       "      <th></th>\n",
       "      <th></th>\n",
       "      <th></th>\n",
       "      <th></th>\n",
       "      <th></th>\n",
       "      <th></th>\n",
       "      <th></th>\n",
       "      <th></th>\n",
       "      <th></th>\n",
       "      <th></th>\n",
       "    </tr>\n",
       "  </thead>\n",
       "  <tbody>\n",
       "    <tr>\n",
       "      <th>0</th>\n",
       "      <td>0</td>\n",
       "      <td>3</td>\n",
       "      <td>22.0</td>\n",
       "      <td>1</td>\n",
       "      <td>0</td>\n",
       "      <td>7.2500</td>\n",
       "      <td>0</td>\n",
       "      <td>1</td>\n",
       "      <td>0</td>\n",
       "      <td>1</td>\n",
       "    </tr>\n",
       "    <tr>\n",
       "      <th>1</th>\n",
       "      <td>1</td>\n",
       "      <td>1</td>\n",
       "      <td>38.0</td>\n",
       "      <td>1</td>\n",
       "      <td>0</td>\n",
       "      <td>71.2833</td>\n",
       "      <td>0</td>\n",
       "      <td>0</td>\n",
       "      <td>0</td>\n",
       "      <td>0</td>\n",
       "    </tr>\n",
       "    <tr>\n",
       "      <th>2</th>\n",
       "      <td>1</td>\n",
       "      <td>3</td>\n",
       "      <td>26.0</td>\n",
       "      <td>0</td>\n",
       "      <td>0</td>\n",
       "      <td>7.9250</td>\n",
       "      <td>1</td>\n",
       "      <td>0</td>\n",
       "      <td>0</td>\n",
       "      <td>1</td>\n",
       "    </tr>\n",
       "    <tr>\n",
       "      <th>3</th>\n",
       "      <td>1</td>\n",
       "      <td>1</td>\n",
       "      <td>35.0</td>\n",
       "      <td>1</td>\n",
       "      <td>0</td>\n",
       "      <td>53.1000</td>\n",
       "      <td>0</td>\n",
       "      <td>0</td>\n",
       "      <td>0</td>\n",
       "      <td>1</td>\n",
       "    </tr>\n",
       "    <tr>\n",
       "      <th>4</th>\n",
       "      <td>0</td>\n",
       "      <td>3</td>\n",
       "      <td>35.0</td>\n",
       "      <td>0</td>\n",
       "      <td>0</td>\n",
       "      <td>8.0500</td>\n",
       "      <td>1</td>\n",
       "      <td>1</td>\n",
       "      <td>0</td>\n",
       "      <td>1</td>\n",
       "    </tr>\n",
       "  </tbody>\n",
       "</table>\n",
       "</div>"
      ],
      "text/plain": [
       "              survived  pclass   age  sibsp  parch     fare  alone  sex_male  \\\n",
       "passenger_id                                                                   \n",
       "0                    0       3  22.0      1      0   7.2500      0         1   \n",
       "1                    1       1  38.0      1      0  71.2833      0         0   \n",
       "2                    1       3  26.0      0      0   7.9250      1         0   \n",
       "3                    1       1  35.0      1      0  53.1000      0         0   \n",
       "4                    0       3  35.0      0      0   8.0500      1         1   \n",
       "\n",
       "              embark_town_Queenstown  embark_town_Southampton  \n",
       "passenger_id                                                   \n",
       "0                                  0                        1  \n",
       "1                                  0                        0  \n",
       "2                                  0                        1  \n",
       "3                                  0                        1  \n",
       "4                                  0                        1  "
      ]
     },
     "execution_count": 13,
     "metadata": {},
     "output_type": "execute_result"
    }
   ],
   "source": [
    "# Time to encode the encodeable!\n",
    "dummy_df = pd.get_dummies(df[['sex','embark_town']], dummy_na=False, drop_first=[True, True])\n",
    "\n",
    "# Drop the original columns we encoded\n",
    "df = df.drop(columns=[\"sex\", \"embark_town\"])\n",
    "\n",
    "# Stitch the df and the dummy_df together again\n",
    "df = pd.concat([df, dummy_df], axis=1)\n",
    "df.head()"
   ]
  },
  {
   "cell_type": "code",
   "execution_count": 14,
   "metadata": {},
   "outputs": [
    {
     "data": {
      "text/html": [
       "<div>\n",
       "<style scoped>\n",
       "    .dataframe tbody tr th:only-of-type {\n",
       "        vertical-align: middle;\n",
       "    }\n",
       "\n",
       "    .dataframe tbody tr th {\n",
       "        vertical-align: top;\n",
       "    }\n",
       "\n",
       "    .dataframe thead th {\n",
       "        text-align: right;\n",
       "    }\n",
       "</style>\n",
       "<table border=\"1\" class=\"dataframe\">\n",
       "  <thead>\n",
       "    <tr style=\"text-align: right;\">\n",
       "      <th></th>\n",
       "      <th>survived</th>\n",
       "      <th>pclass</th>\n",
       "      <th>age</th>\n",
       "      <th>sibsp</th>\n",
       "      <th>parch</th>\n",
       "      <th>fare</th>\n",
       "      <th>alone</th>\n",
       "      <th>sex_male</th>\n",
       "      <th>embark_town_Queenstown</th>\n",
       "      <th>embark_town_Southampton</th>\n",
       "    </tr>\n",
       "    <tr>\n",
       "      <th>passenger_id</th>\n",
       "      <th></th>\n",
       "      <th></th>\n",
       "      <th></th>\n",
       "      <th></th>\n",
       "      <th></th>\n",
       "      <th></th>\n",
       "      <th></th>\n",
       "      <th></th>\n",
       "      <th></th>\n",
       "      <th></th>\n",
       "    </tr>\n",
       "  </thead>\n",
       "  <tbody>\n",
       "    <tr>\n",
       "      <th>0</th>\n",
       "      <td>0</td>\n",
       "      <td>3</td>\n",
       "      <td>22.0</td>\n",
       "      <td>1</td>\n",
       "      <td>0</td>\n",
       "      <td>7.2500</td>\n",
       "      <td>0</td>\n",
       "      <td>1</td>\n",
       "      <td>0</td>\n",
       "      <td>1</td>\n",
       "    </tr>\n",
       "    <tr>\n",
       "      <th>1</th>\n",
       "      <td>1</td>\n",
       "      <td>1</td>\n",
       "      <td>38.0</td>\n",
       "      <td>1</td>\n",
       "      <td>0</td>\n",
       "      <td>71.2833</td>\n",
       "      <td>0</td>\n",
       "      <td>0</td>\n",
       "      <td>0</td>\n",
       "      <td>0</td>\n",
       "    </tr>\n",
       "    <tr>\n",
       "      <th>2</th>\n",
       "      <td>1</td>\n",
       "      <td>3</td>\n",
       "      <td>26.0</td>\n",
       "      <td>0</td>\n",
       "      <td>0</td>\n",
       "      <td>7.9250</td>\n",
       "      <td>1</td>\n",
       "      <td>0</td>\n",
       "      <td>0</td>\n",
       "      <td>1</td>\n",
       "    </tr>\n",
       "    <tr>\n",
       "      <th>3</th>\n",
       "      <td>1</td>\n",
       "      <td>1</td>\n",
       "      <td>35.0</td>\n",
       "      <td>1</td>\n",
       "      <td>0</td>\n",
       "      <td>53.1000</td>\n",
       "      <td>0</td>\n",
       "      <td>0</td>\n",
       "      <td>0</td>\n",
       "      <td>1</td>\n",
       "    </tr>\n",
       "    <tr>\n",
       "      <th>4</th>\n",
       "      <td>0</td>\n",
       "      <td>3</td>\n",
       "      <td>35.0</td>\n",
       "      <td>0</td>\n",
       "      <td>0</td>\n",
       "      <td>8.0500</td>\n",
       "      <td>1</td>\n",
       "      <td>1</td>\n",
       "      <td>0</td>\n",
       "      <td>1</td>\n",
       "    </tr>\n",
       "  </tbody>\n",
       "</table>\n",
       "</div>"
      ],
      "text/plain": [
       "              survived  pclass   age  sibsp  parch     fare  alone  sex_male  \\\n",
       "passenger_id                                                                   \n",
       "0                    0       3  22.0      1      0   7.2500      0         1   \n",
       "1                    1       1  38.0      1      0  71.2833      0         0   \n",
       "2                    1       3  26.0      0      0   7.9250      1         0   \n",
       "3                    1       1  35.0      1      0  53.1000      0         0   \n",
       "4                    0       3  35.0      0      0   8.0500      1         1   \n",
       "\n",
       "              embark_town_Queenstown  embark_town_Southampton  \n",
       "passenger_id                                                   \n",
       "0                                  0                        1  \n",
       "1                                  0                        0  \n",
       "2                                  0                        1  \n",
       "3                                  0                        1  \n",
       "4                                  0                        1  "
      ]
     },
     "execution_count": 14,
     "metadata": {},
     "output_type": "execute_result"
    }
   ],
   "source": [
    "df.head()"
   ]
  },
  {
   "cell_type": "code",
   "execution_count": 15,
   "id": "7912b856",
   "metadata": {},
   "outputs": [],
   "source": [
    "# Time to split!\n",
    "train, test = train_test_split(df, test_size=.2, random_state=123, stratify=df.survived)\n",
    "train, validate = train_test_split(train, test_size=.3, random_state=123, stratify=train.survived)"
   ]
  },
  {
   "cell_type": "code",
   "execution_count": 16,
   "id": "bc6dccc0",
   "metadata": {},
   "outputs": [
    {
     "data": {
      "text/plain": [
       "((498, 10), (214, 10), (179, 10))"
      ]
     },
     "execution_count": 16,
     "metadata": {},
     "output_type": "execute_result"
    }
   ],
   "source": [
    "train.shape, validate.shape, test.shape"
   ]
  },
  {
   "cell_type": "code",
   "execution_count": 17,
   "metadata": {},
   "outputs": [],
   "source": [
    "X_train = train.drop(columns=[\"survived\"])\n",
    "y_train = train.survived\n",
    "\n",
    "X_validate = validate.drop(columns=[\"survived\"])\n",
    "y_validate = validate.survived\n",
    "\n",
    "X_test = test.drop(columns=[\"survived\"])\n",
    "y_test = test.survived"
   ]
  },
  {
   "cell_type": "code",
   "execution_count": 18,
   "id": "5f4c804b",
   "metadata": {},
   "outputs": [
    {
     "data": {
      "text/plain": [
       "((498, 9), (214, 9), (179, 9))"
      ]
     },
     "execution_count": 18,
     "metadata": {},
     "output_type": "execute_result"
    }
   ],
   "source": [
    "X_train.shape, X_validate.shape, X_test.shape"
   ]
  },
  {
   "cell_type": "code",
   "execution_count": 19,
   "metadata": {},
   "outputs": [
    {
     "data": {
      "text/html": [
       "<div>\n",
       "<style scoped>\n",
       "    .dataframe tbody tr th:only-of-type {\n",
       "        vertical-align: middle;\n",
       "    }\n",
       "\n",
       "    .dataframe tbody tr th {\n",
       "        vertical-align: top;\n",
       "    }\n",
       "\n",
       "    .dataframe thead th {\n",
       "        text-align: right;\n",
       "    }\n",
       "</style>\n",
       "<table border=\"1\" class=\"dataframe\">\n",
       "  <thead>\n",
       "    <tr style=\"text-align: right;\">\n",
       "      <th></th>\n",
       "      <th>pclass</th>\n",
       "      <th>age</th>\n",
       "      <th>sibsp</th>\n",
       "      <th>parch</th>\n",
       "      <th>fare</th>\n",
       "      <th>alone</th>\n",
       "      <th>sex_male</th>\n",
       "      <th>embark_town_Queenstown</th>\n",
       "      <th>embark_town_Southampton</th>\n",
       "    </tr>\n",
       "    <tr>\n",
       "      <th>passenger_id</th>\n",
       "      <th></th>\n",
       "      <th></th>\n",
       "      <th></th>\n",
       "      <th></th>\n",
       "      <th></th>\n",
       "      <th></th>\n",
       "      <th></th>\n",
       "      <th></th>\n",
       "      <th></th>\n",
       "    </tr>\n",
       "  </thead>\n",
       "  <tbody>\n",
       "    <tr>\n",
       "      <th>583</th>\n",
       "      <td>1</td>\n",
       "      <td>36.0</td>\n",
       "      <td>0</td>\n",
       "      <td>0</td>\n",
       "      <td>40.1250</td>\n",
       "      <td>1</td>\n",
       "      <td>1</td>\n",
       "      <td>0</td>\n",
       "      <td>0</td>\n",
       "    </tr>\n",
       "    <tr>\n",
       "      <th>165</th>\n",
       "      <td>3</td>\n",
       "      <td>9.0</td>\n",
       "      <td>0</td>\n",
       "      <td>2</td>\n",
       "      <td>20.5250</td>\n",
       "      <td>0</td>\n",
       "      <td>1</td>\n",
       "      <td>0</td>\n",
       "      <td>1</td>\n",
       "    </tr>\n",
       "    <tr>\n",
       "      <th>50</th>\n",
       "      <td>3</td>\n",
       "      <td>7.0</td>\n",
       "      <td>4</td>\n",
       "      <td>1</td>\n",
       "      <td>39.6875</td>\n",
       "      <td>0</td>\n",
       "      <td>1</td>\n",
       "      <td>0</td>\n",
       "      <td>1</td>\n",
       "    </tr>\n",
       "    <tr>\n",
       "      <th>259</th>\n",
       "      <td>2</td>\n",
       "      <td>50.0</td>\n",
       "      <td>0</td>\n",
       "      <td>1</td>\n",
       "      <td>26.0000</td>\n",
       "      <td>0</td>\n",
       "      <td>0</td>\n",
       "      <td>0</td>\n",
       "      <td>1</td>\n",
       "    </tr>\n",
       "    <tr>\n",
       "      <th>306</th>\n",
       "      <td>1</td>\n",
       "      <td>28.0</td>\n",
       "      <td>0</td>\n",
       "      <td>0</td>\n",
       "      <td>110.8833</td>\n",
       "      <td>1</td>\n",
       "      <td>0</td>\n",
       "      <td>0</td>\n",
       "      <td>0</td>\n",
       "    </tr>\n",
       "  </tbody>\n",
       "</table>\n",
       "</div>"
      ],
      "text/plain": [
       "              pclass   age  sibsp  parch      fare  alone  sex_male  \\\n",
       "passenger_id                                                          \n",
       "583                1  36.0      0      0   40.1250      1         1   \n",
       "165                3   9.0      0      2   20.5250      0         1   \n",
       "50                 3   7.0      4      1   39.6875      0         1   \n",
       "259                2  50.0      0      1   26.0000      0         0   \n",
       "306                1  28.0      0      0  110.8833      1         0   \n",
       "\n",
       "              embark_town_Queenstown  embark_town_Southampton  \n",
       "passenger_id                                                   \n",
       "583                                0                        0  \n",
       "165                                0                        1  \n",
       "50                                 0                        1  \n",
       "259                                0                        1  \n",
       "306                                0                        0  "
      ]
     },
     "execution_count": 19,
     "metadata": {},
     "output_type": "execute_result"
    }
   ],
   "source": [
    "X_train.head()"
   ]
  },
  {
   "cell_type": "code",
   "execution_count": null,
   "id": "110679c5",
   "metadata": {},
   "outputs": [],
   "source": []
  },
  {
   "cell_type": "code",
   "execution_count": null,
   "id": "697cd03e",
   "metadata": {},
   "outputs": [],
   "source": []
  },
  {
   "cell_type": "markdown",
   "id": "a8051ae9",
   "metadata": {},
   "source": [
    "\n",
    "- Does this model perform better than your baseline?</p>\n",
    "\n"
   ]
  },
  {
   "cell_type": "code",
   "execution_count": 20,
   "id": "bfbec81e",
   "metadata": {},
   "outputs": [
    {
     "name": "stdout",
     "output_type": "stream",
     "text": [
      "Baseline accuracy: 0.62\n"
     ]
    }
   ],
   "source": [
    "# The mode is a great baseline\n",
    "baseline = y_train.mode()\n",
    "\n",
    "# Produce a boolean array with True representing a match between the baseline prediction and reality\n",
    "matches_baseline_prediction = y_train == 0\n",
    "\n",
    "baseline_accuracy = matches_baseline_prediction.mean()\n",
    "print(f\"Baseline accuracy: {round(baseline_accuracy, 2)}\")"
   ]
  },
  {
   "cell_type": "code",
   "execution_count": 23,
   "id": "80f8598e",
   "metadata": {},
   "outputs": [],
   "source": [
    "import math\n",
    "from sklearn.model_selection import train_test_split\n",
    "from sklearn.linear_model import LogisticRegression\n",
    "from sklearn.metrics import classification_report\n",
    "from sklearn.metrics import confusion_matrix\n",
    "# import logistic_regression_util"
   ]
  },
  {
   "cell_type": "code",
   "execution_count": 24,
   "id": "a56939cf",
   "metadata": {},
   "outputs": [],
   "source": [
    "# Define the logistic regression model\n",
    "logit = LogisticRegression(C=1, random_state=123)"
   ]
  },
  {
   "cell_type": "code",
   "execution_count": 25,
   "id": "b3e7304b",
   "metadata": {},
   "outputs": [
    {
     "data": {
      "text/plain": [
       "LogisticRegression(C=1, random_state=123)"
      ]
     },
     "execution_count": 25,
     "metadata": {},
     "output_type": "execute_result"
    }
   ],
   "source": [
    "#  fit the model on train data\n",
    "logit.fit(X_train, y_train)"
   ]
  },
  {
   "cell_type": "code",
   "execution_count": 26,
   "id": "d205c22e",
   "metadata": {},
   "outputs": [],
   "source": [
    "# now use the model to make predictions\n",
    "y_pred = logit.predict(X_train)"
   ]
  },
  {
   "cell_type": "code",
   "execution_count": 27,
   "id": "18de5f18",
   "metadata": {},
   "outputs": [
    {
     "data": {
      "text/plain": [
       "array([0, 0, 0, 1, 1, 0, 0, 0, 0, 0, 1, 0, 1, 0, 0, 0, 0, 1, 0, 1, 1, 0,\n",
       "       1, 1, 0, 0, 1, 1, 0, 0, 0, 0, 0, 0, 1, 0, 0, 1, 0, 1, 0, 0, 1, 1,\n",
       "       0, 0, 0, 0, 1, 0, 0, 0, 1, 1, 0, 1, 0, 1, 0, 0, 0, 0, 0, 0, 0, 0,\n",
       "       0, 0, 0, 1, 0, 0, 1, 0, 0, 0, 0, 0, 0, 0, 0, 1, 0, 0, 0, 0, 1, 1,\n",
       "       1, 0, 0, 0, 1, 1, 0, 0, 1, 0, 0, 1, 0, 1, 1, 0, 1, 1, 0, 0, 0, 0,\n",
       "       0, 0, 0, 0, 1, 1, 0, 0, 1, 1, 0, 0, 0, 0, 0, 1, 1, 0, 1, 1, 1, 0,\n",
       "       0, 1, 0, 0, 0, 0, 0, 0, 1, 1, 0, 0, 0, 0, 1, 1, 1, 1, 0, 1, 1, 0,\n",
       "       1, 0, 0, 0, 1, 0, 0, 1, 0, 1, 0, 0, 0, 0, 0, 0, 0, 1, 1, 0, 0, 0,\n",
       "       1, 0, 0, 0, 0, 0, 0, 1, 0, 1, 0, 1, 1, 1, 0, 1, 0, 0, 1, 1, 0, 0,\n",
       "       0, 0, 0, 1, 1, 0, 0, 0, 0, 0, 0, 1, 1, 0, 0, 1, 1, 0, 0, 0, 1, 0,\n",
       "       1, 0, 0, 1, 0, 0, 1, 0, 0, 0, 0, 0, 0, 0, 0, 1, 1, 0, 0, 0, 0, 1,\n",
       "       1, 0, 1, 0, 1, 0, 0, 1, 0, 0, 0, 0, 0, 1, 1, 1, 1, 1, 0, 0, 1, 1,\n",
       "       0, 0, 0, 0, 0, 1, 0, 1, 0, 1, 0, 0, 0, 0, 0, 0, 0, 1, 1, 1, 0, 0,\n",
       "       1, 0, 0, 0, 0, 0, 0, 0, 1, 0, 0, 0, 0, 0, 0, 0, 0, 1, 0, 0, 1, 0,\n",
       "       0, 1, 0, 0, 0, 1, 0, 1, 0, 1, 0, 0, 0, 0, 1, 0, 0, 0, 0, 0, 0, 1,\n",
       "       0, 0, 1, 1, 0, 1, 0, 1, 0, 0, 0, 1, 1, 0, 0, 1, 0, 0, 0, 0, 1, 0,\n",
       "       0, 1, 1, 1, 1, 0, 1, 1, 1, 0, 1, 0, 0, 1, 0, 0, 0, 0, 0, 0, 1, 0,\n",
       "       1, 1, 1, 1, 1, 0, 0, 1, 1, 0, 0, 1, 0, 1, 0, 0, 0, 0, 0, 1, 0, 1,\n",
       "       1, 0, 0, 1, 0, 1, 0, 0, 0, 0, 0, 0, 0, 1, 0, 0, 0, 0, 1, 1, 1, 1,\n",
       "       1, 0, 0, 0, 0, 1, 0, 1, 1, 1, 0, 1, 0, 0, 0, 0, 1, 0, 1, 0, 1, 0,\n",
       "       0, 0, 0, 0, 0, 1, 0, 0, 0, 0, 1, 1, 0, 0, 1, 0, 0, 0, 0, 0, 0, 0,\n",
       "       1, 0, 1, 1, 1, 0, 0, 0, 1, 0, 0, 0, 0, 0, 1, 0, 0, 0, 1, 1, 1, 1,\n",
       "       0, 0, 0, 1, 0, 1, 1, 0, 1, 0, 0, 0, 0, 0])"
      ]
     },
     "execution_count": 27,
     "metadata": {},
     "output_type": "execute_result"
    }
   ],
   "source": [
    "#take a look at predictions\n",
    "y_pred"
   ]
  },
  {
   "cell_type": "code",
   "execution_count": 28,
   "id": "af34752b",
   "metadata": {},
   "outputs": [
    {
     "data": {
      "text/plain": [
       "array([[0.60085593, 0.39914407],\n",
       "       [0.77901489, 0.22098511],\n",
       "       [0.96484843, 0.03515157],\n",
       "       [0.2077235 , 0.7922765 ],\n",
       "       [0.07453754, 0.92546246],\n",
       "       [0.75554607, 0.24445393],\n",
       "       [0.8455829 , 0.1544171 ],\n",
       "       [0.76697833, 0.23302167],\n",
       "       [0.85595435, 0.14404565],\n",
       "       [0.97868296, 0.02131704],\n",
       "       [0.41979876, 0.58020124],\n",
       "       [0.76457655, 0.23542345],\n",
       "       [0.1592107 , 0.8407893 ],\n",
       "       [0.66067704, 0.33932296],\n",
       "       [0.81594889, 0.18405111],\n",
       "       [0.95046206, 0.04953794],\n",
       "       [0.91309681, 0.08690319],\n",
       "       [0.28201675, 0.71798325],\n",
       "       [0.80319758, 0.19680242],\n",
       "       [0.33493918, 0.66506082],\n",
       "       [0.30391108, 0.69608892],\n",
       "       [0.91307459, 0.08692541],\n",
       "       [0.04581443, 0.95418557],\n",
       "       [0.04483562, 0.95516438],\n",
       "       [0.65624763, 0.34375237],\n",
       "       [0.89796211, 0.10203789],\n",
       "       [0.1044393 , 0.8955607 ],\n",
       "       [0.13902794, 0.86097206],\n",
       "       [0.51095276, 0.48904724],\n",
       "       [0.76105119, 0.23894881],\n",
       "       [0.89459655, 0.10540345],\n",
       "       [0.92671818, 0.07328182],\n",
       "       [0.89467053, 0.10532947],\n",
       "       [0.92710585, 0.07289415],\n",
       "       [0.17899344, 0.82100656],\n",
       "       [0.70527297, 0.29472703],\n",
       "       [0.88533833, 0.11466167],\n",
       "       [0.06386481, 0.93613519],\n",
       "       [0.88800321, 0.11199679],\n",
       "       [0.31566696, 0.68433304],\n",
       "       [0.90419802, 0.09580198],\n",
       "       [0.87669205, 0.12330795],\n",
       "       [0.42494016, 0.57505984],\n",
       "       [0.15987924, 0.84012076],\n",
       "       [0.51224388, 0.48775612],\n",
       "       [0.93320575, 0.06679425],\n",
       "       [0.85595435, 0.14404565],\n",
       "       [0.88059625, 0.11940375],\n",
       "       [0.28199011, 0.71800989],\n",
       "       [0.88501707, 0.11498293],\n",
       "       [0.92620256, 0.07379744],\n",
       "       [0.73384531, 0.26615469],\n",
       "       [0.09390521, 0.90609479],\n",
       "       [0.06161984, 0.93838016],\n",
       "       [0.89127577, 0.10872423],\n",
       "       [0.36151617, 0.63848383],\n",
       "       [0.90108545, 0.09891455],\n",
       "       [0.21243703, 0.78756297],\n",
       "       [0.70612969, 0.29387031],\n",
       "       [0.88780138, 0.11219862],\n",
       "       [0.78957277, 0.21042723],\n",
       "       [0.76506216, 0.23493784],\n",
       "       [0.91828544, 0.08171456],\n",
       "       [0.87794813, 0.12205187],\n",
       "       [0.92114677, 0.07885323],\n",
       "       [0.85595435, 0.14404565],\n",
       "       [0.8942802 , 0.1057198 ],\n",
       "       [0.95638245, 0.04361755],\n",
       "       [0.89595337, 0.10404663],\n",
       "       [0.3216712 , 0.6783288 ],\n",
       "       [0.92789436, 0.07210564],\n",
       "       [0.91308435, 0.08691565],\n",
       "       [0.21201147, 0.78798853],\n",
       "       [0.51112579, 0.48887421],\n",
       "       [0.85595435, 0.14404565],\n",
       "       [0.54584706, 0.45415294],\n",
       "       [0.88420301, 0.11579699],\n",
       "       [0.74793115, 0.25206885],\n",
       "       [0.88053735, 0.11946265],\n",
       "       [0.96573412, 0.03426588],\n",
       "       [0.78768269, 0.21231731],\n",
       "       [0.07234254, 0.92765746],\n",
       "       [0.9285466 , 0.0714534 ],\n",
       "       [0.76743296, 0.23256704],\n",
       "       [0.88054226, 0.11945774],\n",
       "       [0.89813931, 0.10186069],\n",
       "       [0.08222249, 0.91777751],\n",
       "       [0.1635097 , 0.8364903 ],\n",
       "       [0.20485837, 0.79514163],\n",
       "       [0.74793115, 0.25206885],\n",
       "       [0.93743163, 0.06256837],\n",
       "       [0.85595435, 0.14404565],\n",
       "       [0.2681657 , 0.7318343 ],\n",
       "       [0.05966457, 0.94033543],\n",
       "       [0.77983673, 0.22016327],\n",
       "       [0.9130564 , 0.0869436 ],\n",
       "       [0.1156313 , 0.8843687 ],\n",
       "       [0.76453166, 0.23546834],\n",
       "       [0.53124118, 0.46875882],\n",
       "       [0.1180913 , 0.8819087 ],\n",
       "       [0.889493  , 0.110507  ],\n",
       "       [0.45832776, 0.54167224],\n",
       "       [0.4312242 , 0.5687758 ],\n",
       "       [0.87686118, 0.12313882],\n",
       "       [0.03463419, 0.96536581],\n",
       "       [0.06398447, 0.93601553],\n",
       "       [0.90624517, 0.09375483],\n",
       "       [0.54959036, 0.45040964],\n",
       "       [0.91303215, 0.08696785],\n",
       "       [0.88422863, 0.11577137],\n",
       "       [0.57251905, 0.42748095],\n",
       "       [0.6318323 , 0.3681677 ],\n",
       "       [0.73253526, 0.26746474],\n",
       "       [0.89804102, 0.10195898],\n",
       "       [0.48892838, 0.51107162],\n",
       "       [0.14625362, 0.85374638],\n",
       "       [0.99856248, 0.00143752],\n",
       "       [0.90729519, 0.09270481],\n",
       "       [0.16867571, 0.83132429],\n",
       "       [0.10117479, 0.89882521],\n",
       "       [0.52498764, 0.47501236],\n",
       "       [0.94498945, 0.05501055],\n",
       "       [0.54145182, 0.45854818],\n",
       "       [0.66494518, 0.33505482],\n",
       "       [0.57034572, 0.42965428],\n",
       "       [0.13398647, 0.86601353],\n",
       "       [0.16109615, 0.83890385],\n",
       "       [0.71161499, 0.28838501],\n",
       "       [0.4359188 , 0.5640812 ],\n",
       "       [0.46627613, 0.53372387],\n",
       "       [0.28201675, 0.71798325],\n",
       "       [0.89128851, 0.10871149],\n",
       "       [0.69729579, 0.30270421],\n",
       "       [0.13843126, 0.86156874],\n",
       "       [0.76846404, 0.23153596],\n",
       "       [0.89460855, 0.10539145],\n",
       "       [0.82260841, 0.17739159],\n",
       "       [0.91309681, 0.08690319],\n",
       "       [0.74580847, 0.25419153],\n",
       "       [0.58749294, 0.41250706],\n",
       "       [0.19133095, 0.80866905],\n",
       "       [0.47988734, 0.52011266],\n",
       "       [0.54366341, 0.45633659],\n",
       "       [0.86856737, 0.13143263],\n",
       "       [0.68905895, 0.31094105],\n",
       "       [0.51111177, 0.48888823],\n",
       "       [0.08166137, 0.91833863],\n",
       "       [0.36276214, 0.63723786],\n",
       "       [0.10304818, 0.89695182],\n",
       "       [0.03820527, 0.96179473],\n",
       "       [0.76506216, 0.23493784],\n",
       "       [0.18205864, 0.81794136],\n",
       "       [0.11538025, 0.88461975],\n",
       "       [0.88796819, 0.11203181],\n",
       "       [0.40215356, 0.59784644],\n",
       "       [0.91137427, 0.08862573],\n",
       "       [0.93307128, 0.06692872],\n",
       "       [0.88794033, 0.11205967],\n",
       "       [0.2420253 , 0.7579747 ],\n",
       "       [0.9504105 , 0.0495895 ],\n",
       "       [0.84001348, 0.15998652],\n",
       "       [0.17904582, 0.82095418],\n",
       "       [0.83156274, 0.16843726],\n",
       "       [0.2098346 , 0.7901654 ],\n",
       "       [0.92844153, 0.07155847],\n",
       "       [0.93067879, 0.06932121],\n",
       "       [0.98428235, 0.01571765],\n",
       "       [0.90729448, 0.09270552],\n",
       "       [0.68612248, 0.31387752],\n",
       "       [0.94876743, 0.05123257],\n",
       "       [0.90824918, 0.09175082],\n",
       "       [0.12961928, 0.87038072],\n",
       "       [0.2420253 , 0.7579747 ],\n",
       "       [0.85800098, 0.14199902],\n",
       "       [0.7320114 , 0.2679886 ],\n",
       "       [0.78902553, 0.21097447],\n",
       "       [0.03158078, 0.96841922],\n",
       "       [0.9233982 , 0.0766018 ],\n",
       "       [0.95373024, 0.04626976],\n",
       "       [0.70248189, 0.29751811],\n",
       "       [0.90130757, 0.09869243],\n",
       "       [0.91308435, 0.08691565],\n",
       "       [0.89468533, 0.10531467],\n",
       "       [0.06821115, 0.93178885],\n",
       "       [0.88422863, 0.11577137],\n",
       "       [0.28198754, 0.71801246],\n",
       "       [0.76344994, 0.23655006],\n",
       "       [0.14711917, 0.85288083],\n",
       "       [0.21587945, 0.78412055],\n",
       "       [0.39276773, 0.60723227],\n",
       "       [0.77960154, 0.22039846],\n",
       "       [0.1180449 , 0.8819551 ],\n",
       "       [0.91855619, 0.08144381],\n",
       "       [0.73434218, 0.26565782],\n",
       "       [0.10736272, 0.89263728],\n",
       "       [0.20429442, 0.79570558],\n",
       "       [0.82447888, 0.17552112],\n",
       "       [0.88397426, 0.11602574],\n",
       "       [0.89127371, 0.10872629],\n",
       "       [0.91321389, 0.08678611],\n",
       "       [0.99856248, 0.00143752],\n",
       "       [0.20650689, 0.79349311],\n",
       "       [0.19465128, 0.80534872],\n",
       "       [0.50435527, 0.49564473],\n",
       "       [0.9243897 , 0.0756103 ],\n",
       "       [0.93086134, 0.06913866],\n",
       "       [0.67469747, 0.32530253],\n",
       "       [0.60077288, 0.39922712],\n",
       "       [0.91309681, 0.08690319],\n",
       "       [0.15382972, 0.84617028],\n",
       "       [0.36774924, 0.63225076],\n",
       "       [0.91308435, 0.08691565],\n",
       "       [0.9182345 , 0.0817655 ],\n",
       "       [0.32887411, 0.67112589],\n",
       "       [0.07953556, 0.92046444],\n",
       "       [0.58118977, 0.41881023],\n",
       "       [0.88054003, 0.11945997],\n",
       "       [0.87255848, 0.12744152],\n",
       "       [0.22643038, 0.77356962],\n",
       "       [0.93079579, 0.06920421],\n",
       "       [0.32700825, 0.67299175],\n",
       "       [0.91309681, 0.08690319],\n",
       "       [0.9236902 , 0.0763098 ],\n",
       "       [0.08060932, 0.91939068],\n",
       "       [0.93388946, 0.06611054],\n",
       "       [0.94524467, 0.05475533],\n",
       "       [0.47645911, 0.52354089],\n",
       "       [0.91015519, 0.08984481],\n",
       "       [0.87307973, 0.12692027],\n",
       "       [0.91693202, 0.08306798],\n",
       "       [0.79741908, 0.20258092],\n",
       "       [0.89466094, 0.10533906],\n",
       "       [0.88422863, 0.11577137],\n",
       "       [0.91513068, 0.08486932],\n",
       "       [0.91321389, 0.08678611],\n",
       "       [0.27979338, 0.72020662],\n",
       "       [0.28305899, 0.71694101],\n",
       "       [0.91828544, 0.08171456],\n",
       "       [0.8129005 , 0.1870995 ],\n",
       "       [0.56486965, 0.43513035],\n",
       "       [0.91855619, 0.08144381],\n",
       "       [0.40983416, 0.59016584],\n",
       "       [0.14512991, 0.85487009],\n",
       "       [0.78585796, 0.21414204],\n",
       "       [0.04799275, 0.95200725],\n",
       "       [0.95428195, 0.04571805],\n",
       "       [0.10011928, 0.89988072],\n",
       "       [0.91823418, 0.08176582],\n",
       "       [0.91310186, 0.08689814],\n",
       "       [0.24628911, 0.75371089],\n",
       "       [0.92372369, 0.07627631],\n",
       "       [0.76936862, 0.23063138],\n",
       "       [0.90274227, 0.09725773],\n",
       "       [0.5869592 , 0.4130408 ],\n",
       "       [0.910406  , 0.089594  ],\n",
       "       [0.42042941, 0.57957059],\n",
       "       [0.28196521, 0.71803479],\n",
       "       [0.04883092, 0.95116908],\n",
       "       [0.06753542, 0.93246458],\n",
       "       [0.4294735 , 0.5705265 ],\n",
       "       [0.8141558 , 0.1858442 ],\n",
       "       [0.90421566, 0.09578434],\n",
       "       [0.28199011, 0.71800989],\n",
       "       [0.09894684, 0.90105316],\n",
       "       [0.94876743, 0.05123257],\n",
       "       [0.85224753, 0.14775247],\n",
       "       [0.556248  , 0.443752  ],\n",
       "       [0.8645565 , 0.1354435 ],\n",
       "       [0.91303721, 0.08696279],\n",
       "       [0.40260292, 0.59739708],\n",
       "       [0.92456038, 0.07543962],\n",
       "       [0.39813609, 0.60186391],\n",
       "       [0.93738582, 0.06261418],\n",
       "       [0.10269147, 0.89730853],\n",
       "       [0.97868296, 0.02131704],\n",
       "       [0.93744432, 0.06255568],\n",
       "       [0.89463455, 0.10536545],\n",
       "       [0.91309681, 0.08690319],\n",
       "       [0.91309681, 0.08690319],\n",
       "       [0.89130084, 0.10869916],\n",
       "       [0.89130084, 0.10869916],\n",
       "       [0.06279565, 0.93720435],\n",
       "       [0.23459212, 0.76540788],\n",
       "       [0.28199011, 0.71800989],\n",
       "       [0.91361652, 0.08638348],\n",
       "       [0.52822807, 0.47177193],\n",
       "       [0.12841956, 0.87158044],\n",
       "       [0.71065919, 0.28934081],\n",
       "       [0.77639967, 0.22360033],\n",
       "       [0.91023183, 0.08976817],\n",
       "       [0.88425599, 0.11574401],\n",
       "       [0.89360099, 0.10639901],\n",
       "       [0.91309681, 0.08690319],\n",
       "       [0.93309671, 0.06690329],\n",
       "       [0.31859921, 0.68140079],\n",
       "       [0.51338859, 0.48661141],\n",
       "       [0.69807169, 0.30192831],\n",
       "       [0.87304777, 0.12695223],\n",
       "       [0.84135968, 0.15864032],\n",
       "       [0.77192861, 0.22807139],\n",
       "       [0.91029559, 0.08970441],\n",
       "       [0.90419802, 0.09580198],\n",
       "       [0.94693625, 0.05306375],\n",
       "       [0.28199011, 0.71800989],\n",
       "       [0.90117616, 0.09882384],\n",
       "       [0.738126  , 0.261874  ],\n",
       "       [0.12265082, 0.87734918],\n",
       "       [0.91308435, 0.08691565],\n",
       "       [0.69839349, 0.30160651],\n",
       "       [0.22212256, 0.77787744],\n",
       "       [0.74119471, 0.25880529],\n",
       "       [0.93172513, 0.06827487],\n",
       "       [0.96399723, 0.03600277],\n",
       "       [0.28198667, 0.71801333],\n",
       "       [0.64256269, 0.35743731],\n",
       "       [0.37621812, 0.62378188],\n",
       "       [0.91308435, 0.08691565],\n",
       "       [0.03726733, 0.96273267],\n",
       "       [0.63214432, 0.36785568],\n",
       "       [0.93506476, 0.06493524],\n",
       "       [0.68024626, 0.31975374],\n",
       "       [0.91321389, 0.08678611],\n",
       "       [0.02430192, 0.97569808],\n",
       "       [0.52898287, 0.47101713],\n",
       "       [0.90079324, 0.09920676],\n",
       "       [0.63735586, 0.36264414],\n",
       "       [0.5318346 , 0.4681654 ],\n",
       "       [0.75655918, 0.24344082],\n",
       "       [0.56389432, 0.43610568],\n",
       "       [0.26368026, 0.73631974],\n",
       "       [0.95955132, 0.04044868],\n",
       "       [0.56853586, 0.43146414],\n",
       "       [0.28199011, 0.71800989],\n",
       "       [0.46415955, 0.53584045],\n",
       "       [0.58708856, 0.41291144],\n",
       "       [0.28201675, 0.71798325],\n",
       "       [0.94270505, 0.05729495],\n",
       "       [0.26799855, 0.73200145],\n",
       "       [0.74070612, 0.25929388],\n",
       "       [0.86026685, 0.13973315],\n",
       "       [0.77939939, 0.22060061],\n",
       "       [0.16359213, 0.83640787],\n",
       "       [0.24101201, 0.75898799],\n",
       "       [0.51338859, 0.48661141],\n",
       "       [0.5918539 , 0.4081461 ],\n",
       "       [0.42602184, 0.57397816],\n",
       "       [0.52822807, 0.47177193],\n",
       "       [0.51707608, 0.48292392],\n",
       "       [0.70285874, 0.29714126],\n",
       "       [0.77708842, 0.22291158],\n",
       "       [0.04424183, 0.95575817],\n",
       "       [0.83797102, 0.16202898],\n",
       "       [0.90357441, 0.09642559],\n",
       "       [0.15741113, 0.84258887],\n",
       "       [0.24794334, 0.75205666],\n",
       "       [0.06357583, 0.93642417],\n",
       "       [0.13632748, 0.86367252],\n",
       "       [0.92731621, 0.07268379],\n",
       "       [0.3762191 , 0.6237809 ],\n",
       "       [0.47440105, 0.52559895],\n",
       "       [0.40979619, 0.59020381],\n",
       "       [0.6782292 , 0.3217708 ],\n",
       "       [0.21981738, 0.78018262],\n",
       "       [0.87211679, 0.12788321],\n",
       "       [0.85595122, 0.14404878],\n",
       "       [0.40771674, 0.59228326],\n",
       "       [0.80319758, 0.19680242],\n",
       "       [0.93259308, 0.06740692],\n",
       "       [0.95832139, 0.04167861],\n",
       "       [0.5059404 , 0.4940596 ],\n",
       "       [0.73434218, 0.26565782],\n",
       "       [0.8423495 , 0.1576505 ],\n",
       "       [0.35137347, 0.64862653],\n",
       "       [0.64699448, 0.35300552],\n",
       "       [0.32751887, 0.67248113],\n",
       "       [0.32758149, 0.67241851],\n",
       "       [0.16291767, 0.83708233],\n",
       "       [0.14616664, 0.85383336],\n",
       "       [0.11445572, 0.88554428],\n",
       "       [0.66402909, 0.33597091],\n",
       "       [0.54711506, 0.45288494],\n",
       "       [0.09039282, 0.90960718],\n",
       "       [0.3216712 , 0.6783288 ],\n",
       "       [0.89127618, 0.10872382],\n",
       "       [0.62302444, 0.37697556],\n",
       "       [0.28199784, 0.71800216],\n",
       "       [0.9182345 , 0.0817655 ],\n",
       "       [0.36766047, 0.63233953],\n",
       "       [0.61332844, 0.38667156],\n",
       "       [0.75407857, 0.24592143],\n",
       "       [0.9195544 , 0.0804456 ],\n",
       "       [0.76743296, 0.23256704],\n",
       "       [0.70805529, 0.29194471],\n",
       "       [0.1591574 , 0.8408426 ],\n",
       "       [0.66918305, 0.33081695],\n",
       "       [0.38433346, 0.61566654],\n",
       "       [0.14006976, 0.85993024],\n",
       "       [0.93733526, 0.06266474],\n",
       "       [0.90544129, 0.09455871],\n",
       "       [0.41252119, 0.58747881],\n",
       "       [0.88771979, 0.11228021],\n",
       "       [0.13633237, 0.86366763],\n",
       "       [0.89521016, 0.10478984],\n",
       "       [0.62003332, 0.37996668],\n",
       "       [0.80834255, 0.19165745],\n",
       "       [0.91866657, 0.08133343],\n",
       "       [0.76752381, 0.23247619],\n",
       "       [0.88756613, 0.11243387],\n",
       "       [0.79619885, 0.20380115],\n",
       "       [0.34475289, 0.65524711],\n",
       "       [0.79495286, 0.20504714],\n",
       "       [0.85584237, 0.14415763],\n",
       "       [0.91895009, 0.08104991],\n",
       "       [0.81188066, 0.18811934],\n",
       "       [0.0597457 , 0.9402543 ],\n",
       "       [0.18969658, 0.81030342],\n",
       "       [0.06828931, 0.93171069],\n",
       "       [0.40971104, 0.59028896],\n",
       "       [0.03747948, 0.96252052],\n",
       "       [0.6737216 , 0.3262784 ],\n",
       "       [0.86874131, 0.13125869],\n",
       "       [0.91849524, 0.08150476],\n",
       "       [0.76506216, 0.23493784],\n",
       "       [0.06562573, 0.93437427],\n",
       "       [0.89523404, 0.10476596],\n",
       "       [0.25068358, 0.74931642],\n",
       "       [0.42722438, 0.57277562],\n",
       "       [0.23282243, 0.76717757],\n",
       "       [0.89795822, 0.10204178],\n",
       "       [0.26869423, 0.73130577],\n",
       "       [0.91308435, 0.08691565],\n",
       "       [0.94205071, 0.05794929],\n",
       "       [0.89475169, 0.10524831],\n",
       "       [0.93577738, 0.06422262],\n",
       "       [0.19864192, 0.80135808],\n",
       "       [0.84419403, 0.15580597],\n",
       "       [0.28207   , 0.71793   ],\n",
       "       [0.87686118, 0.12313882],\n",
       "       [0.12961506, 0.87038494],\n",
       "       [0.87291604, 0.12708396],\n",
       "       [0.91308435, 0.08691565],\n",
       "       [0.55902496, 0.44097504],\n",
       "       [0.93943459, 0.06056541],\n",
       "       [0.82970062, 0.17029938],\n",
       "       [0.91303215, 0.08696785],\n",
       "       [0.32804517, 0.67195483],\n",
       "       [0.95316105, 0.04683895],\n",
       "       [0.99856248, 0.00143752],\n",
       "       [0.56403331, 0.43596669],\n",
       "       [0.91878543, 0.08121457],\n",
       "       [0.4554134 , 0.5445866 ],\n",
       "       [0.0756423 , 0.9243577 ],\n",
       "       [0.91823418, 0.08176582],\n",
       "       [0.81077567, 0.18922433],\n",
       "       [0.30376764, 0.69623236],\n",
       "       [0.51111177, 0.48888823],\n",
       "       [0.94088373, 0.05911627],\n",
       "       [0.57846386, 0.42153614],\n",
       "       [0.91834782, 0.08165218],\n",
       "       [0.73434218, 0.26565782],\n",
       "       [0.96872938, 0.03127062],\n",
       "       [0.98167776, 0.01832224],\n",
       "       [0.17904582, 0.82095418],\n",
       "       [0.69656055, 0.30343945],\n",
       "       [0.46181657, 0.53818343],\n",
       "       [0.05173255, 0.94826745],\n",
       "       [0.34893217, 0.65106783],\n",
       "       [0.8920924 , 0.1079076 ],\n",
       "       [0.69732803, 0.30267197],\n",
       "       [0.91308099, 0.08691901],\n",
       "       [0.20368346, 0.79631654],\n",
       "       [0.87256352, 0.12743648],\n",
       "       [0.77213992, 0.22786008],\n",
       "       [0.91307627, 0.08692373],\n",
       "       [0.8559643 , 0.1440357 ],\n",
       "       [0.9182345 , 0.0817655 ],\n",
       "       [0.28492648, 0.71507352],\n",
       "       [0.95688341, 0.04311659],\n",
       "       [0.50259491, 0.49740509],\n",
       "       [0.90729519, 0.09270481],\n",
       "       [0.34611267, 0.65388733],\n",
       "       [0.05264449, 0.94735551],\n",
       "       [0.45514746, 0.54485254],\n",
       "       [0.32754051, 0.67245949],\n",
       "       [0.9285466 , 0.0714534 ],\n",
       "       [0.56989992, 0.43010008],\n",
       "       [0.92368722, 0.07631278],\n",
       "       [0.35939445, 0.64060555],\n",
       "       [0.91309681, 0.08690319],\n",
       "       [0.36092724, 0.63907276],\n",
       "       [0.10960396, 0.89039604],\n",
       "       [0.88539   , 0.11461   ],\n",
       "       [0.32754051, 0.67245949],\n",
       "       [0.91308435, 0.08691565],\n",
       "       [0.9236923 , 0.0763077 ],\n",
       "       [0.95956318, 0.04043682],\n",
       "       [0.68024626, 0.31975374],\n",
       "       [0.92115786, 0.07884214]])"
      ]
     },
     "execution_count": 28,
     "metadata": {},
     "output_type": "execute_result"
    }
   ],
   "source": [
    "logit.predict_proba(X_train)"
   ]
  },
  {
   "cell_type": "code",
   "execution_count": 29,
   "id": "d125c17f",
   "metadata": {},
   "outputs": [
    {
     "data": {
      "text/plain": [
       "array([0, 1])"
      ]
     },
     "execution_count": 29,
     "metadata": {},
     "output_type": "execute_result"
    }
   ],
   "source": [
    "logit.classes_"
   ]
  },
  {
   "cell_type": "code",
   "execution_count": 30,
   "id": "638cc42b",
   "metadata": {},
   "outputs": [
    {
     "data": {
      "text/html": [
       "<div>\n",
       "<style scoped>\n",
       "    .dataframe tbody tr th:only-of-type {\n",
       "        vertical-align: middle;\n",
       "    }\n",
       "\n",
       "    .dataframe tbody tr th {\n",
       "        vertical-align: top;\n",
       "    }\n",
       "\n",
       "    .dataframe thead th {\n",
       "        text-align: right;\n",
       "    }\n",
       "</style>\n",
       "<table border=\"1\" class=\"dataframe\">\n",
       "  <thead>\n",
       "    <tr style=\"text-align: right;\">\n",
       "      <th></th>\n",
       "      <th>non-virginica</th>\n",
       "      <th>virginica</th>\n",
       "    </tr>\n",
       "  </thead>\n",
       "  <tbody>\n",
       "    <tr>\n",
       "      <th>0</th>\n",
       "      <td>0.600856</td>\n",
       "      <td>0.399144</td>\n",
       "    </tr>\n",
       "    <tr>\n",
       "      <th>1</th>\n",
       "      <td>0.779015</td>\n",
       "      <td>0.220985</td>\n",
       "    </tr>\n",
       "    <tr>\n",
       "      <th>2</th>\n",
       "      <td>0.964848</td>\n",
       "      <td>0.035152</td>\n",
       "    </tr>\n",
       "    <tr>\n",
       "      <th>3</th>\n",
       "      <td>0.207724</td>\n",
       "      <td>0.792276</td>\n",
       "    </tr>\n",
       "    <tr>\n",
       "      <th>4</th>\n",
       "      <td>0.074538</td>\n",
       "      <td>0.925462</td>\n",
       "    </tr>\n",
       "  </tbody>\n",
       "</table>\n",
       "</div>"
      ],
      "text/plain": [
       "   non-virginica  virginica\n",
       "0       0.600856   0.399144\n",
       "1       0.779015   0.220985\n",
       "2       0.964848   0.035152\n",
       "3       0.207724   0.792276\n",
       "4       0.074538   0.925462"
      ]
     },
     "execution_count": 30,
     "metadata": {},
     "output_type": "execute_result"
    }
   ],
   "source": [
    "# View raw probabilities (output from the model)\n",
    "\n",
    "y_pred_proba = logit.predict_proba(X_train)\n",
    "y_pred_proba = pd.DataFrame(y_pred_proba, columns = ['non-virginica', 'virginica'])\n",
    "y_pred_proba.head()"
   ]
  },
  {
   "cell_type": "code",
   "execution_count": 31,
   "id": "ca91e90f",
   "metadata": {},
   "outputs": [
    {
     "name": "stdout",
     "output_type": "stream",
     "text": [
      "              precision    recall  f1-score   support\n",
      "\n",
      "           0       0.83      0.88      0.86       307\n",
      "           1       0.79      0.71      0.75       191\n",
      "\n",
      "    accuracy                           0.82       498\n",
      "   macro avg       0.81      0.80      0.80       498\n",
      "weighted avg       0.82      0.82      0.82       498\n",
      "\n"
     ]
    }
   ],
   "source": [
    "# classification report\n",
    "print(classification_report(y_train, y_pred))"
   ]
  },
  {
   "cell_type": "code",
   "execution_count": null,
   "id": "679db6f1",
   "metadata": {},
   "outputs": [],
   "source": []
  },
  {
   "cell_type": "code",
   "execution_count": null,
   "id": "591e752c",
   "metadata": {},
   "outputs": [],
   "source": []
  },
  {
   "cell_type": "code",
   "execution_count": null,
   "metadata": {},
   "outputs": [],
   "source": []
  },
  {
   "cell_type": "code",
   "execution_count": null,
   "id": "42770494",
   "metadata": {},
   "outputs": [],
   "source": []
  },
  {
   "cell_type": "code",
   "execution_count": null,
   "metadata": {},
   "outputs": [],
   "source": []
  },
  {
   "cell_type": "markdown",
   "id": "000e581c",
   "metadata": {},
   "source": [
    "2. <p>Include sex in your model as well. Note that you'll need to encode or create a dummy variable of this\n",
    "   feature before including it in a model.</p>\n"
   ]
  },
  {
   "cell_type": "code",
   "execution_count": null,
   "id": "66428f46",
   "metadata": {},
   "outputs": [],
   "source": []
  },
  {
   "cell_type": "code",
   "execution_count": null,
   "id": "2e88716b",
   "metadata": {},
   "outputs": [],
   "source": []
  },
  {
   "cell_type": "code",
   "execution_count": null,
   "id": "34561332",
   "metadata": {},
   "outputs": [],
   "source": []
  },
  {
   "cell_type": "code",
   "execution_count": null,
   "id": "317087ee",
   "metadata": {},
   "outputs": [],
   "source": []
  },
  {
   "cell_type": "code",
   "execution_count": null,
   "id": "0dbf7787",
   "metadata": {},
   "outputs": [],
   "source": []
  },
  {
   "cell_type": "code",
   "execution_count": null,
   "id": "2430dbe1",
   "metadata": {},
   "outputs": [],
   "source": []
  },
  {
   "cell_type": "code",
   "execution_count": null,
   "id": "0786645e",
   "metadata": {},
   "outputs": [],
   "source": []
  },
  {
   "cell_type": "code",
   "execution_count": null,
   "id": "b4531006",
   "metadata": {},
   "outputs": [],
   "source": []
  },
  {
   "cell_type": "markdown",
   "id": "d9502f1e",
   "metadata": {},
   "source": [
    "3. <p>Try out other combinations of features and models.</p>\n",
    "\n"
   ]
  },
  {
   "cell_type": "code",
   "execution_count": null,
   "id": "eed68a21",
   "metadata": {},
   "outputs": [],
   "source": []
  },
  {
   "cell_type": "code",
   "execution_count": null,
   "id": "a6927266",
   "metadata": {},
   "outputs": [],
   "source": []
  },
  {
   "cell_type": "code",
   "execution_count": null,
   "id": "4e6f5791",
   "metadata": {},
   "outputs": [],
   "source": []
  },
  {
   "cell_type": "code",
   "execution_count": null,
   "id": "0493a206",
   "metadata": {},
   "outputs": [],
   "source": []
  },
  {
   "cell_type": "code",
   "execution_count": null,
   "id": "34a32be1",
   "metadata": {},
   "outputs": [],
   "source": []
  },
  {
   "cell_type": "markdown",
   "id": "2b7d36a0",
   "metadata": {},
   "source": [
    "4. <p>Use you best 3 models to predict and evaluate on your validate sample.</p>\n"
   ]
  },
  {
   "cell_type": "code",
   "execution_count": null,
   "id": "e93c9915",
   "metadata": {},
   "outputs": [],
   "source": []
  },
  {
   "cell_type": "code",
   "execution_count": null,
   "id": "85d58b13",
   "metadata": {},
   "outputs": [],
   "source": []
  },
  {
   "cell_type": "code",
   "execution_count": null,
   "id": "e2e3f27f",
   "metadata": {},
   "outputs": [],
   "source": []
  },
  {
   "cell_type": "code",
   "execution_count": null,
   "id": "8d80a7dd",
   "metadata": {},
   "outputs": [],
   "source": []
  },
  {
   "cell_type": "code",
   "execution_count": null,
   "id": "e2e829dd",
   "metadata": {},
   "outputs": [],
   "source": []
  },
  {
   "cell_type": "code",
   "execution_count": null,
   "id": "cc31928b",
   "metadata": {},
   "outputs": [],
   "source": []
  },
  {
   "cell_type": "markdown",
   "id": "5fe7b4d3",
   "metadata": {},
   "source": [
    "5. <p>Choose you best model from the validation performation, and evaluate it on the test dataset.  </p>\n",
    "\n",
    "\n"
   ]
  },
  {
   "cell_type": "code",
   "execution_count": null,
   "id": "99b4b8fe",
   "metadata": {},
   "outputs": [],
   "source": []
  },
  {
   "cell_type": "code",
   "execution_count": null,
   "id": "3ad4384f",
   "metadata": {},
   "outputs": [],
   "source": []
  },
  {
   "cell_type": "code",
   "execution_count": null,
   "id": "3644dde0",
   "metadata": {},
   "outputs": [],
   "source": []
  },
  {
   "cell_type": "code",
   "execution_count": null,
   "id": "558534b0",
   "metadata": {},
   "outputs": [],
   "source": []
  },
  {
   "cell_type": "code",
   "execution_count": null,
   "id": "be1ab871",
   "metadata": {},
   "outputs": [],
   "source": []
  },
  {
   "cell_type": "markdown",
   "id": "a24f1e2d",
   "metadata": {},
   "source": [
    "- How do the performance metrics compare to validate? "
   ]
  },
  {
   "cell_type": "code",
   "execution_count": null,
   "id": "c337fd1e",
   "metadata": {},
   "outputs": [],
   "source": []
  },
  {
   "cell_type": "code",
   "execution_count": null,
   "id": "1badbfba",
   "metadata": {},
   "outputs": [],
   "source": []
  },
  {
   "cell_type": "code",
   "execution_count": null,
   "id": "ad522958",
   "metadata": {},
   "outputs": [],
   "source": []
  },
  {
   "cell_type": "code",
   "execution_count": null,
   "id": "ba53e1b6",
   "metadata": {},
   "outputs": [],
   "source": []
  },
  {
   "cell_type": "code",
   "execution_count": null,
   "id": "03aa8ff4",
   "metadata": {},
   "outputs": [],
   "source": []
  },
  {
   "cell_type": "markdown",
   "id": "ba9f3d93",
   "metadata": {},
   "source": [
    "- to train?"
   ]
  },
  {
   "cell_type": "code",
   "execution_count": null,
   "id": "bad08b27",
   "metadata": {},
   "outputs": [],
   "source": []
  },
  {
   "cell_type": "code",
   "execution_count": null,
   "id": "9a1cad60",
   "metadata": {},
   "outputs": [],
   "source": []
  },
  {
   "cell_type": "code",
   "execution_count": null,
   "id": "870657e9",
   "metadata": {},
   "outputs": [],
   "source": []
  },
  {
   "cell_type": "code",
   "execution_count": null,
   "id": "8098d1f4",
   "metadata": {},
   "outputs": [],
   "source": []
  },
  {
   "cell_type": "code",
   "execution_count": null,
   "id": "674aef24",
   "metadata": {},
   "outputs": [],
   "source": []
  },
  {
   "cell_type": "code",
   "execution_count": null,
   "id": "1dac72e5",
   "metadata": {},
   "outputs": [],
   "source": []
  },
  {
   "cell_type": "markdown",
   "id": "13948909",
   "metadata": {},
   "source": [
    "\n",
    "<p><strong>Bonus1</strong> How do different strategies for handling the missing values in\n",
    "   the age column affect model performance?</p>\n"
   ]
  },
  {
   "cell_type": "code",
   "execution_count": null,
   "id": "24cf34ef",
   "metadata": {},
   "outputs": [],
   "source": []
  },
  {
   "cell_type": "code",
   "execution_count": null,
   "id": "67d97578",
   "metadata": {},
   "outputs": [],
   "source": []
  },
  {
   "cell_type": "code",
   "execution_count": null,
   "id": "115a8434",
   "metadata": {},
   "outputs": [],
   "source": []
  },
  {
   "cell_type": "code",
   "execution_count": null,
   "id": "e172f324",
   "metadata": {},
   "outputs": [],
   "source": []
  },
  {
   "cell_type": "code",
   "execution_count": null,
   "id": "58dde1a3",
   "metadata": {},
   "outputs": [],
   "source": []
  },
  {
   "cell_type": "code",
   "execution_count": null,
   "id": "e374d031",
   "metadata": {},
   "outputs": [],
   "source": []
  },
  {
   "cell_type": "code",
   "execution_count": null,
   "id": "e406de2f",
   "metadata": {},
   "outputs": [],
   "source": []
  },
  {
   "cell_type": "markdown",
   "id": "50c80432",
   "metadata": {},
   "source": [
    "<p><strong>Bonus2</strong>: How do different strategies for encoding sex affect model\n",
    "   performance?</p>\n"
   ]
  },
  {
   "cell_type": "code",
   "execution_count": null,
   "id": "ac663ec3",
   "metadata": {},
   "outputs": [],
   "source": []
  },
  {
   "cell_type": "code",
   "execution_count": null,
   "id": "cd4b5b09",
   "metadata": {},
   "outputs": [],
   "source": []
  },
  {
   "cell_type": "code",
   "execution_count": null,
   "id": "ba270ec6",
   "metadata": {},
   "outputs": [],
   "source": []
  },
  {
   "cell_type": "code",
   "execution_count": null,
   "id": "2436ab69",
   "metadata": {},
   "outputs": [],
   "source": []
  },
  {
   "cell_type": "code",
   "execution_count": null,
   "id": "bbcb3d47",
   "metadata": {},
   "outputs": [],
   "source": []
  },
  {
   "cell_type": "code",
   "execution_count": null,
   "id": "21cd0616",
   "metadata": {},
   "outputs": [],
   "source": []
  },
  {
   "cell_type": "code",
   "execution_count": null,
   "id": "f97de588",
   "metadata": {},
   "outputs": [],
   "source": []
  },
  {
   "cell_type": "markdown",
   "id": "3f90eeda",
   "metadata": {},
   "source": [
    "<p><strong>Bonus3</strong>: <code>scikit-learn</code>'s <code>LogisticRegression</code> classifier is actually\n",
    "   applying <a href=\"https://en.wikipedia.org/wiki/Regularized_least_squares\">a regularization penalty to the coefficients</a> by default.\n",
    "   This penalty causes the magnitude of the coefficients in the resulting\n",
    "   model to be smaller than they otherwise would be. This value can be\n",
    "   modified with the <code>C</code> hyper parameter. Small values of <code>C</code> correspond to\n",
    "   a larger penalty, and large values of <code>C</code> correspond to a smaller penalty.<br /><br />   \n",
    "   Try out the following values for <code>C</code> and note how the coefficients and\n",
    "   the model's performance on both the dataset it was trained on and on the\n",
    "   validate split are affected..<br /><br />\n",
    "    C = .01, .1, 1, 10, 100, 1000</p>\n"
   ]
  },
  {
   "cell_type": "code",
   "execution_count": null,
   "id": "8318b9fe",
   "metadata": {},
   "outputs": [],
   "source": []
  },
  {
   "cell_type": "code",
   "execution_count": null,
   "id": "5ae55537",
   "metadata": {},
   "outputs": [],
   "source": []
  },
  {
   "cell_type": "code",
   "execution_count": null,
   "id": "5a16af77",
   "metadata": {},
   "outputs": [],
   "source": []
  },
  {
   "cell_type": "code",
   "execution_count": null,
   "id": "169d4378",
   "metadata": {},
   "outputs": [],
   "source": []
  },
  {
   "cell_type": "code",
   "execution_count": null,
   "id": "5c465b36",
   "metadata": {},
   "outputs": [],
   "source": []
  },
  {
   "cell_type": "markdown",
   "id": "1a843e31",
   "metadata": {},
   "source": [
    "<p><strong>Bonus Bonus</strong>: how does scaling the data interact with your choice of <code>C</code>?</p>"
   ]
  },
  {
   "cell_type": "markdown",
   "id": "9a79ab75",
   "metadata": {},
   "source": []
  },
  {
   "cell_type": "markdown",
   "id": "0d1d4b0c",
   "metadata": {},
   "source": []
  },
  {
   "cell_type": "markdown",
   "id": "7739453b",
   "metadata": {},
   "source": []
  },
  {
   "cell_type": "markdown",
   "id": "fdd4f063",
   "metadata": {},
   "source": []
  },
  {
   "cell_type": "markdown",
   "id": "e2f4fbed",
   "metadata": {},
   "source": []
  },
  {
   "cell_type": "markdown",
   "id": "25507021",
   "metadata": {},
   "source": []
  },
  {
   "cell_type": "markdown",
   "id": "c076bc2b",
   "metadata": {},
   "source": []
  }
 ],
 "metadata": {
  "kernelspec": {
   "display_name": "Python 3",
   "language": "python",
   "name": "python3"
  },
  "language_info": {
   "codemirror_mode": {
    "name": "ipython",
    "version": 3
   },
   "file_extension": ".py",
   "mimetype": "text/x-python",
   "name": "python",
   "nbconvert_exporter": "python",
   "pygments_lexer": "ipython3",
   "version": "3.8.8"
  }
 },
 "nbformat": 4,
 "nbformat_minor": 5
}
