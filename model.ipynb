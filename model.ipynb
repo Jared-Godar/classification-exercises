{
 "cells": [
  {
   "cell_type": "markdown",
   "id": "828f0dba",
   "metadata": {},
   "source": [
    "<h2 id=\"exercises\">Exercises</h2>\n",
    "\n",
    "Using the titanic data, in your classification-exercises repository, create a notebook, `model.ipynb` where you will do the following:\n"
   ]
  },
  {
   "cell_type": "markdown",
   "id": "2a1cc898",
   "metadata": {},
   "source": [
    "1. <p>What is your baseline prediction? What is your baseline accuracy? <em>remember: your baseline prediction for a classification problem is predicting the most prevelant class in the training dataset (the mode). When you make those predictions, what is your accuracy? This is your baseline accuracy.</em></p>"
   ]
  },
  {
   "cell_type": "code",
   "execution_count": null,
   "id": "7528663b",
   "metadata": {},
   "outputs": [],
   "source": []
  },
  {
   "cell_type": "markdown",
   "id": "b2bf11ac",
   "metadata": {},
   "source": [
    "2. <p>Fit the decision tree classifier to your training sample and transform (i.e.  make predictions on the training sample)</p>\n",
    "\n"
   ]
  },
  {
   "cell_type": "markdown",
   "id": "5e58b40a",
   "metadata": {},
   "source": []
  },
  {
   "cell_type": "markdown",
   "id": "042aaba7",
   "metadata": {},
   "source": [
    "3. <p>Evaluate your in-sample results using the model score, confusion matrix, and classification report.</p>\n"
   ]
  },
  {
   "cell_type": "code",
   "execution_count": null,
   "id": "25086b4e",
   "metadata": {},
   "outputs": [],
   "source": []
  },
  {
   "cell_type": "markdown",
   "id": "21741a8e",
   "metadata": {},
   "source": [
    "4. <p>Compute:  Accuracy, true positive rate, false positive rate, true negative rate, false negative rate, precision, recall, f1-score, and support.</p>\n"
   ]
  },
  {
   "cell_type": "code",
   "execution_count": null,
   "id": "934a77c3",
   "metadata": {},
   "outputs": [],
   "source": []
  },
  {
   "cell_type": "markdown",
   "id": "93cae7bd",
   "metadata": {},
   "source": [
    "5. <p>Run through steps 2-4 using a different <code>max_depth</code> value.</p>\n"
   ]
  },
  {
   "cell_type": "code",
   "execution_count": null,
   "id": "f0b4a4b5",
   "metadata": {},
   "outputs": [],
   "source": []
  },
  {
   "cell_type": "markdown",
   "id": "962a751c",
   "metadata": {},
   "source": [
    "6. <p>Which model performs better on your in-sample data?</p>\n"
   ]
  },
  {
   "cell_type": "code",
   "execution_count": null,
   "id": "03f96c96",
   "metadata": {},
   "outputs": [],
   "source": []
  },
  {
   "cell_type": "markdown",
   "id": "f017686d",
   "metadata": {},
   "source": [
    "7. <p>Which model performs best on your out-of-sample data, the <code>validate</code> set?</p>\n"
   ]
  },
  {
   "cell_type": "code",
   "execution_count": null,
   "id": "ab575cfc",
   "metadata": {},
   "outputs": [],
   "source": []
  },
  {
   "cell_type": "markdown",
   "id": "bb7e6575",
   "metadata": {},
   "source": [
    "---"
   ]
  },
  {
   "cell_type": "markdown",
   "id": "3a01810a",
   "metadata": {},
   "source": [
    "1. Work through these same exercises using the Telco dataset.\n"
   ]
  },
  {
   "cell_type": "code",
   "execution_count": null,
   "id": "5750bc2e",
   "metadata": {},
   "outputs": [],
   "source": []
  },
  {
   "cell_type": "markdown",
   "id": "264b3d99",
   "metadata": {},
   "source": [
    "\n",
    "2. Experiment with this model on other datasets with a higher number of output classes.\n"
   ]
  },
  {
   "cell_type": "code",
   "execution_count": null,
   "id": "1e6e8df5",
   "metadata": {},
   "outputs": [],
   "source": []
  },
  {
   "cell_type": "markdown",
   "id": "2df22870",
   "metadata": {},
   "source": []
  }
 ],
 "metadata": {
  "kernelspec": {
   "display_name": "Python 3",
   "language": "python",
   "name": "python3"
  },
  "language_info": {
   "codemirror_mode": {
    "name": "ipython",
    "version": 3
   },
   "file_extension": ".py",
   "mimetype": "text/x-python",
   "name": "python",
   "nbconvert_exporter": "python",
   "pygments_lexer": "ipython3",
   "version": "3.8.8"
  }
 },
 "nbformat": 4,
 "nbformat_minor": 5
}
